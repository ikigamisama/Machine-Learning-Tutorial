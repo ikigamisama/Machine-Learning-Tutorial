{
 "cells": [
  {
   "cell_type": "code",
   "execution_count": 3,
   "metadata": {},
   "outputs": [],
   "source": [
    "import os \n",
    "import subprocess\n",
    "\n",
    "directory = os.getcwd()\n",
    "\n",
    "pdf_directory = os.path.join(directory, 'pdf')\n",
    "os.makedirs(pdf_directory, exist_ok=True)\n",
    "\n",
    "notebooks = [file for file in os.listdir(directory) if file.endswith('.ipynb')]\n",
    "notebooks.pop()\n",
    "\n",
    "for notebook in notebooks:\n",
    "    notebook_path = os.path.join(directory, notebook)\n",
    "\n",
    "    try:\n",
    "        subprocess.run( f'jupyter nbconvert --to pdf \"{notebook_path}\" --output-dir=\"{pdf_directory}\"',shell=True, check=True)\n",
    "        print(f'Successfully converted {notebook} to PDF in the pdf folder')\n",
    "    except subprocess.CalledProcessError as e:\n",
    "        print(f'Error converting {notebook}: {e}')"
   ]
  },
  {
   "cell_type": "code",
   "execution_count": null,
   "metadata": {},
   "outputs": [],
   "source": []
  }
 ],
 "metadata": {
  "kernelspec": {
   "display_name": "Python 3",
   "language": "python",
   "name": "python3"
  },
  "language_info": {
   "codemirror_mode": {
    "name": "ipython",
    "version": 3
   },
   "file_extension": ".py",
   "mimetype": "text/x-python",
   "name": "python",
   "nbconvert_exporter": "python",
   "pygments_lexer": "ipython3",
   "version": "3.11.4"
  }
 },
 "nbformat": 4,
 "nbformat_minor": 2
}
