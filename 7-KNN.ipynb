{
 "cells": [
  {
   "cell_type": "markdown",
   "metadata": {},
   "source": [
    "# **K Nearest Neighbor**"
   ]
  },
  {
   "cell_type": "markdown",
   "metadata": {},
   "source": [
    "**K-Nearest Neighbor (KNN)** is a supervised machine learning algorithm used for classification and regression tasks. It classifies a new data point based on how its neighbors (the closest data points in the feature space) are classified. In essence, KNN assigns the class of the majority of its K nearest neighbors to the new point. It’s a non-parametric and lazy learning algorithm, meaning it makes decisions based on the entire dataset rather than assuming a specific structure (non-parametric), and it doesn’t explicitly learn a model during training (lazy learning).\n",
    "\n",
    "- **Non-parametric**: No assumptions about the data distribution.\n",
    "\n",
    "- **Lazy learning**: The model simply stores the data and waits until a query (test data) is made before computing anything."
   ]
  },
  {
   "cell_type": "markdown",
   "metadata": {},
   "source": [
    "#### When to Use KNN?\n",
    "\n",
    "KNN is suitable when you have a labeled dataset and you want to classify new, unseen data. However, it is most effective under the following conditions:\n",
    "\n",
    "- **Small to medium-sized datasets**: KNN can become computationally expensive with large datasets, as it requires scanning through all data points to find the neighbors.\n",
    "\n",
    "- **Low-dimensional data**: With high-dimensional data, the distance between data points tends to increase, making it harder for the algorithm to distinguish between neighbors (this is known as the curse of dimensionality).\n",
    "\n",
    "- **Non-linear decision boundaries**: If the decision boundaries between classes are not linear (i.e., they can't be split by a line or hyperplane), KNN can work well since it uses local information.\n",
    "Balanced classes: KNN works best when the number of samples in each class is roughly equal."
   ]
  },
  {
   "attachments": {
    "image.png": {
     "image/png": "[encoded data removed]"
    }
   },
   "cell_type": "markdown",
   "metadata": {},
   "source": [
    "#### How Does KNN Work?\n",
    "\n",
    "1. **hoose K (the number of neighbors)**: This is a user-defined parameter. Typically, an odd number is chosen to avoid ties in classification. For example, K=3 means the algorithm looks at the 3 nearest neighbors of a data point.\n",
    "\n",
    "2. **Calculate Distance**: For a new data point, the algorithm calculates the distance between this point and all other points in the training dataset. The most common distance metric used is Euclidean distance.\n",
    "\n",
    "![image.png](attachment:image.png)\n",
    "\n",
    "Other distance metrics can be used, like Manhattan distance or Minkowski distance, depending on the dataset and the problem.\n",
    "\n",
    "3. **Find the K Nearest Neighbors**: After calculating the distance between the new data point and every other point in the dataset, KNN selects the K closest points.\n",
    "\n",
    "4. Assign a Class or Predict Value:\n",
    "\n",
    "    - **For classification**: The class label that appears most frequently among the K nearest neighbors is assigned to the new data point.\n",
    "    - **For regression**: The mean (or sometimes median) of the values of the K nearest neighbors is taken as the predicted value for the new data point.\n",
    "\n",
    "5. **Result**: The algorithm outputs either the predicted class label (for classification) or a predicted value (for regression)."
   ]
  },
  {
   "cell_type": "markdown",
   "metadata": {},
   "source": [
    "#### Advantages of KNN:\n",
    "\n",
    "- **Simple to implement**: KNN requires no assumptions about the underlying data, making it easy to use.\n",
    "\n",
    "- **Flexible**: Can be used for both classification and regression problems.\n",
    "\n",
    "- **No training phase**: As a lazy learner, KNN does not require a separate training phase, making it efficient in terms of time before making predictions.\n",
    "\n",
    "#### Disadvantages of KNN:\n",
    "\n",
    "- **Computationally expensive**: As it compares every new point with all points in the training data, it can be slow with large datasets.\n",
    "\n",
    "- **Memory-intensive**: Since the entire dataset needs to be stored, it requires more memory as the dataset grows.\n",
    "\n",
    "- **Sensitive to irrelevant features**: If the dataset has many irrelevant features, the distance metric may be distorted, leading to poor performance.\n",
    "\n",
    "- **Sensitive to the choice of K**: A poor choice of K can lead to underfitting (if K is too large) or overfitting (if K is too small)."
   ]
  },
  {
   "cell_type": "markdown",
   "metadata": {},
   "source": [
    "#### Real-World Applications:\n",
    "\n",
    "1. **Image Recognition**: KNN can classify images based on similarity, such as facial recognition or object classification.\n",
    "\n",
    "2. **Recommender Systems**: KNN can be used to find similar items to recommend to users based on their preferences.\n",
    "\n",
    "3. **Medical Diagnosis**: It’s used to classify diseases based on the symptoms and historical data of patients.\n",
    "\n",
    "4. **Finance**: KNN is used to detect outliers or categorize financial transactions (e.g., fraud detection).\n",
    "\n",
    "5. **Document Classification**: Used in text mining to classify documents into predefined categories."
   ]
  },
  {
   "cell_type": "code",
   "execution_count": 1,
   "metadata": {},
   "outputs": [],
   "source": [
    "import pandas as pd\n",
    "from sklearn.preprocessing import MinMaxScaler\n",
    "from sklearn.model_selection import train_test_split\n",
    "from sklearn.neighbors import KNeighborsClassifier\n",
    "from sklearn.metrics import confusion_matrix, classification_report\n"
   ]
  },
  {
   "cell_type": "code",
   "execution_count": 2,
   "metadata": {},
   "outputs": [
    {
     "data": {
      "text/html": [
       "<div>\n",
       "<style scoped>\n",
       "    .dataframe tbody tr th:only-of-type {\n",
       "        vertical-align: middle;\n",
       "    }\n",
       "\n",
       "    .dataframe tbody tr th {\n",
       "        vertical-align: top;\n",
       "    }\n",
       "\n",
       "    .dataframe thead th {\n",
       "        text-align: right;\n",
       "    }\n",
       "</style>\n",
       "<table border=\"1\" class=\"dataframe\">\n",
       "  <thead>\n",
       "    <tr style=\"text-align: right;\">\n",
       "      <th></th>\n",
       "      <th>PLAYER</th>\n",
       "      <th>YRS</th>\n",
       "      <th>G</th>\n",
       "      <th>AB</th>\n",
       "      <th>R</th>\n",
       "      <th>H</th>\n",
       "      <th>2B</th>\n",
       "      <th>3B</th>\n",
       "      <th>HR</th>\n",
       "      <th>RBI</th>\n",
       "      <th>BB</th>\n",
       "      <th>SO</th>\n",
       "      <th>SB</th>\n",
       "      <th>CS</th>\n",
       "      <th>BA</th>\n",
       "      <th>HOF</th>\n",
       "    </tr>\n",
       "  </thead>\n",
       "  <tbody>\n",
       "    <tr>\n",
       "      <th>0</th>\n",
       "      <td>Ty Cobb</td>\n",
       "      <td>24</td>\n",
       "      <td>3035</td>\n",
       "      <td>11434</td>\n",
       "      <td>2246</td>\n",
       "      <td>4189</td>\n",
       "      <td>724</td>\n",
       "      <td>295</td>\n",
       "      <td>117</td>\n",
       "      <td>726</td>\n",
       "      <td>1249</td>\n",
       "      <td>357</td>\n",
       "      <td>892</td>\n",
       "      <td>178</td>\n",
       "      <td>0.366</td>\n",
       "      <td>1</td>\n",
       "    </tr>\n",
       "    <tr>\n",
       "      <th>1</th>\n",
       "      <td>Stan Musial</td>\n",
       "      <td>22</td>\n",
       "      <td>3026</td>\n",
       "      <td>10972</td>\n",
       "      <td>1949</td>\n",
       "      <td>3630</td>\n",
       "      <td>725</td>\n",
       "      <td>177</td>\n",
       "      <td>475</td>\n",
       "      <td>1951</td>\n",
       "      <td>1599</td>\n",
       "      <td>696</td>\n",
       "      <td>78</td>\n",
       "      <td>31</td>\n",
       "      <td>0.331</td>\n",
       "      <td>1</td>\n",
       "    </tr>\n",
       "    <tr>\n",
       "      <th>2</th>\n",
       "      <td>Tris Speaker</td>\n",
       "      <td>22</td>\n",
       "      <td>2789</td>\n",
       "      <td>10195</td>\n",
       "      <td>1882</td>\n",
       "      <td>3514</td>\n",
       "      <td>792</td>\n",
       "      <td>222</td>\n",
       "      <td>117</td>\n",
       "      <td>724</td>\n",
       "      <td>1381</td>\n",
       "      <td>220</td>\n",
       "      <td>432</td>\n",
       "      <td>129</td>\n",
       "      <td>0.345</td>\n",
       "      <td>1</td>\n",
       "    </tr>\n",
       "    <tr>\n",
       "      <th>3</th>\n",
       "      <td>Derek Jeter</td>\n",
       "      <td>20</td>\n",
       "      <td>2747</td>\n",
       "      <td>11195</td>\n",
       "      <td>1923</td>\n",
       "      <td>3465</td>\n",
       "      <td>544</td>\n",
       "      <td>66</td>\n",
       "      <td>260</td>\n",
       "      <td>1311</td>\n",
       "      <td>1082</td>\n",
       "      <td>1840</td>\n",
       "      <td>358</td>\n",
       "      <td>97</td>\n",
       "      <td>0.310</td>\n",
       "      <td>1</td>\n",
       "    </tr>\n",
       "    <tr>\n",
       "      <th>4</th>\n",
       "      <td>Honus Wagner</td>\n",
       "      <td>21</td>\n",
       "      <td>2792</td>\n",
       "      <td>10430</td>\n",
       "      <td>1736</td>\n",
       "      <td>3430</td>\n",
       "      <td>640</td>\n",
       "      <td>252</td>\n",
       "      <td>101</td>\n",
       "      <td>0</td>\n",
       "      <td>963</td>\n",
       "      <td>327</td>\n",
       "      <td>722</td>\n",
       "      <td>15</td>\n",
       "      <td>0.329</td>\n",
       "      <td>1</td>\n",
       "    </tr>\n",
       "  </tbody>\n",
       "</table>\n",
       "</div>"
      ],
      "text/plain": [
       "         PLAYER  YRS     G     AB     R     H   2B   3B   HR   RBI    BB  \\\n",
       "0       Ty Cobb   24  3035  11434  2246  4189  724  295  117   726  1249   \n",
       "1   Stan Musial   22  3026  10972  1949  3630  725  177  475  1951  1599   \n",
       "2  Tris Speaker   22  2789  10195  1882  3514  792  222  117   724  1381   \n",
       "3   Derek Jeter   20  2747  11195  1923  3465  544   66  260  1311  1082   \n",
       "4  Honus Wagner   21  2792  10430  1736  3430  640  252  101     0   963   \n",
       "\n",
       "     SO   SB   CS     BA  HOF  \n",
       "0   357  892  178  0.366    1  \n",
       "1   696   78   31  0.331    1  \n",
       "2   220  432  129  0.345    1  \n",
       "3  1840  358   97  0.310    1  \n",
       "4   327  722   15  0.329    1  "
      ]
     },
     "execution_count": 2,
     "metadata": {},
     "output_type": "execute_result"
    }
   ],
   "source": [
    "df = pd.read_csv('500hits.csv', encoding=\"latin-1\")\n",
    "df.head()"
   ]
  },
  {
   "cell_type": "code",
   "execution_count": 3,
   "metadata": {},
   "outputs": [
    {
     "data": {
      "text/html": [
       "<div>\n",
       "<style scoped>\n",
       "    .dataframe tbody tr th:only-of-type {\n",
       "        vertical-align: middle;\n",
       "    }\n",
       "\n",
       "    .dataframe tbody tr th {\n",
       "        vertical-align: top;\n",
       "    }\n",
       "\n",
       "    .dataframe thead th {\n",
       "        text-align: right;\n",
       "    }\n",
       "</style>\n",
       "<table border=\"1\" class=\"dataframe\">\n",
       "  <thead>\n",
       "    <tr style=\"text-align: right;\">\n",
       "      <th></th>\n",
       "      <th>YRS</th>\n",
       "      <th>G</th>\n",
       "      <th>AB</th>\n",
       "      <th>R</th>\n",
       "      <th>H</th>\n",
       "      <th>2B</th>\n",
       "      <th>3B</th>\n",
       "      <th>HR</th>\n",
       "      <th>RBI</th>\n",
       "      <th>BB</th>\n",
       "      <th>SO</th>\n",
       "      <th>SB</th>\n",
       "      <th>BA</th>\n",
       "      <th>HOF</th>\n",
       "    </tr>\n",
       "  </thead>\n",
       "  <tbody>\n",
       "    <tr>\n",
       "      <th>0</th>\n",
       "      <td>24</td>\n",
       "      <td>3035</td>\n",
       "      <td>11434</td>\n",
       "      <td>2246</td>\n",
       "      <td>4189</td>\n",
       "      <td>724</td>\n",
       "      <td>295</td>\n",
       "      <td>117</td>\n",
       "      <td>726</td>\n",
       "      <td>1249</td>\n",
       "      <td>357</td>\n",
       "      <td>892</td>\n",
       "      <td>0.366</td>\n",
       "      <td>1</td>\n",
       "    </tr>\n",
       "    <tr>\n",
       "      <th>1</th>\n",
       "      <td>22</td>\n",
       "      <td>3026</td>\n",
       "      <td>10972</td>\n",
       "      <td>1949</td>\n",
       "      <td>3630</td>\n",
       "      <td>725</td>\n",
       "      <td>177</td>\n",
       "      <td>475</td>\n",
       "      <td>1951</td>\n",
       "      <td>1599</td>\n",
       "      <td>696</td>\n",
       "      <td>78</td>\n",
       "      <td>0.331</td>\n",
       "      <td>1</td>\n",
       "    </tr>\n",
       "    <tr>\n",
       "      <th>2</th>\n",
       "      <td>22</td>\n",
       "      <td>2789</td>\n",
       "      <td>10195</td>\n",
       "      <td>1882</td>\n",
       "      <td>3514</td>\n",
       "      <td>792</td>\n",
       "      <td>222</td>\n",
       "      <td>117</td>\n",
       "      <td>724</td>\n",
       "      <td>1381</td>\n",
       "      <td>220</td>\n",
       "      <td>432</td>\n",
       "      <td>0.345</td>\n",
       "      <td>1</td>\n",
       "    </tr>\n",
       "    <tr>\n",
       "      <th>3</th>\n",
       "      <td>20</td>\n",
       "      <td>2747</td>\n",
       "      <td>11195</td>\n",
       "      <td>1923</td>\n",
       "      <td>3465</td>\n",
       "      <td>544</td>\n",
       "      <td>66</td>\n",
       "      <td>260</td>\n",
       "      <td>1311</td>\n",
       "      <td>1082</td>\n",
       "      <td>1840</td>\n",
       "      <td>358</td>\n",
       "      <td>0.310</td>\n",
       "      <td>1</td>\n",
       "    </tr>\n",
       "    <tr>\n",
       "      <th>4</th>\n",
       "      <td>21</td>\n",
       "      <td>2792</td>\n",
       "      <td>10430</td>\n",
       "      <td>1736</td>\n",
       "      <td>3430</td>\n",
       "      <td>640</td>\n",
       "      <td>252</td>\n",
       "      <td>101</td>\n",
       "      <td>0</td>\n",
       "      <td>963</td>\n",
       "      <td>327</td>\n",
       "      <td>722</td>\n",
       "      <td>0.329</td>\n",
       "      <td>1</td>\n",
       "    </tr>\n",
       "  </tbody>\n",
       "</table>\n",
       "</div>"
      ],
      "text/plain": [
       "   YRS     G     AB     R     H   2B   3B   HR   RBI    BB    SO   SB     BA  \\\n",
       "0   24  3035  11434  2246  4189  724  295  117   726  1249   357  892  0.366   \n",
       "1   22  3026  10972  1949  3630  725  177  475  1951  1599   696   78  0.331   \n",
       "2   22  2789  10195  1882  3514  792  222  117   724  1381   220  432  0.345   \n",
       "3   20  2747  11195  1923  3465  544   66  260  1311  1082  1840  358  0.310   \n",
       "4   21  2792  10430  1736  3430  640  252  101     0   963   327  722  0.329   \n",
       "\n",
       "   HOF  \n",
       "0    1  \n",
       "1    1  \n",
       "2    1  \n",
       "3    1  \n",
       "4    1  "
      ]
     },
     "execution_count": 3,
     "metadata": {},
     "output_type": "execute_result"
    }
   ],
   "source": [
    "df = df.drop(columns=['PLAYER', 'CS'])\n",
    "df.head()"
   ]
  },
  {
   "cell_type": "code",
   "execution_count": 6,
   "metadata": {},
   "outputs": [],
   "source": [
    "X = df.iloc[:,0:13]\n",
    "y = df.iloc[:,13]"
   ]
  },
  {
   "cell_type": "code",
   "execution_count": 7,
   "metadata": {},
   "outputs": [],
   "source": [
    "X_train, X_test, y_train, y_test = train_test_split(X, y, random_state=11, test_size=0.2)\n",
    "\n",
    "scaler = MinMaxScaler(feature_range=(0,1))\n",
    "\n",
    "X_train = scaler.fit_transform(X_train)\n",
    "X_test = scaler.fit_transform(X_test)"
   ]
  },
  {
   "cell_type": "code",
   "execution_count": 10,
   "metadata": {},
   "outputs": [
    {
     "data": {
      "text/plain": [
       "array([0, 0, 1, 0, 0, 0, 0, 1, 0, 0, 0, 0, 0, 0, 0, 1, 0, 1, 1, 0, 1, 0,\n",
       "       0, 0, 0, 0, 0, 1, 0, 0, 0, 1, 1, 1, 0, 1, 0, 0, 1, 0, 0, 1, 0, 0,\n",
       "       0, 1, 0, 0, 1, 0, 1, 1, 0, 1, 1, 1, 0, 0, 1, 0, 1, 0, 1, 1, 0, 0,\n",
       "       1, 1, 0, 1, 0, 0, 0, 0, 1, 0, 0, 1, 0, 0, 0, 0, 1, 1, 0, 1, 0, 0,\n",
       "       0, 0, 0, 1, 1], dtype=int64)"
      ]
     },
     "execution_count": 10,
     "metadata": {},
     "output_type": "execute_result"
    }
   ],
   "source": [
    "knn = KNeighborsClassifier(n_neighbors=8)\n",
    "knn.fit(X_train, y_train)\n",
    "\n",
    "y_pred = knn.predict(X_test)\n",
    "y_pred"
   ]
  },
  {
   "cell_type": "code",
   "execution_count": 11,
   "metadata": {},
   "outputs": [
    {
     "data": {
      "text/plain": [
       "0.8279569892473119"
      ]
     },
     "execution_count": 11,
     "metadata": {},
     "output_type": "execute_result"
    }
   ],
   "source": [
    "knn.score(X_test, y_test)"
   ]
  },
  {
   "cell_type": "markdown",
   "metadata": {},
   "source": [
    "## Confusion Matrix"
   ]
  },
  {
   "cell_type": "code",
   "execution_count": 12,
   "metadata": {},
   "outputs": [
    {
     "data": {
      "text/plain": [
       "array([[55, 12],\n",
       "       [ 4, 22]], dtype=int64)"
      ]
     },
     "execution_count": 12,
     "metadata": {},
     "output_type": "execute_result"
    }
   ],
   "source": [
    "cm = confusion_matrix(y_test, y_pred)\n",
    "cm"
   ]
  },
  {
   "cell_type": "markdown",
   "metadata": {},
   "source": [
    "## Classification Report"
   ]
  },
  {
   "cell_type": "code",
   "execution_count": 15,
   "metadata": {},
   "outputs": [
    {
     "name": "stdout",
     "output_type": "stream",
     "text": [
      "              precision    recall  f1-score   support\n",
      "\n",
      "           0       0.93      0.82      0.87        67\n",
      "           1       0.65      0.85      0.73        26\n",
      "\n",
      "    accuracy                           0.83        93\n",
      "   macro avg       0.79      0.83      0.80        93\n",
      "weighted avg       0.85      0.83      0.83        93\n",
      "\n"
     ]
    }
   ],
   "source": [
    "cr = classification_report(y_test, y_pred)\n",
    "print(cr)"
   ]
  },
  {
   "cell_type": "code",
   "execution_count": 16,
   "metadata": {},
   "outputs": [
    {
     "name": "stdout",
     "output_type": "stream",
     "text": [
      "372\n"
     ]
    }
   ],
   "source": [
    "print(knn.n_samples_fit_)"
   ]
  }
 ],
 "metadata": {
  "kernelspec": {
   "display_name": "Python 3",
   "language": "python",
   "name": "python3"
  },
  "language_info": {
   "codemirror_mode": {
    "name": "ipython",
    "version": 3
   },
   "file_extension": ".py",
   "mimetype": "text/x-python",
   "name": "python",
   "nbconvert_exporter": "python",
   "pygments_lexer": "ipython3",
   "version": "3.11.4"
  }
 },
 "nbformat": 4,
 "nbformat_minor": 2
}
