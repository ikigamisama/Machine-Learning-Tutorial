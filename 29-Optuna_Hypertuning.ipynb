{
	"cells": [
		{
			"cell_type": "markdown",
			"metadata": {},
			"source": [
				"# **Hypertuning with Optuna**"
			]
		},
		{
			"cell_type": "markdown",
			"metadata": {},
			"source": [
				"**Optuna** is an open-source, hyperparameter optimization framework designed for machine learning and deep learning models. It automates the search for optimal hyperparameters, helping data scientists and machine learning engineers tune models more efficiently. Optuna is flexible, scalable, and supports both sequential and parallel optimization, allowing it to adapt to different scales of problems.\n",
				"\n",
				"Optuna’s key strength is its define-by-run approach, where hyperparameter configurations are dynamically constructed during each trial, making it more efficient and flexible than traditional grid or random search methods."
			]
		},
		{
			"cell_type": "markdown",
			"metadata": {},
			"source": [
				"### Why is Optuna Important?\n",
				"\n",
				"Tuning hyperparameters is a critical part of improving machine learning models’ performance, but it can be extremely time-consuming, especially for complex models like deep neural networks or ensembles. Optuna helps by:\n",
				"\n",
				"- **Automating hyperparameter search**: Reducing the manual effort required to find optimal settings.\n",
				"\n",
				"- **Efficient search**: Optuna uses sophisticated algorithms like Tree-structured Parzen Estimator (TPE) and CMA-ES (Covariance Matrix Adaptation Evolution Strategy) to explore the hyperparameter space more intelligently than grid or random search.\n",
				"\n",
				"- **Early stopping**: It includes pruning to stop trials that are not promising early, saving time and computational resources.\n",
				"\n",
				"- **Scalability**: Optuna can be easily scaled to large clusters or cloud environments, making it practical for tuning complex models."
			]
		},
		{
			"cell_type": "markdown",
			"metadata": {},
			"source": [
				"### How does Optuna Hypertuning Work?\n",
				"\n",
				"Optuna performs hyperparameter optimization through an iterative process called trials, where each trial represents a single set of hyperparameters and their corresponding evaluation. Optuna tries to minimize (or maximize) the objective function defined by the user. Here’s how it works:\n",
				"\n",
				"**1. Define the Objective Function**: The objective function evaluates the model’s performance using a given set of hyperparameters. It returns a metric (like accuracy, loss, etc.) to minimize (or maximize).\n",
				"\n",
				"**2. Sampling Hyperparameters**: Optuna uses advanced optimization algorithms like TPE or CMA-ES to select hyperparameter values for each trial. It doesn’t just randomly choose values but uses past trial results to guide the search toward more promising regions of the hyperparameter space.\n",
				"\n",
				"**3. Run Trials**: Optuna evaluates the model with the selected hyperparameters in each trial and records the objective value (e.g., validation accuracy or loss).\n",
				"\n",
				"**4. Pruning**: If a trial is not performing well, Optuna can prune (i.e., stop) it early to save resources and move on to more promising hyperparameter combinations.\n",
				"\n",
				"**5. Repeat**: Optuna repeats the trial process multiple times (as defined by the user) until it finds the best set of hyperparameters or the predefined number of trials is completed."
			]
		},
		{
			"cell_type": "markdown",
			"metadata": {},
			"source": [
				"### How does Optuna Compare to Other Hyperparameter Optimization Methods?\n",
				"\n",
				"| Method | Pros | Cons |\n",
				"| ------ | ---- | ---- |\n",
				"| Grid Search | Exhaustively searches through predefined values. | Computationally expensive. Limited by pre-defined grid. |\n",
				"| Random Search | Explores the search space randomly and is simpler than grid. | Inefficient for large search spaces. May miss optimal values. |\n",
				"| Bayesian Search | More efficient by modeling the function being optimized. | Requires more complex setup. Slower for high-dimensional spaces. |\n",
				"| Optuna | Define-by-run, efficient search with pruning and parallelism. | More complex to set up than simple random or grid search. |\n"
			]
		},
		{
			"cell_type": "markdown",
			"metadata": {},
			"source": [
				"### When should you use Optuna?\n",
				"\n",
				"- **Hyperparameter Optimization for Complex Models**: If you are working with complex machine learning models like Gradient Boosting, Deep Neural Networks, or ensembles, where manual tuning is impractical.\n",
				"\n",
				"- **Large Hyperparameter Search Space**: When the number of hyperparameters and possible values is large, Optuna’s efficiency makes it superior to grid or random search.\n",
				"\n",
				"- **Need for Resource Efficiency**: Optuna’s ability to prune underperforming trials helps save computational time and resources, making it ideal for long-running tasks or expensive-to-evaluate models."
			]
		},
		{
			"cell_type": "markdown",
			"metadata": {},
			"source": [
				"### Who uses Optuna?\n",
				"\n",
				"- **Machine Learning Engineers and Data Scientists**: Optuna is widely adopted by professionals working on machine learning projects where hyperparameter optimization is crucial for achieving high performance.\n",
				"\n",
				"- **Deep Learning Researchers**: Researchers often use Optuna for neural network hyperparameter tuning, as it efficiently searches through learning rates, optimizers, and architectures.\n",
				"\n",
				"- **Kaggle Competitors**: Competitors in machine learning competitions use Optuna to gain an edge by finding the best possible hyperparameters."
			]
		},
		{
			"cell_type": "markdown",
			"metadata": {},
			"source": [
				"### Key Features of Optuna:\n",
				"\n",
				"**1. Define-by-Run**: Hyperparameter space is defined dynamically during the execution of the trials, allowing for flexibility in how you construct and explore the space.\n",
				"\n",
				"**2. Pruning**: Automatically stops unpromising trials to save computation time and focus on better-performing hyperparameter combinations.\n",
				"\n",
				"**3. Parallelism**: Optuna supports running multiple trials in parallel across different CPU or GPU resources, speeding up the search process.\n",
				"\n",
				"**4. Visualization**: Provides built-in tools for visualizing optimization history, parameter importance, and more, making it easier to analyze the optimization process."
			]
		},
		{
			"cell_type": "markdown",
			"metadata": {},
			"source": [
				"### Advantages of Optuna:\n",
				"\n",
				"- **Efficient Optimization**: Optuna uses state-of-the-art algorithms like TPE for efficient hyperparameter search, making it faster than random or grid search.\n",
				"\n",
				"- **Dynamic Construction**: Unlike grid search, Optuna builds the hyperparameter space dynamically, making it more flexible.\n",
				"\n",
				"- **Automatic Pruning**: Unpromising trials are stopped early, saving computation time.\n",
				"Parallelization: Optuna can parallelize trials to speed up the optimization process.\n",
				"\n",
				"- **Visualization Tools**: Optuna includes tools to visualize the optimization process, which helps in understanding how hyperparameters impact model performance."
			]
		},
		{
			"cell_type": "code",
			"execution_count": 34,
			"metadata": {},
			"outputs": [
				{
					"data": {
						"text/html": [
							"<div>\n",
							"<style scoped>\n",
							"    .dataframe tbody tr th:only-of-type {\n",
							"        vertical-align: middle;\n",
							"    }\n",
							"\n",
							"    .dataframe tbody tr th {\n",
							"        vertical-align: top;\n",
							"    }\n",
							"\n",
							"    .dataframe thead th {\n",
							"        text-align: right;\n",
							"    }\n",
							"</style>\n",
							"<table border=\"1\" class=\"dataframe\">\n",
							"  <thead>\n",
							"    <tr style=\"text-align: right;\">\n",
							"      <th></th>\n",
							"      <th>Year</th>\n",
							"      <th>Spending_USD</th>\n",
							"      <th>Life_Expectancy</th>\n",
							"      <th>Country_Canada</th>\n",
							"      <th>Country_France</th>\n",
							"      <th>Country_Germany</th>\n",
							"      <th>Country_Great Britain</th>\n",
							"      <th>Country_Japan</th>\n",
							"      <th>Country_USA</th>\n",
							"    </tr>\n",
							"  </thead>\n",
							"  <tbody>\n",
							"    <tr>\n",
							"      <th>0</th>\n",
							"      <td>1970</td>\n",
							"      <td>252.311</td>\n",
							"      <td>70.6</td>\n",
							"      <td>False</td>\n",
							"      <td>False</td>\n",
							"      <td>True</td>\n",
							"      <td>False</td>\n",
							"      <td>False</td>\n",
							"      <td>False</td>\n",
							"    </tr>\n",
							"    <tr>\n",
							"      <th>1</th>\n",
							"      <td>1970</td>\n",
							"      <td>192.143</td>\n",
							"      <td>72.2</td>\n",
							"      <td>False</td>\n",
							"      <td>True</td>\n",
							"      <td>False</td>\n",
							"      <td>False</td>\n",
							"      <td>False</td>\n",
							"      <td>False</td>\n",
							"    </tr>\n",
							"    <tr>\n",
							"      <th>2</th>\n",
							"      <td>1970</td>\n",
							"      <td>123.993</td>\n",
							"      <td>71.9</td>\n",
							"      <td>False</td>\n",
							"      <td>False</td>\n",
							"      <td>False</td>\n",
							"      <td>True</td>\n",
							"      <td>False</td>\n",
							"      <td>False</td>\n",
							"    </tr>\n",
							"    <tr>\n",
							"      <th>3</th>\n",
							"      <td>1970</td>\n",
							"      <td>150.437</td>\n",
							"      <td>72.0</td>\n",
							"      <td>False</td>\n",
							"      <td>False</td>\n",
							"      <td>False</td>\n",
							"      <td>False</td>\n",
							"      <td>True</td>\n",
							"      <td>False</td>\n",
							"    </tr>\n",
							"    <tr>\n",
							"      <th>4</th>\n",
							"      <td>1970</td>\n",
							"      <td>326.961</td>\n",
							"      <td>70.9</td>\n",
							"      <td>False</td>\n",
							"      <td>False</td>\n",
							"      <td>False</td>\n",
							"      <td>False</td>\n",
							"      <td>False</td>\n",
							"      <td>True</td>\n",
							"    </tr>\n",
							"    <tr>\n",
							"      <th>...</th>\n",
							"      <td>...</td>\n",
							"      <td>...</td>\n",
							"      <td>...</td>\n",
							"      <td>...</td>\n",
							"      <td>...</td>\n",
							"      <td>...</td>\n",
							"      <td>...</td>\n",
							"      <td>...</td>\n",
							"      <td>...</td>\n",
							"    </tr>\n",
							"    <tr>\n",
							"      <th>269</th>\n",
							"      <td>2020</td>\n",
							"      <td>6938.983</td>\n",
							"      <td>81.1</td>\n",
							"      <td>False</td>\n",
							"      <td>False</td>\n",
							"      <td>True</td>\n",
							"      <td>False</td>\n",
							"      <td>False</td>\n",
							"      <td>False</td>\n",
							"    </tr>\n",
							"    <tr>\n",
							"      <th>270</th>\n",
							"      <td>2020</td>\n",
							"      <td>5468.418</td>\n",
							"      <td>82.3</td>\n",
							"      <td>False</td>\n",
							"      <td>True</td>\n",
							"      <td>False</td>\n",
							"      <td>False</td>\n",
							"      <td>False</td>\n",
							"      <td>False</td>\n",
							"    </tr>\n",
							"    <tr>\n",
							"      <th>271</th>\n",
							"      <td>2020</td>\n",
							"      <td>5018.700</td>\n",
							"      <td>80.4</td>\n",
							"      <td>False</td>\n",
							"      <td>False</td>\n",
							"      <td>False</td>\n",
							"      <td>True</td>\n",
							"      <td>False</td>\n",
							"      <td>False</td>\n",
							"    </tr>\n",
							"    <tr>\n",
							"      <th>272</th>\n",
							"      <td>2020</td>\n",
							"      <td>4665.641</td>\n",
							"      <td>84.7</td>\n",
							"      <td>False</td>\n",
							"      <td>False</td>\n",
							"      <td>False</td>\n",
							"      <td>False</td>\n",
							"      <td>True</td>\n",
							"      <td>False</td>\n",
							"    </tr>\n",
							"    <tr>\n",
							"      <th>273</th>\n",
							"      <td>2020</td>\n",
							"      <td>11859.179</td>\n",
							"      <td>77.0</td>\n",
							"      <td>False</td>\n",
							"      <td>False</td>\n",
							"      <td>False</td>\n",
							"      <td>False</td>\n",
							"      <td>False</td>\n",
							"      <td>True</td>\n",
							"    </tr>\n",
							"  </tbody>\n",
							"</table>\n",
							"<p>274 rows × 9 columns</p>\n",
							"</div>"
						],
						"text/plain": [
							"     Year  Spending_USD  Life_Expectancy  Country_Canada  Country_France  \\\n",
							"0    1970       252.311             70.6           False           False   \n",
							"1    1970       192.143             72.2           False            True   \n",
							"2    1970       123.993             71.9           False           False   \n",
							"3    1970       150.437             72.0           False           False   \n",
							"4    1970       326.961             70.9           False           False   \n",
							"..    ...           ...              ...             ...             ...   \n",
							"269  2020      6938.983             81.1           False           False   \n",
							"270  2020      5468.418             82.3           False            True   \n",
							"271  2020      5018.700             80.4           False           False   \n",
							"272  2020      4665.641             84.7           False           False   \n",
							"273  2020     11859.179             77.0           False           False   \n",
							"\n",
							"     Country_Germany  Country_Great Britain  Country_Japan  Country_USA  \n",
							"0               True                  False          False        False  \n",
							"1              False                  False          False        False  \n",
							"2              False                   True          False        False  \n",
							"3              False                  False           True        False  \n",
							"4              False                  False          False         True  \n",
							"..               ...                    ...            ...          ...  \n",
							"269             True                  False          False        False  \n",
							"270            False                  False          False        False  \n",
							"271            False                   True          False        False  \n",
							"272            False                  False           True        False  \n",
							"273            False                  False          False         True  \n",
							"\n",
							"[274 rows x 9 columns]"
						]
					},
					"execution_count": 34,
					"metadata": {},
					"output_type": "execute_result"
				}
			],
			"source": [
				"import pandas as pd \n",
				"import seaborn as sns\n",
				"import optuna\n",
				"import matplotlib.pyplot as plt\n",
				"\n",
				"from sklearn.model_selection import train_test_split, cross_val_score\n",
				"from sklearn.ensemble import RandomForestRegressor, GradientBoostingRegressor\n",
				"from sklearn.metrics import mean_absolute_error, root_root_mean_squared_error, r2_score\n",
				"\n",
				"healthexp = sns.load_dataset('healthexp')\n",
				"healthexp = pd.get_dummies(healthexp)\n",
				"healthexp"
			]
		},
		{
			"cell_type": "code",
			"execution_count": 27,
			"metadata": {},
			"outputs": [
				{
					"data": {
						"text/html": [
							"<style>#sk-container-id-4 {\n",
							"  /* Definition of color scheme common for light and dark mode */\n",
							"  --sklearn-color-text: black;\n",
							"  --sklearn-color-line: gray;\n",
							"  /* Definition of color scheme for unfitted estimators */\n",
							"  --sklearn-color-unfitted-level-0: #fff5e6;\n",
							"  --sklearn-color-unfitted-level-1: #f6e4d2;\n",
							"  --sklearn-color-unfitted-level-2: #ffe0b3;\n",
							"  --sklearn-color-unfitted-level-3: chocolate;\n",
							"  /* Definition of color scheme for fitted estimators */\n",
							"  --sklearn-color-fitted-level-0: #f0f8ff;\n",
							"  --sklearn-color-fitted-level-1: #d4ebff;\n",
							"  --sklearn-color-fitted-level-2: #b3dbfd;\n",
							"  --sklearn-color-fitted-level-3: cornflowerblue;\n",
							"\n",
							"  /* Specific color for light theme */\n",
							"  --sklearn-color-text-on-default-background: var(--sg-text-color, var(--theme-code-foreground, var(--jp-content-font-color1, black)));\n",
							"  --sklearn-color-background: var(--sg-background-color, var(--theme-background, var(--jp-layout-color0, white)));\n",
							"  --sklearn-color-border-box: var(--sg-text-color, var(--theme-code-foreground, var(--jp-content-font-color1, black)));\n",
							"  --sklearn-color-icon: #696969;\n",
							"\n",
							"  @media (prefers-color-scheme: dark) {\n",
							"    /* Redefinition of color scheme for dark theme */\n",
							"    --sklearn-color-text-on-default-background: var(--sg-text-color, var(--theme-code-foreground, var(--jp-content-font-color1, white)));\n",
							"    --sklearn-color-background: var(--sg-background-color, var(--theme-background, var(--jp-layout-color0, #111)));\n",
							"    --sklearn-color-border-box: var(--sg-text-color, var(--theme-code-foreground, var(--jp-content-font-color1, white)));\n",
							"    --sklearn-color-icon: #878787;\n",
							"  }\n",
							"}\n",
							"\n",
							"#sk-container-id-4 {\n",
							"  color: var(--sklearn-color-text);\n",
							"}\n",
							"\n",
							"#sk-container-id-4 pre {\n",
							"  padding: 0;\n",
							"}\n",
							"\n",
							"#sk-container-id-4 input.sk-hidden--visually {\n",
							"  border: 0;\n",
							"  clip: rect(1px 1px 1px 1px);\n",
							"  clip: rect(1px, 1px, 1px, 1px);\n",
							"  height: 1px;\n",
							"  margin: -1px;\n",
							"  overflow: hidden;\n",
							"  padding: 0;\n",
							"  position: absolute;\n",
							"  width: 1px;\n",
							"}\n",
							"\n",
							"#sk-container-id-4 div.sk-dashed-wrapped {\n",
							"  border: 1px dashed var(--sklearn-color-line);\n",
							"  margin: 0 0.4em 0.5em 0.4em;\n",
							"  box-sizing: border-box;\n",
							"  padding-bottom: 0.4em;\n",
							"  background-color: var(--sklearn-color-background);\n",
							"}\n",
							"\n",
							"#sk-container-id-4 div.sk-container {\n",
							"  /* jupyter's `normalize.less` sets `[hidden] { display: none; }`\n",
							"     but bootstrap.min.css set `[hidden] { display: none !important; }`\n",
							"     so we also need the `!important` here to be able to override the\n",
							"     default hidden behavior on the sphinx rendered scikit-learn.org.\n",
							"     See: https://github.com/scikit-learn/scikit-learn/issues/21755 */\n",
							"  display: inline-block !important;\n",
							"  position: relative;\n",
							"}\n",
							"\n",
							"#sk-container-id-4 div.sk-text-repr-fallback {\n",
							"  display: none;\n",
							"}\n",
							"\n",
							"div.sk-parallel-item,\n",
							"div.sk-serial,\n",
							"div.sk-item {\n",
							"  /* draw centered vertical line to link estimators */\n",
							"  background-image: linear-gradient(var(--sklearn-color-text-on-default-background), var(--sklearn-color-text-on-default-background));\n",
							"  background-size: 2px 100%;\n",
							"  background-repeat: no-repeat;\n",
							"  background-position: center center;\n",
							"}\n",
							"\n",
							"/* Parallel-specific style estimator block */\n",
							"\n",
							"#sk-container-id-4 div.sk-parallel-item::after {\n",
							"  content: \"\";\n",
							"  width: 100%;\n",
							"  border-bottom: 2px solid var(--sklearn-color-text-on-default-background);\n",
							"  flex-grow: 1;\n",
							"}\n",
							"\n",
							"#sk-container-id-4 div.sk-parallel {\n",
							"  display: flex;\n",
							"  align-items: stretch;\n",
							"  justify-content: center;\n",
							"  background-color: var(--sklearn-color-background);\n",
							"  position: relative;\n",
							"}\n",
							"\n",
							"#sk-container-id-4 div.sk-parallel-item {\n",
							"  display: flex;\n",
							"  flex-direction: column;\n",
							"}\n",
							"\n",
							"#sk-container-id-4 div.sk-parallel-item:first-child::after {\n",
							"  align-self: flex-end;\n",
							"  width: 50%;\n",
							"}\n",
							"\n",
							"#sk-container-id-4 div.sk-parallel-item:last-child::after {\n",
							"  align-self: flex-start;\n",
							"  width: 50%;\n",
							"}\n",
							"\n",
							"#sk-container-id-4 div.sk-parallel-item:only-child::after {\n",
							"  width: 0;\n",
							"}\n",
							"\n",
							"/* Serial-specific style estimator block */\n",
							"\n",
							"#sk-container-id-4 div.sk-serial {\n",
							"  display: flex;\n",
							"  flex-direction: column;\n",
							"  align-items: center;\n",
							"  background-color: var(--sklearn-color-background);\n",
							"  padding-right: 1em;\n",
							"  padding-left: 1em;\n",
							"}\n",
							"\n",
							"\n",
							"/* Toggleable style: style used for estimator/Pipeline/ColumnTransformer box that is\n",
							"clickable and can be expanded/collapsed.\n",
							"- Pipeline and ColumnTransformer use this feature and define the default style\n",
							"- Estimators will overwrite some part of the style using the `sk-estimator` class\n",
							"*/\n",
							"\n",
							"/* Pipeline and ColumnTransformer style (default) */\n",
							"\n",
							"#sk-container-id-4 div.sk-toggleable {\n",
							"  /* Default theme specific background. It is overwritten whether we have a\n",
							"  specific estimator or a Pipeline/ColumnTransformer */\n",
							"  background-color: var(--sklearn-color-background);\n",
							"}\n",
							"\n",
							"/* Toggleable label */\n",
							"#sk-container-id-4 label.sk-toggleable__label {\n",
							"  cursor: pointer;\n",
							"  display: block;\n",
							"  width: 100%;\n",
							"  margin-bottom: 0;\n",
							"  padding: 0.5em;\n",
							"  box-sizing: border-box;\n",
							"  text-align: center;\n",
							"}\n",
							"\n",
							"#sk-container-id-4 label.sk-toggleable__label-arrow:before {\n",
							"  /* Arrow on the left of the label */\n",
							"  content: \"▸\";\n",
							"  float: left;\n",
							"  margin-right: 0.25em;\n",
							"  color: var(--sklearn-color-icon);\n",
							"}\n",
							"\n",
							"#sk-container-id-4 label.sk-toggleable__label-arrow:hover:before {\n",
							"  color: var(--sklearn-color-text);\n",
							"}\n",
							"\n",
							"/* Toggleable content - dropdown */\n",
							"\n",
							"#sk-container-id-4 div.sk-toggleable__content {\n",
							"  max-height: 0;\n",
							"  max-width: 0;\n",
							"  overflow: hidden;\n",
							"  text-align: left;\n",
							"  /* unfitted */\n",
							"  background-color: var(--sklearn-color-unfitted-level-0);\n",
							"}\n",
							"\n",
							"#sk-container-id-4 div.sk-toggleable__content.fitted {\n",
							"  /* fitted */\n",
							"  background-color: var(--sklearn-color-fitted-level-0);\n",
							"}\n",
							"\n",
							"#sk-container-id-4 div.sk-toggleable__content pre {\n",
							"  margin: 0.2em;\n",
							"  border-radius: 0.25em;\n",
							"  color: var(--sklearn-color-text);\n",
							"  /* unfitted */\n",
							"  background-color: var(--sklearn-color-unfitted-level-0);\n",
							"}\n",
							"\n",
							"#sk-container-id-4 div.sk-toggleable__content.fitted pre {\n",
							"  /* unfitted */\n",
							"  background-color: var(--sklearn-color-fitted-level-0);\n",
							"}\n",
							"\n",
							"#sk-container-id-4 input.sk-toggleable__control:checked~div.sk-toggleable__content {\n",
							"  /* Expand drop-down */\n",
							"  max-height: 200px;\n",
							"  max-width: 100%;\n",
							"  overflow: auto;\n",
							"}\n",
							"\n",
							"#sk-container-id-4 input.sk-toggleable__control:checked~label.sk-toggleable__label-arrow:before {\n",
							"  content: \"▾\";\n",
							"}\n",
							"\n",
							"/* Pipeline/ColumnTransformer-specific style */\n",
							"\n",
							"#sk-container-id-4 div.sk-label input.sk-toggleable__control:checked~label.sk-toggleable__label {\n",
							"  color: var(--sklearn-color-text);\n",
							"  background-color: var(--sklearn-color-unfitted-level-2);\n",
							"}\n",
							"\n",
							"#sk-container-id-4 div.sk-label.fitted input.sk-toggleable__control:checked~label.sk-toggleable__label {\n",
							"  background-color: var(--sklearn-color-fitted-level-2);\n",
							"}\n",
							"\n",
							"/* Estimator-specific style */\n",
							"\n",
							"/* Colorize estimator box */\n",
							"#sk-container-id-4 div.sk-estimator input.sk-toggleable__control:checked~label.sk-toggleable__label {\n",
							"  /* unfitted */\n",
							"  background-color: var(--sklearn-color-unfitted-level-2);\n",
							"}\n",
							"\n",
							"#sk-container-id-4 div.sk-estimator.fitted input.sk-toggleable__control:checked~label.sk-toggleable__label {\n",
							"  /* fitted */\n",
							"  background-color: var(--sklearn-color-fitted-level-2);\n",
							"}\n",
							"\n",
							"#sk-container-id-4 div.sk-label label.sk-toggleable__label,\n",
							"#sk-container-id-4 div.sk-label label {\n",
							"  /* The background is the default theme color */\n",
							"  color: var(--sklearn-color-text-on-default-background);\n",
							"}\n",
							"\n",
							"/* On hover, darken the color of the background */\n",
							"#sk-container-id-4 div.sk-label:hover label.sk-toggleable__label {\n",
							"  color: var(--sklearn-color-text);\n",
							"  background-color: var(--sklearn-color-unfitted-level-2);\n",
							"}\n",
							"\n",
							"/* Label box, darken color on hover, fitted */\n",
							"#sk-container-id-4 div.sk-label.fitted:hover label.sk-toggleable__label.fitted {\n",
							"  color: var(--sklearn-color-text);\n",
							"  background-color: var(--sklearn-color-fitted-level-2);\n",
							"}\n",
							"\n",
							"/* Estimator label */\n",
							"\n",
							"#sk-container-id-4 div.sk-label label {\n",
							"  font-family: monospace;\n",
							"  font-weight: bold;\n",
							"  display: inline-block;\n",
							"  line-height: 1.2em;\n",
							"}\n",
							"\n",
							"#sk-container-id-4 div.sk-label-container {\n",
							"  text-align: center;\n",
							"}\n",
							"\n",
							"/* Estimator-specific */\n",
							"#sk-container-id-4 div.sk-estimator {\n",
							"  font-family: monospace;\n",
							"  border: 1px dotted var(--sklearn-color-border-box);\n",
							"  border-radius: 0.25em;\n",
							"  box-sizing: border-box;\n",
							"  margin-bottom: 0.5em;\n",
							"  /* unfitted */\n",
							"  background-color: var(--sklearn-color-unfitted-level-0);\n",
							"}\n",
							"\n",
							"#sk-container-id-4 div.sk-estimator.fitted {\n",
							"  /* fitted */\n",
							"  background-color: var(--sklearn-color-fitted-level-0);\n",
							"}\n",
							"\n",
							"/* on hover */\n",
							"#sk-container-id-4 div.sk-estimator:hover {\n",
							"  /* unfitted */\n",
							"  background-color: var(--sklearn-color-unfitted-level-2);\n",
							"}\n",
							"\n",
							"#sk-container-id-4 div.sk-estimator.fitted:hover {\n",
							"  /* fitted */\n",
							"  background-color: var(--sklearn-color-fitted-level-2);\n",
							"}\n",
							"\n",
							"/* Specification for estimator info (e.g. \"i\" and \"?\") */\n",
							"\n",
							"/* Common style for \"i\" and \"?\" */\n",
							"\n",
							".sk-estimator-doc-link,\n",
							"a:link.sk-estimator-doc-link,\n",
							"a:visited.sk-estimator-doc-link {\n",
							"  float: right;\n",
							"  font-size: smaller;\n",
							"  line-height: 1em;\n",
							"  font-family: monospace;\n",
							"  background-color: var(--sklearn-color-background);\n",
							"  border-radius: 1em;\n",
							"  height: 1em;\n",
							"  width: 1em;\n",
							"  text-decoration: none !important;\n",
							"  margin-left: 1ex;\n",
							"  /* unfitted */\n",
							"  border: var(--sklearn-color-unfitted-level-1) 1pt solid;\n",
							"  color: var(--sklearn-color-unfitted-level-1);\n",
							"}\n",
							"\n",
							".sk-estimator-doc-link.fitted,\n",
							"a:link.sk-estimator-doc-link.fitted,\n",
							"a:visited.sk-estimator-doc-link.fitted {\n",
							"  /* fitted */\n",
							"  border: var(--sklearn-color-fitted-level-1) 1pt solid;\n",
							"  color: var(--sklearn-color-fitted-level-1);\n",
							"}\n",
							"\n",
							"/* On hover */\n",
							"div.sk-estimator:hover .sk-estimator-doc-link:hover,\n",
							".sk-estimator-doc-link:hover,\n",
							"div.sk-label-container:hover .sk-estimator-doc-link:hover,\n",
							".sk-estimator-doc-link:hover {\n",
							"  /* unfitted */\n",
							"  background-color: var(--sklearn-color-unfitted-level-3);\n",
							"  color: var(--sklearn-color-background);\n",
							"  text-decoration: none;\n",
							"}\n",
							"\n",
							"div.sk-estimator.fitted:hover .sk-estimator-doc-link.fitted:hover,\n",
							".sk-estimator-doc-link.fitted:hover,\n",
							"div.sk-label-container:hover .sk-estimator-doc-link.fitted:hover,\n",
							".sk-estimator-doc-link.fitted:hover {\n",
							"  /* fitted */\n",
							"  background-color: var(--sklearn-color-fitted-level-3);\n",
							"  color: var(--sklearn-color-background);\n",
							"  text-decoration: none;\n",
							"}\n",
							"\n",
							"/* Span, style for the box shown on hovering the info icon */\n",
							".sk-estimator-doc-link span {\n",
							"  display: none;\n",
							"  z-index: 9999;\n",
							"  position: relative;\n",
							"  font-weight: normal;\n",
							"  right: .2ex;\n",
							"  padding: .5ex;\n",
							"  margin: .5ex;\n",
							"  width: min-content;\n",
							"  min-width: 20ex;\n",
							"  max-width: 50ex;\n",
							"  color: var(--sklearn-color-text);\n",
							"  box-shadow: 2pt 2pt 4pt #999;\n",
							"  /* unfitted */\n",
							"  background: var(--sklearn-color-unfitted-level-0);\n",
							"  border: .5pt solid var(--sklearn-color-unfitted-level-3);\n",
							"}\n",
							"\n",
							".sk-estimator-doc-link.fitted span {\n",
							"  /* fitted */\n",
							"  background: var(--sklearn-color-fitted-level-0);\n",
							"  border: var(--sklearn-color-fitted-level-3);\n",
							"}\n",
							"\n",
							".sk-estimator-doc-link:hover span {\n",
							"  display: block;\n",
							"}\n",
							"\n",
							"/* \"?\"-specific style due to the `<a>` HTML tag */\n",
							"\n",
							"#sk-container-id-4 a.estimator_doc_link {\n",
							"  float: right;\n",
							"  font-size: 1rem;\n",
							"  line-height: 1em;\n",
							"  font-family: monospace;\n",
							"  background-color: var(--sklearn-color-background);\n",
							"  border-radius: 1rem;\n",
							"  height: 1rem;\n",
							"  width: 1rem;\n",
							"  text-decoration: none;\n",
							"  /* unfitted */\n",
							"  color: var(--sklearn-color-unfitted-level-1);\n",
							"  border: var(--sklearn-color-unfitted-level-1) 1pt solid;\n",
							"}\n",
							"\n",
							"#sk-container-id-4 a.estimator_doc_link.fitted {\n",
							"  /* fitted */\n",
							"  border: var(--sklearn-color-fitted-level-1) 1pt solid;\n",
							"  color: var(--sklearn-color-fitted-level-1);\n",
							"}\n",
							"\n",
							"/* On hover */\n",
							"#sk-container-id-4 a.estimator_doc_link:hover {\n",
							"  /* unfitted */\n",
							"  background-color: var(--sklearn-color-unfitted-level-3);\n",
							"  color: var(--sklearn-color-background);\n",
							"  text-decoration: none;\n",
							"}\n",
							"\n",
							"#sk-container-id-4 a.estimator_doc_link.fitted:hover {\n",
							"  /* fitted */\n",
							"  background-color: var(--sklearn-color-fitted-level-3);\n",
							"}\n",
							"</style><div id=\"sk-container-id-4\" class=\"sk-top-container\"><div class=\"sk-text-repr-fallback\"><pre>GradientBoostingRegressor(random_state=34)</pre><b>In a Jupyter environment, please rerun this cell to show the HTML representation or trust the notebook. <br />On GitHub, the HTML representation is unable to render, please try loading this page with nbviewer.org.</b></div><div class=\"sk-container\" hidden><div class=\"sk-item\"><div class=\"sk-estimator fitted sk-toggleable\"><input class=\"sk-toggleable__control sk-hidden--visually\" id=\"sk-estimator-id-4\" type=\"checkbox\" checked><label for=\"sk-estimator-id-4\" class=\"sk-toggleable__label fitted sk-toggleable__label-arrow fitted\">&nbsp;&nbsp;GradientBoostingRegressor<a class=\"sk-estimator-doc-link fitted\" rel=\"noreferrer\" target=\"_blank\" href=\"https://scikit-learn.org/1.4/modules/generated/sklearn.ensemble.GradientBoostingRegressor.html\">?<span>Documentation for GradientBoostingRegressor</span></a><span class=\"sk-estimator-doc-link fitted\">i<span>Fitted</span></span></label><div class=\"sk-toggleable__content fitted\"><pre>GradientBoostingRegressor(random_state=34)</pre></div> </div></div></div></div>"
						],
						"text/plain": [
							"GradientBoostingRegressor(random_state=34)"
						]
					},
					"execution_count": 27,
					"metadata": {},
					"output_type": "execute_result"
				}
			],
			"source": [
				"X = healthexp.drop(['Life_Expectancy'], axis=1)\n",
				"y= healthexp['Life_Expectancy']\n",
				"\n",
				"X_train, X_test, y_train, y_test = train_test_split(X,y,test_size=0.2, random_state=54)\n",
				"rfr = GradientBoostingRegressor(random_state=34)\n",
				"rfr.fit(X_train, y_train)"
			]
		},
		{
			"cell_type": "code",
			"execution_count": 28,
			"metadata": {},
			"outputs": [
				{
					"data": {
						"text/plain": [
							"array([78.39157822, 79.56433878, 77.29122733, 79.10343937, 80.96445194,\n",
							"       77.29122733, 81.03357969, 81.0478605 , 73.89333767, 77.36302545,\n",
							"       81.88363916, 77.31394029, 71.47882512, 74.82462518, 82.95075741,\n",
							"       78.07791025, 71.37073548, 81.34544275, 73.48856096, 80.50574084,\n",
							"       75.02644369, 80.19365241, 73.22967666, 78.54255466, 77.87168267,\n",
							"       76.14733657, 73.14057728, 82.16757383, 74.42529019, 76.12931714,\n",
							"       76.30302906, 81.41008928, 76.11675626, 78.73694658, 78.5494218 ,\n",
							"       82.64753618, 81.09723669, 76.11675626, 77.89083117, 76.6816684 ,\n",
							"       79.75257164, 84.16434938, 74.41614983, 78.72096389, 82.16529143,\n",
							"       84.03429896, 79.14171978, 80.44485511, 81.71684243, 81.2197126 ,\n",
							"       80.93125484, 79.89895388, 78.76478282, 78.28311191, 79.3784097 ])"
						]
					},
					"execution_count": 28,
					"metadata": {},
					"output_type": "execute_result"
				}
			],
			"source": [
				"y_pred = rfr.predict(X_test)\n",
				"y_pred"
			]
		},
		{
			"cell_type": "code",
			"execution_count": 29,
			"metadata": {},
			"outputs": [
				{
					"data": {
						"text/plain": [
							"0.2709170644443816"
						]
					},
					"execution_count": 29,
					"metadata": {},
					"output_type": "execute_result"
				}
			],
			"source": [
				"mean_absolute_error(y_test, y_pred)"
			]
		},
		{
			"cell_type": "code",
			"execution_count": 30,
			"metadata": {},
			"outputs": [
				{
					"data": {
						"text/plain": [
							"0.355971309502974"
						]
					},
					"execution_count": 30,
					"metadata": {},
					"output_type": "execute_result"
				}
			],
			"source": [
				"root_root_mean_squared_error(y_test, y_pred)"
			]
		},
		{
			"cell_type": "code",
			"execution_count": 31,
			"metadata": {},
			"outputs": [
				{
					"data": {
						"text/plain": [
							"0.9866397423796623"
						]
					},
					"execution_count": 31,
					"metadata": {},
					"output_type": "execute_result"
				}
			],
			"source": [
				"r2_score(y_test, y_pred)"
			]
		},
		{
			"cell_type": "code",
			"execution_count": 32,
			"metadata": {},
			"outputs": [
				{
					"name": "stderr",
					"output_type": "stream",
					"text": [
						"[I 2024-10-20 11:55:27,700] A new study created in memory with name: no-name-96fbbaf2-3f29-44b6-9cc6-00f7be9dc2b3\n",
						"[I 2024-10-20 11:55:27,950] Trial 0 finished with value: 0.32519704881303185 and parameters: {'n_estimators': 297, 'learning_rate': 0.267593117461795, 'max_depth': 9, 'subsample': 0.7706360903802824}. Best is trial 0 with value: 0.32519704881303185.\n",
						"[I 2024-10-20 11:55:28,018] Trial 1 finished with value: 0.32933339451026583 and parameters: {'n_estimators': 95, 'learning_rate': 0.2589727113442577, 'max_depth': 5, 'subsample': 0.8863003094336444}. Best is trial 0 with value: 0.32519704881303185.\n",
						"[I 2024-10-20 11:55:28,338] Trial 2 finished with value: 0.34532580713847005 and parameters: {'n_estimators': 279, 'learning_rate': 0.21427980221020418, 'max_depth': 9, 'subsample': 0.9493276445660934}. Best is trial 0 with value: 0.32519704881303185.\n",
						"[I 2024-10-20 11:55:28,597] Trial 3 finished with value: 0.337141751498068 and parameters: {'n_estimators': 288, 'learning_rate': 0.13182683300401327, 'max_depth': 8, 'subsample': 0.8868435801052132}. Best is trial 0 with value: 0.32519704881303185.\n",
						"[I 2024-10-20 11:55:28,797] Trial 4 finished with value: 0.3124102730275322 and parameters: {'n_estimators': 274, 'learning_rate': 0.20260187408469205, 'max_depth': 5, 'subsample': 0.9062239337295626}. Best is trial 4 with value: 0.3124102730275322.\n",
						"[I 2024-10-20 11:55:28,974] Trial 5 finished with value: 0.33315273771793247 and parameters: {'n_estimators': 218, 'learning_rate': 0.028634699851232688, 'max_depth': 7, 'subsample': 0.9546279936392901}. Best is trial 4 with value: 0.3124102730275322.\n",
						"[I 2024-10-20 11:55:29,152] Trial 6 finished with value: 0.3531645162647396 and parameters: {'n_estimators': 256, 'learning_rate': 0.2844066049483992, 'max_depth': 6, 'subsample': 0.6782931822279332}. Best is trial 4 with value: 0.3124102730275322.\n",
						"[I 2024-10-20 11:55:29,264] Trial 7 finished with value: 0.3257614028015756 and parameters: {'n_estimators': 151, 'learning_rate': 0.19935313467618743, 'max_depth': 6, 'subsample': 0.7203121769063907}. Best is trial 4 with value: 0.3124102730275322.\n",
						"[I 2024-10-20 11:55:29,363] Trial 8 finished with value: 0.5949002296375471 and parameters: {'n_estimators': 184, 'learning_rate': 0.023014559915282794, 'max_depth': 2, 'subsample': 0.7777546955416367}. Best is trial 4 with value: 0.3124102730275322.\n",
						"[I 2024-10-20 11:55:29,414] Trial 9 finished with value: 0.44110445545375904 and parameters: {'n_estimators': 70, 'learning_rate': 0.04678877022641999, 'max_depth': 4, 'subsample': 0.642435911988464}. Best is trial 4 with value: 0.3124102730275322.\n",
						"[I 2024-10-20 11:55:29,559] Trial 10 finished with value: 0.283432180253704 and parameters: {'n_estimators': 233, 'learning_rate': 0.1213112051937812, 'max_depth': 3, 'subsample': 0.5246775038673241}. Best is trial 10 with value: 0.283432180253704.\n",
						"[I 2024-10-20 11:55:29,727] Trial 11 finished with value: 0.2733841950906861 and parameters: {'n_estimators': 229, 'learning_rate': 0.11446729346660696, 'max_depth': 3, 'subsample': 0.5082849682777049}. Best is trial 11 with value: 0.2733841950906861.\n",
						"[I 2024-10-20 11:55:29,882] Trial 12 finished with value: 0.33738549688910224 and parameters: {'n_estimators': 221, 'learning_rate': 0.1142162775589909, 'max_depth': 2, 'subsample': 0.512223578308002}. Best is trial 11 with value: 0.2733841950906861.\n",
						"[I 2024-10-20 11:55:30,016] Trial 13 finished with value: 0.2821326667996498 and parameters: {'n_estimators': 225, 'learning_rate': 0.08900454928810904, 'max_depth': 3, 'subsample': 0.5104345068793334}. Best is trial 11 with value: 0.2733841950906861.\n",
						"[I 2024-10-20 11:55:30,118] Trial 14 finished with value: 0.2936606123578851 and parameters: {'n_estimators': 153, 'learning_rate': 0.07506187156406356, 'max_depth': 4, 'subsample': 0.582380490793184}. Best is trial 11 with value: 0.2733841950906861.\n",
						"[I 2024-10-20 11:55:30,236] Trial 15 finished with value: 0.2971268863998212 and parameters: {'n_estimators': 186, 'learning_rate': 0.08185626842879058, 'max_depth': 3, 'subsample': 0.5830011523959723}. Best is trial 11 with value: 0.2733841950906861.\n",
						"[I 2024-10-20 11:55:30,386] Trial 16 finished with value: 0.2784443164517285 and parameters: {'n_estimators': 244, 'learning_rate': 0.16865472566121278, 'max_depth': 3, 'subsample': 0.5847662153259866}. Best is trial 11 with value: 0.2733841950906861.\n",
						"[I 2024-10-20 11:55:30,549] Trial 17 finished with value: 0.32945547373396866 and parameters: {'n_estimators': 251, 'learning_rate': 0.16414146586098646, 'max_depth': 4, 'subsample': 0.5904421244601817}. Best is trial 11 with value: 0.2733841950906861.\n",
						"[I 2024-10-20 11:55:30,662] Trial 18 finished with value: 0.3243825595212696 and parameters: {'n_estimators': 195, 'learning_rate': 0.15154369262583414, 'max_depth': 2, 'subsample': 0.6578053194559447}. Best is trial 11 with value: 0.2733841950906861.\n",
						"[I 2024-10-20 11:55:30,797] Trial 19 finished with value: 0.352405750294523 and parameters: {'n_estimators': 124, 'learning_rate': 0.17254249831711935, 'max_depth': 10, 'subsample': 0.5615022984441036}. Best is trial 11 with value: 0.2733841950906861.\n",
						"[I 2024-10-20 11:55:30,950] Trial 20 finished with value: 0.36472528222929507 and parameters: {'n_estimators': 206, 'learning_rate': 0.22891639396218252, 'max_depth': 5, 'subsample': 0.8154315863946258}. Best is trial 11 with value: 0.2733841950906861.\n",
						"[I 2024-10-20 11:55:31,100] Trial 21 finished with value: 0.3073020016778538 and parameters: {'n_estimators': 250, 'learning_rate': 0.08462566454055234, 'max_depth': 3, 'subsample': 0.5022795336584275}. Best is trial 11 with value: 0.2733841950906861.\n",
						"[I 2024-10-20 11:55:31,240] Trial 22 finished with value: 0.28500727995486796 and parameters: {'n_estimators': 238, 'learning_rate': 0.09996116056277207, 'max_depth': 3, 'subsample': 0.5454805945154205}. Best is trial 11 with value: 0.2733841950906861.\n",
						"[I 2024-10-20 11:55:31,359] Trial 23 finished with value: 0.3241893163539905 and parameters: {'n_estimators': 162, 'learning_rate': 0.06051969627768748, 'max_depth': 4, 'subsample': 0.6320900822024877}. Best is trial 11 with value: 0.2733841950906861.\n",
						"[I 2024-10-20 11:55:31,508] Trial 24 finished with value: 0.3340743120889516 and parameters: {'n_estimators': 269, 'learning_rate': 0.14404392207024466, 'max_depth': 2, 'subsample': 0.6182634714905018}. Best is trial 11 with value: 0.2733841950906861.\n",
						"[I 2024-10-20 11:55:31,646] Trial 25 finished with value: 0.28898722310627706 and parameters: {'n_estimators': 215, 'learning_rate': 0.18325206586845688, 'max_depth': 3, 'subsample': 0.6968492329500976}. Best is trial 11 with value: 0.2733841950906861.\n",
						"[I 2024-10-20 11:55:31,805] Trial 26 finished with value: 0.2859771349934609 and parameters: {'n_estimators': 233, 'learning_rate': 0.11248707230834971, 'max_depth': 5, 'subsample': 0.5452022752235064}. Best is trial 11 with value: 0.2733841950906861.\n",
						"[I 2024-10-20 11:55:31,942] Trial 27 finished with value: 0.31601034658811294 and parameters: {'n_estimators': 199, 'learning_rate': 0.09525980881503929, 'max_depth': 4, 'subsample': 0.6028687123419023}. Best is trial 11 with value: 0.2733841950906861.\n",
						"[I 2024-10-20 11:55:32,049] Trial 28 finished with value: 0.3411566621028202 and parameters: {'n_estimators': 170, 'learning_rate': 0.1377780919990122, 'max_depth': 2, 'subsample': 0.5441643781159113}. Best is trial 11 with value: 0.2733841950906861.\n",
						"[I 2024-10-20 11:55:32,266] Trial 29 finished with value: 0.3058034089127453 and parameters: {'n_estimators': 293, 'learning_rate': 0.06232785721282394, 'max_depth': 7, 'subsample': 0.5007527369849425}. Best is trial 11 with value: 0.2733841950906861.\n",
						"[I 2024-10-20 11:55:32,354] Trial 30 finished with value: 0.34296501275487 and parameters: {'n_estimators': 127, 'learning_rate': 0.239036660636862, 'max_depth': 3, 'subsample': 0.750523188775213}. Best is trial 11 with value: 0.2733841950906861.\n",
						"[I 2024-10-20 11:55:32,498] Trial 31 finished with value: 0.2687702975135457 and parameters: {'n_estimators': 233, 'learning_rate': 0.12255598931314905, 'max_depth': 3, 'subsample': 0.5309087953054625}. Best is trial 31 with value: 0.2687702975135457.\n",
						"[I 2024-10-20 11:55:32,650] Trial 32 finished with value: 0.2911019907959925 and parameters: {'n_estimators': 255, 'learning_rate': 0.10341750383000117, 'max_depth': 3, 'subsample': 0.5610610466342697}. Best is trial 31 with value: 0.2687702975135457.\n",
						"[I 2024-10-20 11:55:32,813] Trial 33 finished with value: 0.2939611647216501 and parameters: {'n_estimators': 235, 'learning_rate': 0.16223175960762215, 'max_depth': 4, 'subsample': 0.999010386111054}. Best is trial 31 with value: 0.2687702975135457.\n",
						"[I 2024-10-20 11:55:32,964] Trial 34 finished with value: 0.344139250148219 and parameters: {'n_estimators': 269, 'learning_rate': 0.13409401544100277, 'max_depth': 2, 'subsample': 0.521813772821312}. Best is trial 31 with value: 0.2687702975135457.\n",
						"[I 2024-10-20 11:55:33,109] Trial 35 finished with value: 0.3082259462703164 and parameters: {'n_estimators': 212, 'learning_rate': 0.04311457745659346, 'max_depth': 5, 'subsample': 0.5707021871807052}. Best is trial 31 with value: 0.2687702975135457.\n",
						"[I 2024-10-20 11:55:33,287] Trial 36 finished with value: 0.2845700970493313 and parameters: {'n_estimators': 224, 'learning_rate': 0.1307828538799112, 'max_depth': 3, 'subsample': 0.6103923191274128}. Best is trial 31 with value: 0.2687702975135457.\n",
						"[I 2024-10-20 11:55:33,487] Trial 37 finished with value: 0.31574363020947704 and parameters: {'n_estimators': 284, 'learning_rate': 0.18707784889203227, 'max_depth': 5, 'subsample': 0.5353396695041222}. Best is trial 31 with value: 0.2687702975135457.\n",
						"[I 2024-10-20 11:55:33,724] Trial 38 finished with value: 0.35073747410206124 and parameters: {'n_estimators': 264, 'learning_rate': 0.15184723264528946, 'max_depth': 9, 'subsample': 0.8315364287992428}. Best is trial 31 with value: 0.2687702975135457.\n",
						"[I 2024-10-20 11:55:33,877] Trial 39 finished with value: 0.3071835616924356 and parameters: {'n_estimators': 238, 'learning_rate': 0.12409019896753956, 'max_depth': 4, 'subsample': 0.6574995767812493}. Best is trial 31 with value: 0.2687702975135457.\n",
						"[I 2024-10-20 11:55:34,029] Trial 40 finished with value: 0.4677086522347409 and parameters: {'n_estimators': 194, 'learning_rate': 0.012764854978969356, 'max_depth': 6, 'subsample': 0.7053418368479953}. Best is trial 31 with value: 0.2687702975135457.\n",
						"[I 2024-10-20 11:55:34,173] Trial 41 finished with value: 0.28897035646844416 and parameters: {'n_estimators': 243, 'learning_rate': 0.1181888403545856, 'max_depth': 3, 'subsample': 0.5221660145614726}. Best is trial 31 with value: 0.2687702975135457.\n",
						"[I 2024-10-20 11:55:34,301] Trial 42 finished with value: 0.32736784804216373 and parameters: {'n_estimators': 222, 'learning_rate': 0.10679544639401044, 'max_depth': 2, 'subsample': 0.5305061638806614}. Best is trial 31 with value: 0.2687702975135457.\n",
						"[I 2024-10-20 11:55:34,463] Trial 43 finished with value: 0.29762694215456287 and parameters: {'n_estimators': 279, 'learning_rate': 0.06518549601844656, 'max_depth': 3, 'subsample': 0.5031059382923468}. Best is trial 31 with value: 0.2687702975135457.\n",
						"[I 2024-10-20 11:55:34,610] Trial 44 finished with value: 0.26878256364376213 and parameters: {'n_estimators': 228, 'learning_rate': 0.09139112662408969, 'max_depth': 4, 'subsample': 0.5477457735008036}. Best is trial 31 with value: 0.2687702975135457.\n",
						"[I 2024-10-20 11:55:34,751] Trial 45 finished with value: 0.29143930744339114 and parameters: {'n_estimators': 205, 'learning_rate': 0.08965053455365322, 'max_depth': 4, 'subsample': 0.5685473731521724}. Best is trial 31 with value: 0.2687702975135457.\n",
						"[I 2024-10-20 11:55:34,885] Trial 46 finished with value: 0.39313205257246503 and parameters: {'n_estimators': 225, 'learning_rate': 0.046345326038113074, 'max_depth': 2, 'subsample': 0.5938485089230439}. Best is trial 31 with value: 0.2687702975135457.\n",
						"[I 2024-10-20 11:55:34,947] Trial 47 finished with value: 0.3396645631610075 and parameters: {'n_estimators': 56, 'learning_rate': 0.0731028791459466, 'max_depth': 6, 'subsample': 0.5526624348425062}. Best is trial 31 with value: 0.2687702975135457.\n",
						"[I 2024-10-20 11:55:35,071] Trial 48 finished with value: 0.312967918752511 and parameters: {'n_estimators': 178, 'learning_rate': 0.20356881669983035, 'max_depth': 4, 'subsample': 0.6369500029479468}. Best is trial 31 with value: 0.2687702975135457.\n",
						"[I 2024-10-20 11:55:35,231] Trial 49 finished with value: 0.2833206390868708 and parameters: {'n_estimators': 262, 'learning_rate': 0.14482048416305823, 'max_depth': 3, 'subsample': 0.5772907570360203}. Best is trial 31 with value: 0.2687702975135457.\n",
						"[I 2024-10-20 11:55:35,394] Trial 50 finished with value: 0.3254244477042977 and parameters: {'n_estimators': 244, 'learning_rate': 0.29049585313894283, 'max_depth': 5, 'subsample': 0.5184295143589501}. Best is trial 31 with value: 0.2687702975135457.\n",
						"[I 2024-10-20 11:55:35,554] Trial 51 finished with value: 0.28673224445533974 and parameters: {'n_estimators': 262, 'learning_rate': 0.17198550686886205, 'max_depth': 3, 'subsample': 0.5617611851623718}. Best is trial 31 with value: 0.2687702975135457.\n",
						"[I 2024-10-20 11:55:35,709] Trial 52 finished with value: 0.2910215237132724 and parameters: {'n_estimators': 256, 'learning_rate': 0.14777145647614381, 'max_depth': 3, 'subsample': 0.5884989110350857}. Best is trial 31 with value: 0.2687702975135457.\n",
						"[I 2024-10-20 11:55:35,841] Trial 53 finished with value: 0.33663834445763846 and parameters: {'n_estimators': 227, 'learning_rate': 0.12351040479543017, 'max_depth': 2, 'subsample': 0.5352066137495815}. Best is trial 31 with value: 0.2687702975135457.\n",
						"[I 2024-10-20 11:55:36,044] Trial 54 finished with value: 0.29805083664401705 and parameters: {'n_estimators': 297, 'learning_rate': 0.09354034571522202, 'max_depth': 4, 'subsample': 0.6228478739475506}. Best is trial 31 with value: 0.2687702975135457.\n",
						"[I 2024-10-20 11:55:36,176] Trial 55 finished with value: 0.3186550196558229 and parameters: {'n_estimators': 212, 'learning_rate': 0.16147731103371912, 'max_depth': 3, 'subsample': 0.5820879890308186}. Best is trial 31 with value: 0.2687702975135457.\n",
						"[I 2024-10-20 11:55:36,323] Trial 56 finished with value: 0.33128018709998036 and parameters: {'n_estimators': 247, 'learning_rate': 0.14010660706178468, 'max_depth': 2, 'subsample': 0.6544211258426351}. Best is trial 31 with value: 0.2687702975135457.\n",
						"[I 2024-10-20 11:55:36,537] Trial 57 finished with value: 0.28831754387250763 and parameters: {'n_estimators': 275, 'learning_rate': 0.07626085785849052, 'max_depth': 4, 'subsample': 0.6799987666663414}. Best is trial 31 with value: 0.2687702975135457.\n",
						"[I 2024-10-20 11:55:36,702] Trial 58 finished with value: 0.320019796192551 and parameters: {'n_estimators': 190, 'learning_rate': 0.10540528737668065, 'max_depth': 8, 'subsample': 0.5130929258940896}. Best is trial 31 with value: 0.2687702975135457.\n",
						"[I 2024-10-20 11:55:36,884] Trial 59 finished with value: 0.3431264075744974 and parameters: {'n_estimators': 260, 'learning_rate': 0.1846341094850861, 'max_depth': 3, 'subsample': 0.6059995367785499}. Best is trial 31 with value: 0.2687702975135457.\n",
						"[I 2024-10-20 11:55:37,009] Trial 60 finished with value: 0.36218200880182144 and parameters: {'n_estimators': 206, 'learning_rate': 0.2706652855831479, 'max_depth': 2, 'subsample': 0.5489548662054436}. Best is trial 31 with value: 0.2687702975135457.\n",
						"[I 2024-10-20 11:55:37,151] Trial 61 finished with value: 0.27663318682392724 and parameters: {'n_estimators': 232, 'learning_rate': 0.11744139207969508, 'max_depth': 3, 'subsample': 0.5258295173126227}. Best is trial 31 with value: 0.2687702975135457.\n",
						"[I 2024-10-20 11:55:37,291] Trial 62 finished with value: 0.282327356204379 and parameters: {'n_estimators': 232, 'learning_rate': 0.11441097886689146, 'max_depth': 3, 'subsample': 0.5802111287236595}. Best is trial 31 with value: 0.2687702975135457.\n",
						"[I 2024-10-20 11:55:37,434] Trial 63 finished with value: 0.2846683813869978 and parameters: {'n_estimators': 230, 'learning_rate': 0.10964627012259157, 'max_depth': 3, 'subsample': 0.5343856984399099}. Best is trial 31 with value: 0.2687702975135457.\n",
						"[I 2024-10-20 11:55:37,581] Trial 64 finished with value: 0.29354989451107105 and parameters: {'n_estimators': 216, 'learning_rate': 0.12765983353767738, 'max_depth': 4, 'subsample': 0.5021350240116306}. Best is trial 31 with value: 0.2687702975135457.\n",
						"[I 2024-10-20 11:55:37,720] Trial 65 finished with value: 0.35948926495929134 and parameters: {'n_estimators': 240, 'learning_rate': 0.08687325387700343, 'max_depth': 2, 'subsample': 0.5508074120453469}. Best is trial 31 with value: 0.2687702975135457.\n",
						"[I 2024-10-20 11:55:37,876] Trial 66 finished with value: 0.2980607734880508 and parameters: {'n_estimators': 249, 'learning_rate': 0.0971489217202378, 'max_depth': 3, 'subsample': 0.5213821830496556}. Best is trial 31 with value: 0.2687702975135457.\n",
						"[I 2024-10-20 11:55:38,027] Trial 67 finished with value: 0.2757023560730843 and parameters: {'n_estimators': 199, 'learning_rate': 0.11547805321778493, 'max_depth': 4, 'subsample': 0.872277198440613}. Best is trial 31 with value: 0.2687702975135457.\n",
						"[I 2024-10-20 11:55:38,166] Trial 68 finished with value: 0.3212843996999328 and parameters: {'n_estimators': 181, 'learning_rate': 0.08147559495991766, 'max_depth': 5, 'subsample': 0.9404810225597366}. Best is trial 31 with value: 0.2687702975135457.\n",
						"[I 2024-10-20 11:55:38,339] Trial 69 finished with value: 0.2998468920089925 and parameters: {'n_estimators': 199, 'learning_rate': 0.13222337419778468, 'max_depth': 4, 'subsample': 0.8114060461385173}. Best is trial 31 with value: 0.2687702975135457.\n",
						"[I 2024-10-20 11:55:38,511] Trial 70 finished with value: 0.2936321850898209 and parameters: {'n_estimators': 217, 'learning_rate': 0.09959855855692458, 'max_depth': 4, 'subsample': 0.8906174319977933}. Best is trial 31 with value: 0.2687702975135457.\n",
						"[I 2024-10-20 11:55:38,663] Trial 71 finished with value: 0.3031109360473692 and parameters: {'n_estimators': 229, 'learning_rate': 0.11676696430986833, 'max_depth': 3, 'subsample': 0.8394740356203501}. Best is trial 31 with value: 0.2687702975135457.\n",
						"[I 2024-10-20 11:55:38,812] Trial 72 finished with value: 0.30506979109723376 and parameters: {'n_estimators': 235, 'learning_rate': 0.11429279951338023, 'max_depth': 3, 'subsample': 0.7812357657877741}. Best is trial 31 with value: 0.2687702975135457.\n",
						"[I 2024-10-20 11:55:38,955] Trial 73 finished with value: 0.299335059932847 and parameters: {'n_estimators': 204, 'learning_rate': 0.06796442040304482, 'max_depth': 4, 'subsample': 0.5623236135973059}. Best is trial 31 with value: 0.2687702975135457.\n",
						"[I 2024-10-20 11:55:39,103] Trial 74 finished with value: 0.27726456031107777 and parameters: {'n_estimators': 221, 'learning_rate': 0.12350693793514392, 'max_depth': 3, 'subsample': 0.5372381389445163}. Best is trial 31 with value: 0.2687702975135457.\n",
						"[I 2024-10-20 11:55:39,259] Trial 75 finished with value: 0.3197026616693903 and parameters: {'n_estimators': 168, 'learning_rate': 0.15526663355775777, 'max_depth': 7, 'subsample': 0.9211213691341871}. Best is trial 31 with value: 0.2687702975135457.\n",
						"[I 2024-10-20 11:55:39,393] Trial 76 finished with value: 0.3610721016867259 and parameters: {'n_estimators': 221, 'learning_rate': 0.05720600204864207, 'max_depth': 2, 'subsample': 0.8570779651846874}. Best is trial 31 with value: 0.2687702975135457.\n",
						"[I 2024-10-20 11:55:39,529] Trial 77 finished with value: 0.3017856322375178 and parameters: {'n_estimators': 212, 'learning_rate': 0.1742764965575541, 'max_depth': 3, 'subsample': 0.5374811319067782}. Best is trial 31 with value: 0.2687702975135457.\n",
						"[I 2024-10-20 11:55:39,603] Trial 78 finished with value: 0.28771354036692975 and parameters: {'n_estimators': 89, 'learning_rate': 0.1369162710195497, 'max_depth': 4, 'subsample': 0.5089338457782696}. Best is trial 31 with value: 0.2687702975135457.\n",
						"[I 2024-10-20 11:55:39,758] Trial 79 finished with value: 0.36001397984272665 and parameters: {'n_estimators': 251, 'learning_rate': 0.12366063549935136, 'max_depth': 2, 'subsample': 0.7398744705249802}. Best is trial 31 with value: 0.2687702975135457.\n",
						"[I 2024-10-20 11:55:39,909] Trial 80 finished with value: 0.28039318485554693 and parameters: {'n_estimators': 241, 'learning_rate': 0.09222678665030536, 'max_depth': 3, 'subsample': 0.5174340187345003}. Best is trial 31 with value: 0.2687702975135457.\n",
						"[I 2024-10-20 11:55:40,055] Trial 81 finished with value: 0.2949761769037094 and parameters: {'n_estimators': 243, 'learning_rate': 0.08205921520156348, 'max_depth': 3, 'subsample': 0.520242399964311}. Best is trial 31 with value: 0.2687702975135457.\n",
						"[I 2024-10-20 11:55:40,195] Trial 82 finished with value: 0.28748086601963063 and parameters: {'n_estimators': 221, 'learning_rate': 0.10383294564680376, 'max_depth': 3, 'subsample': 0.5508761620389389}. Best is trial 31 with value: 0.2687702975135457.\n",
						"[I 2024-10-20 11:55:40,380] Trial 83 finished with value: 0.28988642449517504 and parameters: {'n_estimators': 238, 'learning_rate': 0.09184546850695231, 'max_depth': 4, 'subsample': 0.5319059506207203}. Best is trial 31 with value: 0.2687702975135457.\n",
						"[I 2024-10-20 11:55:40,510] Trial 84 finished with value: 0.330846000770609 and parameters: {'n_estimators': 197, 'learning_rate': 0.11003247880130926, 'max_depth': 3, 'subsample': 0.9959906722867444}. Best is trial 31 with value: 0.2687702975135457.\n",
						"[I 2024-10-20 11:55:40,638] Trial 85 finished with value: 0.2755188597168557 and parameters: {'n_estimators': 209, 'learning_rate': 0.12065534816826647, 'max_depth': 3, 'subsample': 0.5137576808894949}. Best is trial 31 with value: 0.2687702975135457.\n",
						"[I 2024-10-20 11:55:40,784] Trial 86 finished with value: 0.3151901181133613 and parameters: {'n_estimators': 208, 'learning_rate': 0.12034314215245714, 'max_depth': 5, 'subsample': 0.5105430357013842}. Best is trial 31 with value: 0.2687702975135457.\n",
						"[I 2024-10-20 11:55:40,904] Trial 87 finished with value: 0.3394515609516515 and parameters: {'n_estimators': 186, 'learning_rate': 0.13250523083945367, 'max_depth': 2, 'subsample': 0.5689450129169772}. Best is trial 31 with value: 0.2687702975135457.\n",
						"[I 2024-10-20 11:55:41,042] Trial 88 finished with value: 0.279441527189532 and parameters: {'n_estimators': 226, 'learning_rate': 0.15520164978259704, 'max_depth': 3, 'subsample': 0.5388918894107891}. Best is trial 31 with value: 0.2687702975135457.\n",
						"[I 2024-10-20 11:55:41,247] Trial 89 finished with value: 0.35259678053966315 and parameters: {'n_estimators': 227, 'learning_rate': 0.15566931509182913, 'max_depth': 10, 'subsample': 0.5940160321261414}. Best is trial 31 with value: 0.2687702975135457.\n",
						"[I 2024-10-20 11:55:41,392] Trial 90 finished with value: 0.26756036736615935 and parameters: {'n_estimators': 216, 'learning_rate': 0.14322018406580803, 'max_depth': 4, 'subsample': 0.5406516005689751}. Best is trial 90 with value: 0.26756036736615935.\n",
						"[I 2024-10-20 11:55:41,535] Trial 91 finished with value: 0.2839898731388246 and parameters: {'n_estimators': 218, 'learning_rate': 0.16538656442887342, 'max_depth': 4, 'subsample': 0.5557724344694196}. Best is trial 90 with value: 0.26756036736615935.\n",
						"[I 2024-10-20 11:55:41,669] Trial 92 finished with value: 0.27470824373319225 and parameters: {'n_estimators': 202, 'learning_rate': 0.14311660190415712, 'max_depth': 4, 'subsample': 0.5418480086606893}. Best is trial 90 with value: 0.26756036736615935.\n",
						"[I 2024-10-20 11:55:41,803] Trial 93 finished with value: 0.29370744684684014 and parameters: {'n_estimators': 202, 'learning_rate': 0.14440344299472405, 'max_depth': 4, 'subsample': 0.5284729481912918}. Best is trial 90 with value: 0.26756036736615935.\n",
						"[I 2024-10-20 11:55:41,950] Trial 94 finished with value: 0.28045739215083354 and parameters: {'n_estimators': 209, 'learning_rate': 0.1275406340731873, 'max_depth': 5, 'subsample': 0.5477745710819973}. Best is trial 90 with value: 0.26756036736615935.\n",
						"[I 2024-10-20 11:55:42,075] Trial 95 finished with value: 0.29977071364481417 and parameters: {'n_estimators': 191, 'learning_rate': 0.1382706441772703, 'max_depth': 4, 'subsample': 0.5019503850286139}. Best is trial 90 with value: 0.26756036736615935.\n",
						"[I 2024-10-20 11:55:42,225] Trial 96 finished with value: 0.29074368761970637 and parameters: {'n_estimators': 212, 'learning_rate': 0.14685314197335717, 'max_depth': 4, 'subsample': 0.5280517474257275}. Best is trial 90 with value: 0.26756036736615935.\n",
						"[I 2024-10-20 11:55:42,409] Trial 97 finished with value: 0.319604857634209 and parameters: {'n_estimators': 255, 'learning_rate': 0.11867606754400264, 'max_depth': 5, 'subsample': 0.5733044545999941}. Best is trial 90 with value: 0.26756036736615935.\n",
						"[I 2024-10-20 11:55:42,536] Trial 98 finished with value: 0.2857077027347594 and parameters: {'n_estimators': 174, 'learning_rate': 0.12736296874721426, 'max_depth': 4, 'subsample': 0.5602314712383062}. Best is trial 90 with value: 0.26756036736615935.\n",
						"[I 2024-10-20 11:55:42,691] Trial 99 finished with value: 0.2878060321930935 and parameters: {'n_estimators': 234, 'learning_rate': 0.17614425422064806, 'max_depth': 3, 'subsample': 0.5402212509921593}. Best is trial 90 with value: 0.26756036736615935.\n"
					]
				},
				{
					"name": "stdout",
					"output_type": "stream",
					"text": [
						"Best hyperparameters: {'n_estimators': 216, 'learning_rate': 0.14322018406580803, 'max_depth': 4, 'subsample': 0.5406516005689751}\n"
					]
				}
			],
			"source": [
				"def objective(trial):\n",
				"    n_estimators = trial.suggest_int('n_estimators', 50, 300)\n",
				"    learning_rate = trial.suggest_float('learning_rate', 0.01, 0.3)\n",
				"    max_depth = trial.suggest_int('max_depth', 2, 10)\n",
				"    subsample = trial.suggest_float('subsample', 0.5, 1.0)\n",
				"\n",
				"    # Define the model\n",
				"    model = GradientBoostingRegressor(\n",
				"        n_estimators=n_estimators,\n",
				"        learning_rate=learning_rate,\n",
				"        max_depth=max_depth,\n",
				"        subsample=subsample,\n",
				"        random_state=42\n",
				"    )\n",
				"\n",
				"    model.fit(X_train, y_train)\n",
				"    \n",
				"    y_pred = model.predict(X_test)\n",
				"    mse = root_root_mean_squared_error(y_test, y_pred)\n",
				"    \n",
				"    return mse\n",
				"\n",
				"study = optuna.create_study(direction='minimize')\n",
				"study.optimize(objective, n_trials=100)\n",
				"\n",
				"print(f\"Best hyperparameters: {study.best_params}\")"
			]
		},
		{
			"cell_type": "code",
			"execution_count": 33,
			"metadata": {},
			"outputs": [
				{
					"data": {
						"text/plain": [
							"{'n_estimators': 216,\n",
							" 'learning_rate': 0.14322018406580803,\n",
							" 'max_depth': 4,\n",
							" 'subsample': 0.5406516005689751}"
						]
					},
					"execution_count": 33,
					"metadata": {},
					"output_type": "execute_result"
				}
			],
			"source": [
				"study.best_params"
			]
		},
		{
			"cell_type": "code",
			"execution_count": 35,
			"metadata": {},
			"outputs": [
				{
					"data": {
						"application/vnd.plotly.v1+json": {
							"config": {
								"plotlyServerURL": "https://plot.ly"
							},
							"data": [
								{
									"mode": "markers",
									"name": "Objective Value",
									"type": "scatter",
									"x": [
										0,
										1,
										2,
										3,
										4,
										5,
										6,
										7,
										8,
										9,
										10,
										11,
										12,
										13,
										14,
										15,
										16,
										17,
										18,
										19,
										20,
										21,
										22,
										23,
										24,
										25,
										26,
										27,
										28,
										29,
										30,
										31,
										32,
										33,
										34,
										35,
										36,
										37,
										38,
										39,
										40,
										41,
										42,
										43,
										44,
										45,
										46,
										47,
										48,
										49,
										50,
										51,
										52,
										53,
										54,
										55,
										56,
										57,
										58,
										59,
										60,
										61,
										62,
										63,
										64,
										65,
										66,
										67,
										68,
										69,
										70,
										71,
										72,
										73,
										74,
										75,
										76,
										77,
										78,
										79,
										80,
										81,
										82,
										83,
										84,
										85,
										86,
										87,
										88,
										89,
										90,
										91,
										92,
										93,
										94,
										95,
										96,
										97,
										98,
										99
									],
									"y": [
										0.32519704881303185,
										0.32933339451026583,
										0.34532580713847005,
										0.337141751498068,
										0.3124102730275322,
										0.33315273771793247,
										0.3531645162647396,
										0.3257614028015756,
										0.5949002296375471,
										0.44110445545375904,
										0.283432180253704,
										0.2733841950906861,
										0.33738549688910224,
										0.2821326667996498,
										0.2936606123578851,
										0.2971268863998212,
										0.2784443164517285,
										0.32945547373396866,
										0.3243825595212696,
										0.352405750294523,
										0.36472528222929507,
										0.3073020016778538,
										0.28500727995486796,
										0.3241893163539905,
										0.3340743120889516,
										0.28898722310627706,
										0.2859771349934609,
										0.31601034658811294,
										0.3411566621028202,
										0.3058034089127453,
										0.34296501275487,
										0.2687702975135457,
										0.2911019907959925,
										0.2939611647216501,
										0.344139250148219,
										0.3082259462703164,
										0.2845700970493313,
										0.31574363020947704,
										0.35073747410206124,
										0.3071835616924356,
										0.4677086522347409,
										0.28897035646844416,
										0.32736784804216373,
										0.29762694215456287,
										0.26878256364376213,
										0.29143930744339114,
										0.39313205257246503,
										0.3396645631610075,
										0.312967918752511,
										0.2833206390868708,
										0.3254244477042977,
										0.28673224445533974,
										0.2910215237132724,
										0.33663834445763846,
										0.29805083664401705,
										0.3186550196558229,
										0.33128018709998036,
										0.28831754387250763,
										0.320019796192551,
										0.3431264075744974,
										0.36218200880182144,
										0.27663318682392724,
										0.282327356204379,
										0.2846683813869978,
										0.29354989451107105,
										0.35948926495929134,
										0.2980607734880508,
										0.2757023560730843,
										0.3212843996999328,
										0.2998468920089925,
										0.2936321850898209,
										0.3031109360473692,
										0.30506979109723376,
										0.299335059932847,
										0.27726456031107777,
										0.3197026616693903,
										0.3610721016867259,
										0.3017856322375178,
										0.28771354036692975,
										0.36001397984272665,
										0.28039318485554693,
										0.2949761769037094,
										0.28748086601963063,
										0.28988642449517504,
										0.330846000770609,
										0.2755188597168557,
										0.3151901181133613,
										0.3394515609516515,
										0.279441527189532,
										0.35259678053966315,
										0.26756036736615935,
										0.2839898731388246,
										0.27470824373319225,
										0.29370744684684014,
										0.28045739215083354,
										0.29977071364481417,
										0.29074368761970637,
										0.319604857634209,
										0.2857077027347594,
										0.2878060321930935
									]
								},
								{
									"mode": "lines",
									"name": "Best Value",
									"type": "scatter",
									"x": [
										0,
										1,
										2,
										3,
										4,
										5,
										6,
										7,
										8,
										9,
										10,
										11,
										12,
										13,
										14,
										15,
										16,
										17,
										18,
										19,
										20,
										21,
										22,
										23,
										24,
										25,
										26,
										27,
										28,
										29,
										30,
										31,
										32,
										33,
										34,
										35,
										36,
										37,
										38,
										39,
										40,
										41,
										42,
										43,
										44,
										45,
										46,
										47,
										48,
										49,
										50,
										51,
										52,
										53,
										54,
										55,
										56,
										57,
										58,
										59,
										60,
										61,
										62,
										63,
										64,
										65,
										66,
										67,
										68,
										69,
										70,
										71,
										72,
										73,
										74,
										75,
										76,
										77,
										78,
										79,
										80,
										81,
										82,
										83,
										84,
										85,
										86,
										87,
										88,
										89,
										90,
										91,
										92,
										93,
										94,
										95,
										96,
										97,
										98,
										99
									],
									"y": [
										0.32519704881303185,
										0.32519704881303185,
										0.32519704881303185,
										0.32519704881303185,
										0.3124102730275322,
										0.3124102730275322,
										0.3124102730275322,
										0.3124102730275322,
										0.3124102730275322,
										0.3124102730275322,
										0.283432180253704,
										0.2733841950906861,
										0.2733841950906861,
										0.2733841950906861,
										0.2733841950906861,
										0.2733841950906861,
										0.2733841950906861,
										0.2733841950906861,
										0.2733841950906861,
										0.2733841950906861,
										0.2733841950906861,
										0.2733841950906861,
										0.2733841950906861,
										0.2733841950906861,
										0.2733841950906861,
										0.2733841950906861,
										0.2733841950906861,
										0.2733841950906861,
										0.2733841950906861,
										0.2733841950906861,
										0.2733841950906861,
										0.2687702975135457,
										0.2687702975135457,
										0.2687702975135457,
										0.2687702975135457,
										0.2687702975135457,
										0.2687702975135457,
										0.2687702975135457,
										0.2687702975135457,
										0.2687702975135457,
										0.2687702975135457,
										0.2687702975135457,
										0.2687702975135457,
										0.2687702975135457,
										0.2687702975135457,
										0.2687702975135457,
										0.2687702975135457,
										0.2687702975135457,
										0.2687702975135457,
										0.2687702975135457,
										0.2687702975135457,
										0.2687702975135457,
										0.2687702975135457,
										0.2687702975135457,
										0.2687702975135457,
										0.2687702975135457,
										0.2687702975135457,
										0.2687702975135457,
										0.2687702975135457,
										0.2687702975135457,
										0.2687702975135457,
										0.2687702975135457,
										0.2687702975135457,
										0.2687702975135457,
										0.2687702975135457,
										0.2687702975135457,
										0.2687702975135457,
										0.2687702975135457,
										0.2687702975135457,
										0.2687702975135457,
										0.2687702975135457,
										0.2687702975135457,
										0.2687702975135457,
										0.2687702975135457,
										0.2687702975135457,
										0.2687702975135457,
										0.2687702975135457,
										0.2687702975135457,
										0.2687702975135457,
										0.2687702975135457,
										0.2687702975135457,
										0.2687702975135457,
										0.2687702975135457,
										0.2687702975135457,
										0.2687702975135457,
										0.2687702975135457,
										0.2687702975135457,
										0.2687702975135457,
										0.2687702975135457,
										0.2687702975135457,
										0.26756036736615935,
										0.26756036736615935,
										0.26756036736615935,
										0.26756036736615935,
										0.26756036736615935,
										0.26756036736615935,
										0.26756036736615935,
										0.26756036736615935,
										0.26756036736615935,
										0.26756036736615935
									]
								},
								{
									"marker": {
										"color": "#cccccc"
									},
									"mode": "markers",
									"name": "Infeasible Trial",
									"showlegend": false,
									"type": "scatter",
									"x": [],
									"y": []
								}
							],
							"layout": {
								"template": {
									"data": {
										"bar": [
											{
												"error_x": {
													"color": "#2a3f5f"
												},
												"error_y": {
													"color": "#2a3f5f"
												},
												"marker": {
													"line": {
														"color": "#E5ECF6",
														"width": 0.5
													},
													"pattern": {
														"fillmode": "overlay",
														"size": 10,
														"solidity": 0.2
													}
												},
												"type": "bar"
											}
										],
										"barpolar": [
											{
												"marker": {
													"line": {
														"color": "#E5ECF6",
														"width": 0.5
													},
													"pattern": {
														"fillmode": "overlay",
														"size": 10,
														"solidity": 0.2
													}
												},
												"type": "barpolar"
											}
										],
										"carpet": [
											{
												"aaxis": {
													"endlinecolor": "#2a3f5f",
													"gridcolor": "white",
													"linecolor": "white",
													"minorgridcolor": "white",
													"startlinecolor": "#2a3f5f"
												},
												"baxis": {
													"endlinecolor": "#2a3f5f",
													"gridcolor": "white",
													"linecolor": "white",
													"minorgridcolor": "white",
													"startlinecolor": "#2a3f5f"
												},
												"type": "carpet"
											}
										],
										"choropleth": [
											{
												"colorbar": {
													"outlinewidth": 0,
													"ticks": ""
												},
												"type": "choropleth"
											}
										],
										"contour": [
											{
												"colorbar": {
													"outlinewidth": 0,
													"ticks": ""
												},
												"colorscale": [
													[
														0,
														"#0d0887"
													],
													[
														0.1111111111111111,
														"#46039f"
													],
													[
														0.2222222222222222,
														"#7201a8"
													],
													[
														0.3333333333333333,
														"#9c179e"
													],
													[
														0.4444444444444444,
														"#bd3786"
													],
													[
														0.5555555555555556,
														"#d8576b"
													],
													[
														0.6666666666666666,
														"#ed7953"
													],
													[
														0.7777777777777778,
														"#fb9f3a"
													],
													[
														0.8888888888888888,
														"#fdca26"
													],
													[
														1,
														"#f0f921"
													]
												],
												"type": "contour"
											}
										],
										"contourcarpet": [
											{
												"colorbar": {
													"outlinewidth": 0,
													"ticks": ""
												},
												"type": "contourcarpet"
											}
										],
										"heatmap": [
											{
												"colorbar": {
													"outlinewidth": 0,
													"ticks": ""
												},
												"colorscale": [
													[
														0,
														"#0d0887"
													],
													[
														0.1111111111111111,
														"#46039f"
													],
													[
														0.2222222222222222,
														"#7201a8"
													],
													[
														0.3333333333333333,
														"#9c179e"
													],
													[
														0.4444444444444444,
														"#bd3786"
													],
													[
														0.5555555555555556,
														"#d8576b"
													],
													[
														0.6666666666666666,
														"#ed7953"
													],
													[
														0.7777777777777778,
														"#fb9f3a"
													],
													[
														0.8888888888888888,
														"#fdca26"
													],
													[
														1,
														"#f0f921"
													]
												],
												"type": "heatmap"
											}
										],
										"heatmapgl": [
											{
												"colorbar": {
													"outlinewidth": 0,
													"ticks": ""
												},
												"colorscale": [
													[
														0,
														"#0d0887"
													],
													[
														0.1111111111111111,
														"#46039f"
													],
													[
														0.2222222222222222,
														"#7201a8"
													],
													[
														0.3333333333333333,
														"#9c179e"
													],
													[
														0.4444444444444444,
														"#bd3786"
													],
													[
														0.5555555555555556,
														"#d8576b"
													],
													[
														0.6666666666666666,
														"#ed7953"
													],
													[
														0.7777777777777778,
														"#fb9f3a"
													],
													[
														0.8888888888888888,
														"#fdca26"
													],
													[
														1,
														"#f0f921"
													]
												],
												"type": "heatmapgl"
											}
										],
										"histogram": [
											{
												"marker": {
													"pattern": {
														"fillmode": "overlay",
														"size": 10,
														"solidity": 0.2
													}
												},
												"type": "histogram"
											}
										],
										"histogram2d": [
											{
												"colorbar": {
													"outlinewidth": 0,
													"ticks": ""
												},
												"colorscale": [
													[
														0,
														"#0d0887"
													],
													[
														0.1111111111111111,
														"#46039f"
													],
													[
														0.2222222222222222,
														"#7201a8"
													],
													[
														0.3333333333333333,
														"#9c179e"
													],
													[
														0.4444444444444444,
														"#bd3786"
													],
													[
														0.5555555555555556,
														"#d8576b"
													],
													[
														0.6666666666666666,
														"#ed7953"
													],
													[
														0.7777777777777778,
														"#fb9f3a"
													],
													[
														0.8888888888888888,
														"#fdca26"
													],
													[
														1,
														"#f0f921"
													]
												],
												"type": "histogram2d"
											}
										],
										"histogram2dcontour": [
											{
												"colorbar": {
													"outlinewidth": 0,
													"ticks": ""
												},
												"colorscale": [
													[
														0,
														"#0d0887"
													],
													[
														0.1111111111111111,
														"#46039f"
													],
													[
														0.2222222222222222,
														"#7201a8"
													],
													[
														0.3333333333333333,
														"#9c179e"
													],
													[
														0.4444444444444444,
														"#bd3786"
													],
													[
														0.5555555555555556,
														"#d8576b"
													],
													[
														0.6666666666666666,
														"#ed7953"
													],
													[
														0.7777777777777778,
														"#fb9f3a"
													],
													[
														0.8888888888888888,
														"#fdca26"
													],
													[
														1,
														"#f0f921"
													]
												],
												"type": "histogram2dcontour"
											}
										],
										"mesh3d": [
											{
												"colorbar": {
													"outlinewidth": 0,
													"ticks": ""
												},
												"type": "mesh3d"
											}
										],
										"parcoords": [
											{
												"line": {
													"colorbar": {
														"outlinewidth": 0,
														"ticks": ""
													}
												},
												"type": "parcoords"
											}
										],
										"pie": [
											{
												"automargin": true,
												"type": "pie"
											}
										],
										"scatter": [
											{
												"fillpattern": {
													"fillmode": "overlay",
													"size": 10,
													"solidity": 0.2
												},
												"type": "scatter"
											}
										],
										"scatter3d": [
											{
												"line": {
													"colorbar": {
														"outlinewidth": 0,
														"ticks": ""
													}
												},
												"marker": {
													"colorbar": {
														"outlinewidth": 0,
														"ticks": ""
													}
												},
												"type": "scatter3d"
											}
										],
										"scattercarpet": [
											{
												"marker": {
													"colorbar": {
														"outlinewidth": 0,
														"ticks": ""
													}
												},
												"type": "scattercarpet"
											}
										],
										"scattergeo": [
											{
												"marker": {
													"colorbar": {
														"outlinewidth": 0,
														"ticks": ""
													}
												},
												"type": "scattergeo"
											}
										],
										"scattergl": [
											{
												"marker": {
													"colorbar": {
														"outlinewidth": 0,
														"ticks": ""
													}
												},
												"type": "scattergl"
											}
										],
										"scattermapbox": [
											{
												"marker": {
													"colorbar": {
														"outlinewidth": 0,
														"ticks": ""
													}
												},
												"type": "scattermapbox"
											}
										],
										"scatterpolar": [
											{
												"marker": {
													"colorbar": {
														"outlinewidth": 0,
														"ticks": ""
													}
												},
												"type": "scatterpolar"
											}
										],
										"scatterpolargl": [
											{
												"marker": {
													"colorbar": {
														"outlinewidth": 0,
														"ticks": ""
													}
												},
												"type": "scatterpolargl"
											}
										],
										"scatterternary": [
											{
												"marker": {
													"colorbar": {
														"outlinewidth": 0,
														"ticks": ""
													}
												},
												"type": "scatterternary"
											}
										],
										"surface": [
											{
												"colorbar": {
													"outlinewidth": 0,
													"ticks": ""
												},
												"colorscale": [
													[
														0,
														"#0d0887"
													],
													[
														0.1111111111111111,
														"#46039f"
													],
													[
														0.2222222222222222,
														"#7201a8"
													],
													[
														0.3333333333333333,
														"#9c179e"
													],
													[
														0.4444444444444444,
														"#bd3786"
													],
													[
														0.5555555555555556,
														"#d8576b"
													],
													[
														0.6666666666666666,
														"#ed7953"
													],
													[
														0.7777777777777778,
														"#fb9f3a"
													],
													[
														0.8888888888888888,
														"#fdca26"
													],
													[
														1,
														"#f0f921"
													]
												],
												"type": "surface"
											}
										],
										"table": [
											{
												"cells": {
													"fill": {
														"color": "#EBF0F8"
													},
													"line": {
														"color": "white"
													}
												},
												"header": {
													"fill": {
														"color": "#C8D4E3"
													},
													"line": {
														"color": "white"
													}
												},
												"type": "table"
											}
										]
									},
									"layout": {
										"annotationdefaults": {
											"arrowcolor": "#2a3f5f",
											"arrowhead": 0,
											"arrowwidth": 1
										},
										"autotypenumbers": "strict",
										"coloraxis": {
											"colorbar": {
												"outlinewidth": 0,
												"ticks": ""
											}
										},
										"colorscale": {
											"diverging": [
												[
													0,
													"#8e0152"
												],
												[
													0.1,
													"#c51b7d"
												],
												[
													0.2,
													"#de77ae"
												],
												[
													0.3,
													"#f1b6da"
												],
												[
													0.4,
													"#fde0ef"
												],
												[
													0.5,
													"#f7f7f7"
												],
												[
													0.6,
													"#e6f5d0"
												],
												[
													0.7,
													"#b8e186"
												],
												[
													0.8,
													"#7fbc41"
												],
												[
													0.9,
													"#4d9221"
												],
												[
													1,
													"#276419"
												]
											],
											"sequential": [
												[
													0,
													"#0d0887"
												],
												[
													0.1111111111111111,
													"#46039f"
												],
												[
													0.2222222222222222,
													"#7201a8"
												],
												[
													0.3333333333333333,
													"#9c179e"
												],
												[
													0.4444444444444444,
													"#bd3786"
												],
												[
													0.5555555555555556,
													"#d8576b"
												],
												[
													0.6666666666666666,
													"#ed7953"
												],
												[
													0.7777777777777778,
													"#fb9f3a"
												],
												[
													0.8888888888888888,
													"#fdca26"
												],
												[
													1,
													"#f0f921"
												]
											],
											"sequentialminus": [
												[
													0,
													"#0d0887"
												],
												[
													0.1111111111111111,
													"#46039f"
												],
												[
													0.2222222222222222,
													"#7201a8"
												],
												[
													0.3333333333333333,
													"#9c179e"
												],
												[
													0.4444444444444444,
													"#bd3786"
												],
												[
													0.5555555555555556,
													"#d8576b"
												],
												[
													0.6666666666666666,
													"#ed7953"
												],
												[
													0.7777777777777778,
													"#fb9f3a"
												],
												[
													0.8888888888888888,
													"#fdca26"
												],
												[
													1,
													"#f0f921"
												]
											]
										},
										"colorway": [
											"#636efa",
											"#EF553B",
											"#00cc96",
											"#ab63fa",
											"#FFA15A",
											"#19d3f3",
											"#FF6692",
											"#B6E880",
											"#FF97FF",
											"#FECB52"
										],
										"font": {
											"color": "#2a3f5f"
										},
										"geo": {
											"bgcolor": "white",
											"lakecolor": "white",
											"landcolor": "#E5ECF6",
											"showlakes": true,
											"showland": true,
											"subunitcolor": "white"
										},
										"hoverlabel": {
											"align": "left"
										},
										"hovermode": "closest",
										"mapbox": {
											"style": "light"
										},
										"paper_bgcolor": "white",
										"plot_bgcolor": "#E5ECF6",
										"polar": {
											"angularaxis": {
												"gridcolor": "white",
												"linecolor": "white",
												"ticks": ""
											},
											"bgcolor": "#E5ECF6",
											"radialaxis": {
												"gridcolor": "white",
												"linecolor": "white",
												"ticks": ""
											}
										},
										"scene": {
											"xaxis": {
												"backgroundcolor": "#E5ECF6",
												"gridcolor": "white",
												"gridwidth": 2,
												"linecolor": "white",
												"showbackground": true,
												"ticks": "",
												"zerolinecolor": "white"
											},
											"yaxis": {
												"backgroundcolor": "#E5ECF6",
												"gridcolor": "white",
												"gridwidth": 2,
												"linecolor": "white",
												"showbackground": true,
												"ticks": "",
												"zerolinecolor": "white"
											},
											"zaxis": {
												"backgroundcolor": "#E5ECF6",
												"gridcolor": "white",
												"gridwidth": 2,
												"linecolor": "white",
												"showbackground": true,
												"ticks": "",
												"zerolinecolor": "white"
											}
										},
										"shapedefaults": {
											"line": {
												"color": "#2a3f5f"
											}
										},
										"ternary": {
											"aaxis": {
												"gridcolor": "white",
												"linecolor": "white",
												"ticks": ""
											},
											"baxis": {
												"gridcolor": "white",
												"linecolor": "white",
												"ticks": ""
											},
											"bgcolor": "#E5ECF6",
											"caxis": {
												"gridcolor": "white",
												"linecolor": "white",
												"ticks": ""
											}
										},
										"title": {
											"x": 0.05
										},
										"xaxis": {
											"automargin": true,
											"gridcolor": "white",
											"linecolor": "white",
											"ticks": "",
											"title": {
												"standoff": 15
											},
											"zerolinecolor": "white",
											"zerolinewidth": 2
										},
										"yaxis": {
											"automargin": true,
											"gridcolor": "white",
											"linecolor": "white",
											"ticks": "",
											"title": {
												"standoff": 15
											},
											"zerolinecolor": "white",
											"zerolinewidth": 2
										}
									}
								},
								"title": {
									"text": "Optimization History Plot"
								},
								"xaxis": {
									"title": {
										"text": "Trial"
									}
								},
								"yaxis": {
									"title": {
										"text": "Objective Value"
									}
								}
							}
						}
					},
					"metadata": {},
					"output_type": "display_data"
				}
			],
			"source": [
				"optuna.visualization.plot_optimization_history(study)"
			]
		},
		{
			"cell_type": "code",
			"execution_count": 36,
			"metadata": {},
			"outputs": [
				{
					"data": {
						"application/vnd.plotly.v1+json": {
							"config": {
								"plotlyServerURL": "https://plot.ly"
							},
							"data": [
								{
									"dimensions": [
										{
											"label": "Objective Value",
											"range": [
												0.26756036736615935,
												0.5949002296375471
											],
											"values": [
												0.32519704881303185,
												0.32933339451026583,
												0.34532580713847005,
												0.337141751498068,
												0.3124102730275322,
												0.33315273771793247,
												0.3531645162647396,
												0.3257614028015756,
												0.5949002296375471,
												0.44110445545375904,
												0.283432180253704,
												0.2733841950906861,
												0.33738549688910224,
												0.2821326667996498,
												0.2936606123578851,
												0.2971268863998212,
												0.2784443164517285,
												0.32945547373396866,
												0.3243825595212696,
												0.352405750294523,
												0.36472528222929507,
												0.3073020016778538,
												0.28500727995486796,
												0.3241893163539905,
												0.3340743120889516,
												0.28898722310627706,
												0.2859771349934609,
												0.31601034658811294,
												0.3411566621028202,
												0.3058034089127453,
												0.34296501275487,
												0.2687702975135457,
												0.2911019907959925,
												0.2939611647216501,
												0.344139250148219,
												0.3082259462703164,
												0.2845700970493313,
												0.31574363020947704,
												0.35073747410206124,
												0.3071835616924356,
												0.4677086522347409,
												0.28897035646844416,
												0.32736784804216373,
												0.29762694215456287,
												0.26878256364376213,
												0.29143930744339114,
												0.39313205257246503,
												0.3396645631610075,
												0.312967918752511,
												0.2833206390868708,
												0.3254244477042977,
												0.28673224445533974,
												0.2910215237132724,
												0.33663834445763846,
												0.29805083664401705,
												0.3186550196558229,
												0.33128018709998036,
												0.28831754387250763,
												0.320019796192551,
												0.3431264075744974,
												0.36218200880182144,
												0.27663318682392724,
												0.282327356204379,
												0.2846683813869978,
												0.29354989451107105,
												0.35948926495929134,
												0.2980607734880508,
												0.2757023560730843,
												0.3212843996999328,
												0.2998468920089925,
												0.2936321850898209,
												0.3031109360473692,
												0.30506979109723376,
												0.299335059932847,
												0.27726456031107777,
												0.3197026616693903,
												0.3610721016867259,
												0.3017856322375178,
												0.28771354036692975,
												0.36001397984272665,
												0.28039318485554693,
												0.2949761769037094,
												0.28748086601963063,
												0.28988642449517504,
												0.330846000770609,
												0.2755188597168557,
												0.3151901181133613,
												0.3394515609516515,
												0.279441527189532,
												0.35259678053966315,
												0.26756036736615935,
												0.2839898731388246,
												0.27470824373319225,
												0.29370744684684014,
												0.28045739215083354,
												0.29977071364481417,
												0.29074368761970637,
												0.319604857634209,
												0.2857077027347594,
												0.2878060321930935
											]
										},
										{
											"label": "learning_rate",
											"range": [
												0.012764854978969356,
												0.29049585313894283
											],
											"values": [
												0.267593117461795,
												0.2589727113442577,
												0.21427980221020418,
												0.13182683300401327,
												0.20260187408469205,
												0.028634699851232688,
												0.2844066049483992,
												0.19935313467618743,
												0.023014559915282794,
												0.04678877022641999,
												0.1213112051937812,
												0.11446729346660696,
												0.1142162775589909,
												0.08900454928810904,
												0.07506187156406356,
												0.08185626842879058,
												0.16865472566121278,
												0.16414146586098646,
												0.15154369262583414,
												0.17254249831711935,
												0.22891639396218252,
												0.08462566454055234,
												0.09996116056277207,
												0.06051969627768748,
												0.14404392207024466,
												0.18325206586845688,
												0.11248707230834971,
												0.09525980881503929,
												0.1377780919990122,
												0.06232785721282394,
												0.239036660636862,
												0.12255598931314905,
												0.10341750383000117,
												0.16223175960762215,
												0.13409401544100277,
												0.04311457745659346,
												0.1307828538799112,
												0.18707784889203227,
												0.15184723264528946,
												0.12409019896753956,
												0.012764854978969356,
												0.1181888403545856,
												0.10679544639401044,
												0.06518549601844656,
												0.09139112662408969,
												0.08965053455365322,
												0.046345326038113074,
												0.0731028791459466,
												0.20356881669983035,
												0.14482048416305823,
												0.29049585313894283,
												0.17198550686886205,
												0.14777145647614381,
												0.12351040479543017,
												0.09354034571522202,
												0.16147731103371912,
												0.14010660706178468,
												0.07626085785849052,
												0.10540528737668065,
												0.1846341094850861,
												0.2706652855831479,
												0.11744139207969508,
												0.11441097886689146,
												0.10964627012259157,
												0.12765983353767738,
												0.08687325387700343,
												0.0971489217202378,
												0.11547805321778493,
												0.08147559495991766,
												0.13222337419778468,
												0.09959855855692458,
												0.11676696430986833,
												0.11429279951338023,
												0.06796442040304482,
												0.12350693793514392,
												0.15526663355775777,
												0.05720600204864207,
												0.1742764965575541,
												0.1369162710195497,
												0.12366063549935136,
												0.09222678665030536,
												0.08205921520156348,
												0.10383294564680376,
												0.09184546850695231,
												0.11003247880130926,
												0.12065534816826647,
												0.12034314215245714,
												0.13250523083945367,
												0.15520164978259704,
												0.15566931509182913,
												0.14322018406580803,
												0.16538656442887342,
												0.14311660190415712,
												0.14440344299472405,
												0.1275406340731873,
												0.1382706441772703,
												0.14685314197335717,
												0.11867606754400264,
												0.12736296874721426,
												0.17614425422064806
											]
										},
										{
											"label": "max_depth",
											"range": [
												2,
												10
											],
											"values": [
												9,
												5,
												9,
												8,
												5,
												7,
												6,
												6,
												2,
												4,
												3,
												3,
												2,
												3,
												4,
												3,
												3,
												4,
												2,
												10,
												5,
												3,
												3,
												4,
												2,
												3,
												5,
												4,
												2,
												7,
												3,
												3,
												3,
												4,
												2,
												5,
												3,
												5,
												9,
												4,
												6,
												3,
												2,
												3,
												4,
												4,
												2,
												6,
												4,
												3,
												5,
												3,
												3,
												2,
												4,
												3,
												2,
												4,
												8,
												3,
												2,
												3,
												3,
												3,
												4,
												2,
												3,
												4,
												5,
												4,
												4,
												3,
												3,
												4,
												3,
												7,
												2,
												3,
												4,
												2,
												3,
												3,
												3,
												4,
												3,
												3,
												5,
												2,
												3,
												10,
												4,
												4,
												4,
												4,
												5,
												4,
												4,
												5,
												4,
												3
											]
										},
										{
											"label": "n_estimators",
											"range": [
												56,
												297
											],
											"values": [
												297,
												95,
												279,
												288,
												274,
												218,
												256,
												151,
												184,
												70,
												233,
												229,
												221,
												225,
												153,
												186,
												244,
												251,
												195,
												124,
												206,
												250,
												238,
												162,
												269,
												215,
												233,
												199,
												170,
												293,
												127,
												233,
												255,
												235,
												269,
												212,
												224,
												284,
												264,
												238,
												194,
												243,
												222,
												279,
												228,
												205,
												225,
												56,
												178,
												262,
												244,
												262,
												256,
												227,
												297,
												212,
												247,
												275,
												190,
												260,
												206,
												232,
												232,
												230,
												216,
												240,
												249,
												199,
												181,
												199,
												217,
												229,
												235,
												204,
												221,
												168,
												221,
												212,
												89,
												251,
												241,
												243,
												221,
												238,
												197,
												209,
												208,
												186,
												226,
												227,
												216,
												218,
												202,
												202,
												209,
												191,
												212,
												255,
												174,
												234
											]
										},
										{
											"label": "subsample",
											"range": [
												0.5007527369849425,
												0.999010386111054
											],
											"values": [
												0.7706360903802824,
												0.8863003094336444,
												0.9493276445660934,
												0.8868435801052132,
												0.9062239337295626,
												0.9546279936392901,
												0.6782931822279332,
												0.7203121769063907,
												0.7777546955416367,
												0.642435911988464,
												0.5246775038673241,
												0.5082849682777049,
												0.512223578308002,
												0.5104345068793334,
												0.582380490793184,
												0.5830011523959723,
												0.5847662153259866,
												0.5904421244601817,
												0.6578053194559447,
												0.5615022984441036,
												0.8154315863946258,
												0.5022795336584275,
												0.5454805945154205,
												0.6320900822024877,
												0.6182634714905018,
												0.6968492329500976,
												0.5452022752235064,
												0.6028687123419023,
												0.5441643781159113,
												0.5007527369849425,
												0.750523188775213,
												0.5309087953054625,
												0.5610610466342697,
												0.999010386111054,
												0.521813772821312,
												0.5707021871807052,
												0.6103923191274128,
												0.5353396695041222,
												0.8315364287992428,
												0.6574995767812493,
												0.7053418368479953,
												0.5221660145614726,
												0.5305061638806614,
												0.5031059382923468,
												0.5477457735008036,
												0.5685473731521724,
												0.5938485089230439,
												0.5526624348425062,
												0.6369500029479468,
												0.5772907570360203,
												0.5184295143589501,
												0.5617611851623718,
												0.5884989110350857,
												0.5352066137495815,
												0.6228478739475506,
												0.5820879890308186,
												0.6544211258426351,
												0.6799987666663414,
												0.5130929258940896,
												0.6059995367785499,
												0.5489548662054436,
												0.5258295173126227,
												0.5802111287236595,
												0.5343856984399099,
												0.5021350240116306,
												0.5508074120453469,
												0.5213821830496556,
												0.872277198440613,
												0.9404810225597366,
												0.8114060461385173,
												0.8906174319977933,
												0.8394740356203501,
												0.7812357657877741,
												0.5623236135973059,
												0.5372381389445163,
												0.9211213691341871,
												0.8570779651846874,
												0.5374811319067782,
												0.5089338457782696,
												0.7398744705249802,
												0.5174340187345003,
												0.520242399964311,
												0.5508761620389389,
												0.5319059506207203,
												0.9959906722867444,
												0.5137576808894949,
												0.5105430357013842,
												0.5689450129169772,
												0.5388918894107891,
												0.5940160321261414,
												0.5406516005689751,
												0.5557724344694196,
												0.5418480086606893,
												0.5284729481912918,
												0.5477745710819973,
												0.5019503850286139,
												0.5280517474257275,
												0.5733044545999941,
												0.5602314712383062,
												0.5402212509921593
											]
										}
									],
									"labelangle": 30,
									"labelside": "bottom",
									"line": {
										"color": [
											0.32519704881303185,
											0.32933339451026583,
											0.34532580713847005,
											0.337141751498068,
											0.3124102730275322,
											0.33315273771793247,
											0.3531645162647396,
											0.3257614028015756,
											0.5949002296375471,
											0.44110445545375904,
											0.283432180253704,
											0.2733841950906861,
											0.33738549688910224,
											0.2821326667996498,
											0.2936606123578851,
											0.2971268863998212,
											0.2784443164517285,
											0.32945547373396866,
											0.3243825595212696,
											0.352405750294523,
											0.36472528222929507,
											0.3073020016778538,
											0.28500727995486796,
											0.3241893163539905,
											0.3340743120889516,
											0.28898722310627706,
											0.2859771349934609,
											0.31601034658811294,
											0.3411566621028202,
											0.3058034089127453,
											0.34296501275487,
											0.2687702975135457,
											0.2911019907959925,
											0.2939611647216501,
											0.344139250148219,
											0.3082259462703164,
											0.2845700970493313,
											0.31574363020947704,
											0.35073747410206124,
											0.3071835616924356,
											0.4677086522347409,
											0.28897035646844416,
											0.32736784804216373,
											0.29762694215456287,
											0.26878256364376213,
											0.29143930744339114,
											0.39313205257246503,
											0.3396645631610075,
											0.312967918752511,
											0.2833206390868708,
											0.3254244477042977,
											0.28673224445533974,
											0.2910215237132724,
											0.33663834445763846,
											0.29805083664401705,
											0.3186550196558229,
											0.33128018709998036,
											0.28831754387250763,
											0.320019796192551,
											0.3431264075744974,
											0.36218200880182144,
											0.27663318682392724,
											0.282327356204379,
											0.2846683813869978,
											0.29354989451107105,
											0.35948926495929134,
											0.2980607734880508,
											0.2757023560730843,
											0.3212843996999328,
											0.2998468920089925,
											0.2936321850898209,
											0.3031109360473692,
											0.30506979109723376,
											0.299335059932847,
											0.27726456031107777,
											0.3197026616693903,
											0.3610721016867259,
											0.3017856322375178,
											0.28771354036692975,
											0.36001397984272665,
											0.28039318485554693,
											0.2949761769037094,
											0.28748086601963063,
											0.28988642449517504,
											0.330846000770609,
											0.2755188597168557,
											0.3151901181133613,
											0.3394515609516515,
											0.279441527189532,
											0.35259678053966315,
											0.26756036736615935,
											0.2839898731388246,
											0.27470824373319225,
											0.29370744684684014,
											0.28045739215083354,
											0.29977071364481417,
											0.29074368761970637,
											0.319604857634209,
											0.2857077027347594,
											0.2878060321930935
										],
										"colorbar": {
											"title": {
												"text": "Objective Value"
											}
										},
										"colorscale": [
											[
												0,
												"rgb(247,251,255)"
											],
											[
												0.125,
												"rgb(222,235,247)"
											],
											[
												0.25,
												"rgb(198,219,239)"
											],
											[
												0.375,
												"rgb(158,202,225)"
											],
											[
												0.5,
												"rgb(107,174,214)"
											],
											[
												0.625,
												"rgb(66,146,198)"
											],
											[
												0.75,
												"rgb(33,113,181)"
											],
											[
												0.875,
												"rgb(8,81,156)"
											],
											[
												1,
												"rgb(8,48,107)"
											]
										],
										"reversescale": true,
										"showscale": true
									},
									"type": "parcoords"
								}
							],
							"layout": {
								"template": {
									"data": {
										"bar": [
											{
												"error_x": {
													"color": "#2a3f5f"
												},
												"error_y": {
													"color": "#2a3f5f"
												},
												"marker": {
													"line": {
														"color": "#E5ECF6",
														"width": 0.5
													},
													"pattern": {
														"fillmode": "overlay",
														"size": 10,
														"solidity": 0.2
													}
												},
												"type": "bar"
											}
										],
										"barpolar": [
											{
												"marker": {
													"line": {
														"color": "#E5ECF6",
														"width": 0.5
													},
													"pattern": {
														"fillmode": "overlay",
														"size": 10,
														"solidity": 0.2
													}
												},
												"type": "barpolar"
											}
										],
										"carpet": [
											{
												"aaxis": {
													"endlinecolor": "#2a3f5f",
													"gridcolor": "white",
													"linecolor": "white",
													"minorgridcolor": "white",
													"startlinecolor": "#2a3f5f"
												},
												"baxis": {
													"endlinecolor": "#2a3f5f",
													"gridcolor": "white",
													"linecolor": "white",
													"minorgridcolor": "white",
													"startlinecolor": "#2a3f5f"
												},
												"type": "carpet"
											}
										],
										"choropleth": [
											{
												"colorbar": {
													"outlinewidth": 0,
													"ticks": ""
												},
												"type": "choropleth"
											}
										],
										"contour": [
											{
												"colorbar": {
													"outlinewidth": 0,
													"ticks": ""
												},
												"colorscale": [
													[
														0,
														"#0d0887"
													],
													[
														0.1111111111111111,
														"#46039f"
													],
													[
														0.2222222222222222,
														"#7201a8"
													],
													[
														0.3333333333333333,
														"#9c179e"
													],
													[
														0.4444444444444444,
														"#bd3786"
													],
													[
														0.5555555555555556,
														"#d8576b"
													],
													[
														0.6666666666666666,
														"#ed7953"
													],
													[
														0.7777777777777778,
														"#fb9f3a"
													],
													[
														0.8888888888888888,
														"#fdca26"
													],
													[
														1,
														"#f0f921"
													]
												],
												"type": "contour"
											}
										],
										"contourcarpet": [
											{
												"colorbar": {
													"outlinewidth": 0,
													"ticks": ""
												},
												"type": "contourcarpet"
											}
										],
										"heatmap": [
											{
												"colorbar": {
													"outlinewidth": 0,
													"ticks": ""
												},
												"colorscale": [
													[
														0,
														"#0d0887"
													],
													[
														0.1111111111111111,
														"#46039f"
													],
													[
														0.2222222222222222,
														"#7201a8"
													],
													[
														0.3333333333333333,
														"#9c179e"
													],
													[
														0.4444444444444444,
														"#bd3786"
													],
													[
														0.5555555555555556,
														"#d8576b"
													],
													[
														0.6666666666666666,
														"#ed7953"
													],
													[
														0.7777777777777778,
														"#fb9f3a"
													],
													[
														0.8888888888888888,
														"#fdca26"
													],
													[
														1,
														"#f0f921"
													]
												],
												"type": "heatmap"
											}
										],
										"heatmapgl": [
											{
												"colorbar": {
													"outlinewidth": 0,
													"ticks": ""
												},
												"colorscale": [
													[
														0,
														"#0d0887"
													],
													[
														0.1111111111111111,
														"#46039f"
													],
													[
														0.2222222222222222,
														"#7201a8"
													],
													[
														0.3333333333333333,
														"#9c179e"
													],
													[
														0.4444444444444444,
														"#bd3786"
													],
													[
														0.5555555555555556,
														"#d8576b"
													],
													[
														0.6666666666666666,
														"#ed7953"
													],
													[
														0.7777777777777778,
														"#fb9f3a"
													],
													[
														0.8888888888888888,
														"#fdca26"
													],
													[
														1,
														"#f0f921"
													]
												],
												"type": "heatmapgl"
											}
										],
										"histogram": [
											{
												"marker": {
													"pattern": {
														"fillmode": "overlay",
														"size": 10,
														"solidity": 0.2
													}
												},
												"type": "histogram"
											}
										],
										"histogram2d": [
											{
												"colorbar": {
													"outlinewidth": 0,
													"ticks": ""
												},
												"colorscale": [
													[
														0,
														"#0d0887"
													],
													[
														0.1111111111111111,
														"#46039f"
													],
													[
														0.2222222222222222,
														"#7201a8"
													],
													[
														0.3333333333333333,
														"#9c179e"
													],
													[
														0.4444444444444444,
														"#bd3786"
													],
													[
														0.5555555555555556,
														"#d8576b"
													],
													[
														0.6666666666666666,
														"#ed7953"
													],
													[
														0.7777777777777778,
														"#fb9f3a"
													],
													[
														0.8888888888888888,
														"#fdca26"
													],
													[
														1,
														"#f0f921"
													]
												],
												"type": "histogram2d"
											}
										],
										"histogram2dcontour": [
											{
												"colorbar": {
													"outlinewidth": 0,
													"ticks": ""
												},
												"colorscale": [
													[
														0,
														"#0d0887"
													],
													[
														0.1111111111111111,
														"#46039f"
													],
													[
														0.2222222222222222,
														"#7201a8"
													],
													[
														0.3333333333333333,
														"#9c179e"
													],
													[
														0.4444444444444444,
														"#bd3786"
													],
													[
														0.5555555555555556,
														"#d8576b"
													],
													[
														0.6666666666666666,
														"#ed7953"
													],
													[
														0.7777777777777778,
														"#fb9f3a"
													],
													[
														0.8888888888888888,
														"#fdca26"
													],
													[
														1,
														"#f0f921"
													]
												],
												"type": "histogram2dcontour"
											}
										],
										"mesh3d": [
											{
												"colorbar": {
													"outlinewidth": 0,
													"ticks": ""
												},
												"type": "mesh3d"
											}
										],
										"parcoords": [
											{
												"line": {
													"colorbar": {
														"outlinewidth": 0,
														"ticks": ""
													}
												},
												"type": "parcoords"
											}
										],
										"pie": [
											{
												"automargin": true,
												"type": "pie"
											}
										],
										"scatter": [
											{
												"fillpattern": {
													"fillmode": "overlay",
													"size": 10,
													"solidity": 0.2
												},
												"type": "scatter"
											}
										],
										"scatter3d": [
											{
												"line": {
													"colorbar": {
														"outlinewidth": 0,
														"ticks": ""
													}
												},
												"marker": {
													"colorbar": {
														"outlinewidth": 0,
														"ticks": ""
													}
												},
												"type": "scatter3d"
											}
										],
										"scattercarpet": [
											{
												"marker": {
													"colorbar": {
														"outlinewidth": 0,
														"ticks": ""
													}
												},
												"type": "scattercarpet"
											}
										],
										"scattergeo": [
											{
												"marker": {
													"colorbar": {
														"outlinewidth": 0,
														"ticks": ""
													}
												},
												"type": "scattergeo"
											}
										],
										"scattergl": [
											{
												"marker": {
													"colorbar": {
														"outlinewidth": 0,
														"ticks": ""
													}
												},
												"type": "scattergl"
											}
										],
										"scattermapbox": [
											{
												"marker": {
													"colorbar": {
														"outlinewidth": 0,
														"ticks": ""
													}
												},
												"type": "scattermapbox"
											}
										],
										"scatterpolar": [
											{
												"marker": {
													"colorbar": {
														"outlinewidth": 0,
														"ticks": ""
													}
												},
												"type": "scatterpolar"
											}
										],
										"scatterpolargl": [
											{
												"marker": {
													"colorbar": {
														"outlinewidth": 0,
														"ticks": ""
													}
												},
												"type": "scatterpolargl"
											}
										],
										"scatterternary": [
											{
												"marker": {
													"colorbar": {
														"outlinewidth": 0,
														"ticks": ""
													}
												},
												"type": "scatterternary"
											}
										],
										"surface": [
											{
												"colorbar": {
													"outlinewidth": 0,
													"ticks": ""
												},
												"colorscale": [
													[
														0,
														"#0d0887"
													],
													[
														0.1111111111111111,
														"#46039f"
													],
													[
														0.2222222222222222,
														"#7201a8"
													],
													[
														0.3333333333333333,
														"#9c179e"
													],
													[
														0.4444444444444444,
														"#bd3786"
													],
													[
														0.5555555555555556,
														"#d8576b"
													],
													[
														0.6666666666666666,
														"#ed7953"
													],
													[
														0.7777777777777778,
														"#fb9f3a"
													],
													[
														0.8888888888888888,
														"#fdca26"
													],
													[
														1,
														"#f0f921"
													]
												],
												"type": "surface"
											}
										],
										"table": [
											{
												"cells": {
													"fill": {
														"color": "#EBF0F8"
													},
													"line": {
														"color": "white"
													}
												},
												"header": {
													"fill": {
														"color": "#C8D4E3"
													},
													"line": {
														"color": "white"
													}
												},
												"type": "table"
											}
										]
									},
									"layout": {
										"annotationdefaults": {
											"arrowcolor": "#2a3f5f",
											"arrowhead": 0,
											"arrowwidth": 1
										},
										"autotypenumbers": "strict",
										"coloraxis": {
											"colorbar": {
												"outlinewidth": 0,
												"ticks": ""
											}
										},
										"colorscale": {
											"diverging": [
												[
													0,
													"#8e0152"
												],
												[
													0.1,
													"#c51b7d"
												],
												[
													0.2,
													"#de77ae"
												],
												[
													0.3,
													"#f1b6da"
												],
												[
													0.4,
													"#fde0ef"
												],
												[
													0.5,
													"#f7f7f7"
												],
												[
													0.6,
													"#e6f5d0"
												],
												[
													0.7,
													"#b8e186"
												],
												[
													0.8,
													"#7fbc41"
												],
												[
													0.9,
													"#4d9221"
												],
												[
													1,
													"#276419"
												]
											],
											"sequential": [
												[
													0,
													"#0d0887"
												],
												[
													0.1111111111111111,
													"#46039f"
												],
												[
													0.2222222222222222,
													"#7201a8"
												],
												[
													0.3333333333333333,
													"#9c179e"
												],
												[
													0.4444444444444444,
													"#bd3786"
												],
												[
													0.5555555555555556,
													"#d8576b"
												],
												[
													0.6666666666666666,
													"#ed7953"
												],
												[
													0.7777777777777778,
													"#fb9f3a"
												],
												[
													0.8888888888888888,
													"#fdca26"
												],
												[
													1,
													"#f0f921"
												]
											],
											"sequentialminus": [
												[
													0,
													"#0d0887"
												],
												[
													0.1111111111111111,
													"#46039f"
												],
												[
													0.2222222222222222,
													"#7201a8"
												],
												[
													0.3333333333333333,
													"#9c179e"
												],
												[
													0.4444444444444444,
													"#bd3786"
												],
												[
													0.5555555555555556,
													"#d8576b"
												],
												[
													0.6666666666666666,
													"#ed7953"
												],
												[
													0.7777777777777778,
													"#fb9f3a"
												],
												[
													0.8888888888888888,
													"#fdca26"
												],
												[
													1,
													"#f0f921"
												]
											]
										},
										"colorway": [
											"#636efa",
											"#EF553B",
											"#00cc96",
											"#ab63fa",
											"#FFA15A",
											"#19d3f3",
											"#FF6692",
											"#B6E880",
											"#FF97FF",
											"#FECB52"
										],
										"font": {
											"color": "#2a3f5f"
										},
										"geo": {
											"bgcolor": "white",
											"lakecolor": "white",
											"landcolor": "#E5ECF6",
											"showlakes": true,
											"showland": true,
											"subunitcolor": "white"
										},
										"hoverlabel": {
											"align": "left"
										},
										"hovermode": "closest",
										"mapbox": {
											"style": "light"
										},
										"paper_bgcolor": "white",
										"plot_bgcolor": "#E5ECF6",
										"polar": {
											"angularaxis": {
												"gridcolor": "white",
												"linecolor": "white",
												"ticks": ""
											},
											"bgcolor": "#E5ECF6",
											"radialaxis": {
												"gridcolor": "white",
												"linecolor": "white",
												"ticks": ""
											}
										},
										"scene": {
											"xaxis": {
												"backgroundcolor": "#E5ECF6",
												"gridcolor": "white",
												"gridwidth": 2,
												"linecolor": "white",
												"showbackground": true,
												"ticks": "",
												"zerolinecolor": "white"
											},
											"yaxis": {
												"backgroundcolor": "#E5ECF6",
												"gridcolor": "white",
												"gridwidth": 2,
												"linecolor": "white",
												"showbackground": true,
												"ticks": "",
												"zerolinecolor": "white"
											},
											"zaxis": {
												"backgroundcolor": "#E5ECF6",
												"gridcolor": "white",
												"gridwidth": 2,
												"linecolor": "white",
												"showbackground": true,
												"ticks": "",
												"zerolinecolor": "white"
											}
										},
										"shapedefaults": {
											"line": {
												"color": "#2a3f5f"
											}
										},
										"ternary": {
											"aaxis": {
												"gridcolor": "white",
												"linecolor": "white",
												"ticks": ""
											},
											"baxis": {
												"gridcolor": "white",
												"linecolor": "white",
												"ticks": ""
											},
											"bgcolor": "#E5ECF6",
											"caxis": {
												"gridcolor": "white",
												"linecolor": "white",
												"ticks": ""
											}
										},
										"title": {
											"x": 0.05
										},
										"xaxis": {
											"automargin": true,
											"gridcolor": "white",
											"linecolor": "white",
											"ticks": "",
											"title": {
												"standoff": 15
											},
											"zerolinecolor": "white",
											"zerolinewidth": 2
										},
										"yaxis": {
											"automargin": true,
											"gridcolor": "white",
											"linecolor": "white",
											"ticks": "",
											"title": {
												"standoff": 15
											},
											"zerolinecolor": "white",
											"zerolinewidth": 2
										}
									}
								},
								"title": {
									"text": "Parallel Coordinate Plot"
								}
							}
						}
					},
					"metadata": {},
					"output_type": "display_data"
				}
			],
			"source": [
				"optuna.visualization.plot_parallel_coordinate(study)"
			]
		},
		{
			"cell_type": "code",
			"execution_count": 38,
			"metadata": {},
			"outputs": [
				{
					"data": {
						"application/vnd.plotly.v1+json": {
							"config": {
								"plotlyServerURL": "https://plot.ly"
							},
							"data": [
								{
									"marker": {
										"color": [
											0,
											1,
											2,
											3,
											4,
											5,
											6,
											7,
											8,
											9,
											10,
											11,
											12,
											13,
											14,
											15,
											16,
											17,
											18,
											19,
											20,
											21,
											22,
											23,
											24,
											25,
											26,
											27,
											28,
											29,
											30,
											31,
											32,
											33,
											34,
											35,
											36,
											37,
											38,
											39,
											40,
											41,
											42,
											43,
											44,
											45,
											46,
											47,
											48,
											49,
											50,
											51,
											52,
											53,
											54,
											55,
											56,
											57,
											58,
											59,
											60,
											61,
											62,
											63,
											64,
											65,
											66,
											67,
											68,
											69,
											70,
											71,
											72,
											73,
											74,
											75,
											76,
											77,
											78,
											79,
											80,
											81,
											82,
											83,
											84,
											85,
											86,
											87,
											88,
											89,
											90,
											91,
											92,
											93,
											94,
											95,
											96,
											97,
											98,
											99
										],
										"colorbar": {
											"title": {
												"text": "Trial"
											},
											"x": 1,
											"xpad": 40
										},
										"colorscale": [
											[
												0,
												"rgb(247,251,255)"
											],
											[
												0.125,
												"rgb(222,235,247)"
											],
											[
												0.25,
												"rgb(198,219,239)"
											],
											[
												0.375,
												"rgb(158,202,225)"
											],
											[
												0.5,
												"rgb(107,174,214)"
											],
											[
												0.625,
												"rgb(66,146,198)"
											],
											[
												0.75,
												"rgb(33,113,181)"
											],
											[
												0.875,
												"rgb(8,81,156)"
											],
											[
												1,
												"rgb(8,48,107)"
											]
										],
										"line": {
											"color": "Grey",
											"width": 0.5
										},
										"showscale": true
									},
									"mode": "markers",
									"name": "Feasible Trial",
									"showlegend": false,
									"type": "scatter",
									"x": [
										0.267593117461795,
										0.2589727113442577,
										0.21427980221020418,
										0.13182683300401327,
										0.20260187408469205,
										0.028634699851232688,
										0.2844066049483992,
										0.19935313467618743,
										0.023014559915282794,
										0.04678877022641999,
										0.1213112051937812,
										0.11446729346660696,
										0.1142162775589909,
										0.08900454928810904,
										0.07506187156406356,
										0.08185626842879058,
										0.16865472566121278,
										0.16414146586098646,
										0.15154369262583414,
										0.17254249831711935,
										0.22891639396218252,
										0.08462566454055234,
										0.09996116056277207,
										0.06051969627768748,
										0.14404392207024466,
										0.18325206586845688,
										0.11248707230834971,
										0.09525980881503929,
										0.1377780919990122,
										0.06232785721282394,
										0.239036660636862,
										0.12255598931314905,
										0.10341750383000117,
										0.16223175960762215,
										0.13409401544100277,
										0.04311457745659346,
										0.1307828538799112,
										0.18707784889203227,
										0.15184723264528946,
										0.12409019896753956,
										0.012764854978969356,
										0.1181888403545856,
										0.10679544639401044,
										0.06518549601844656,
										0.09139112662408969,
										0.08965053455365322,
										0.046345326038113074,
										0.0731028791459466,
										0.20356881669983035,
										0.14482048416305823,
										0.29049585313894283,
										0.17198550686886205,
										0.14777145647614381,
										0.12351040479543017,
										0.09354034571522202,
										0.16147731103371912,
										0.14010660706178468,
										0.07626085785849052,
										0.10540528737668065,
										0.1846341094850861,
										0.2706652855831479,
										0.11744139207969508,
										0.11441097886689146,
										0.10964627012259157,
										0.12765983353767738,
										0.08687325387700343,
										0.0971489217202378,
										0.11547805321778493,
										0.08147559495991766,
										0.13222337419778468,
										0.09959855855692458,
										0.11676696430986833,
										0.11429279951338023,
										0.06796442040304482,
										0.12350693793514392,
										0.15526663355775777,
										0.05720600204864207,
										0.1742764965575541,
										0.1369162710195497,
										0.12366063549935136,
										0.09222678665030536,
										0.08205921520156348,
										0.10383294564680376,
										0.09184546850695231,
										0.11003247880130926,
										0.12065534816826647,
										0.12034314215245714,
										0.13250523083945367,
										0.15520164978259704,
										0.15566931509182913,
										0.14322018406580803,
										0.16538656442887342,
										0.14311660190415712,
										0.14440344299472405,
										0.1275406340731873,
										0.1382706441772703,
										0.14685314197335717,
										0.11867606754400264,
										0.12736296874721426,
										0.17614425422064806
									],
									"xaxis": "x",
									"y": [
										0.32519704881303185,
										0.32933339451026583,
										0.34532580713847005,
										0.337141751498068,
										0.3124102730275322,
										0.33315273771793247,
										0.3531645162647396,
										0.3257614028015756,
										0.5949002296375471,
										0.44110445545375904,
										0.283432180253704,
										0.2733841950906861,
										0.33738549688910224,
										0.2821326667996498,
										0.2936606123578851,
										0.2971268863998212,
										0.2784443164517285,
										0.32945547373396866,
										0.3243825595212696,
										0.352405750294523,
										0.36472528222929507,
										0.3073020016778538,
										0.28500727995486796,
										0.3241893163539905,
										0.3340743120889516,
										0.28898722310627706,
										0.2859771349934609,
										0.31601034658811294,
										0.3411566621028202,
										0.3058034089127453,
										0.34296501275487,
										0.2687702975135457,
										0.2911019907959925,
										0.2939611647216501,
										0.344139250148219,
										0.3082259462703164,
										0.2845700970493313,
										0.31574363020947704,
										0.35073747410206124,
										0.3071835616924356,
										0.4677086522347409,
										0.28897035646844416,
										0.32736784804216373,
										0.29762694215456287,
										0.26878256364376213,
										0.29143930744339114,
										0.39313205257246503,
										0.3396645631610075,
										0.312967918752511,
										0.2833206390868708,
										0.3254244477042977,
										0.28673224445533974,
										0.2910215237132724,
										0.33663834445763846,
										0.29805083664401705,
										0.3186550196558229,
										0.33128018709998036,
										0.28831754387250763,
										0.320019796192551,
										0.3431264075744974,
										0.36218200880182144,
										0.27663318682392724,
										0.282327356204379,
										0.2846683813869978,
										0.29354989451107105,
										0.35948926495929134,
										0.2980607734880508,
										0.2757023560730843,
										0.3212843996999328,
										0.2998468920089925,
										0.2936321850898209,
										0.3031109360473692,
										0.30506979109723376,
										0.299335059932847,
										0.27726456031107777,
										0.3197026616693903,
										0.3610721016867259,
										0.3017856322375178,
										0.28771354036692975,
										0.36001397984272665,
										0.28039318485554693,
										0.2949761769037094,
										0.28748086601963063,
										0.28988642449517504,
										0.330846000770609,
										0.2755188597168557,
										0.3151901181133613,
										0.3394515609516515,
										0.279441527189532,
										0.35259678053966315,
										0.26756036736615935,
										0.2839898731388246,
										0.27470824373319225,
										0.29370744684684014,
										0.28045739215083354,
										0.29977071364481417,
										0.29074368761970637,
										0.319604857634209,
										0.2857077027347594,
										0.2878060321930935
									],
									"yaxis": "y"
								},
								{
									"marker": {
										"color": [
											0,
											1,
											2,
											3,
											4,
											5,
											6,
											7,
											8,
											9,
											10,
											11,
											12,
											13,
											14,
											15,
											16,
											17,
											18,
											19,
											20,
											21,
											22,
											23,
											24,
											25,
											26,
											27,
											28,
											29,
											30,
											31,
											32,
											33,
											34,
											35,
											36,
											37,
											38,
											39,
											40,
											41,
											42,
											43,
											44,
											45,
											46,
											47,
											48,
											49,
											50,
											51,
											52,
											53,
											54,
											55,
											56,
											57,
											58,
											59,
											60,
											61,
											62,
											63,
											64,
											65,
											66,
											67,
											68,
											69,
											70,
											71,
											72,
											73,
											74,
											75,
											76,
											77,
											78,
											79,
											80,
											81,
											82,
											83,
											84,
											85,
											86,
											87,
											88,
											89,
											90,
											91,
											92,
											93,
											94,
											95,
											96,
											97,
											98,
											99
										],
										"colorbar": {
											"title": {
												"text": "Trial"
											},
											"x": 1,
											"xpad": 40
										},
										"colorscale": [
											[
												0,
												"rgb(247,251,255)"
											],
											[
												0.125,
												"rgb(222,235,247)"
											],
											[
												0.25,
												"rgb(198,219,239)"
											],
											[
												0.375,
												"rgb(158,202,225)"
											],
											[
												0.5,
												"rgb(107,174,214)"
											],
											[
												0.625,
												"rgb(66,146,198)"
											],
											[
												0.75,
												"rgb(33,113,181)"
											],
											[
												0.875,
												"rgb(8,81,156)"
											],
											[
												1,
												"rgb(8,48,107)"
											]
										],
										"line": {
											"color": "Grey",
											"width": 0.5
										},
										"showscale": false
									},
									"mode": "markers",
									"name": "Feasible Trial",
									"showlegend": false,
									"type": "scatter",
									"x": [
										9,
										5,
										9,
										8,
										5,
										7,
										6,
										6,
										2,
										4,
										3,
										3,
										2,
										3,
										4,
										3,
										3,
										4,
										2,
										10,
										5,
										3,
										3,
										4,
										2,
										3,
										5,
										4,
										2,
										7,
										3,
										3,
										3,
										4,
										2,
										5,
										3,
										5,
										9,
										4,
										6,
										3,
										2,
										3,
										4,
										4,
										2,
										6,
										4,
										3,
										5,
										3,
										3,
										2,
										4,
										3,
										2,
										4,
										8,
										3,
										2,
										3,
										3,
										3,
										4,
										2,
										3,
										4,
										5,
										4,
										4,
										3,
										3,
										4,
										3,
										7,
										2,
										3,
										4,
										2,
										3,
										3,
										3,
										4,
										3,
										3,
										5,
										2,
										3,
										10,
										4,
										4,
										4,
										4,
										5,
										4,
										4,
										5,
										4,
										3
									],
									"xaxis": "x2",
									"y": [
										0.32519704881303185,
										0.32933339451026583,
										0.34532580713847005,
										0.337141751498068,
										0.3124102730275322,
										0.33315273771793247,
										0.3531645162647396,
										0.3257614028015756,
										0.5949002296375471,
										0.44110445545375904,
										0.283432180253704,
										0.2733841950906861,
										0.33738549688910224,
										0.2821326667996498,
										0.2936606123578851,
										0.2971268863998212,
										0.2784443164517285,
										0.32945547373396866,
										0.3243825595212696,
										0.352405750294523,
										0.36472528222929507,
										0.3073020016778538,
										0.28500727995486796,
										0.3241893163539905,
										0.3340743120889516,
										0.28898722310627706,
										0.2859771349934609,
										0.31601034658811294,
										0.3411566621028202,
										0.3058034089127453,
										0.34296501275487,
										0.2687702975135457,
										0.2911019907959925,
										0.2939611647216501,
										0.344139250148219,
										0.3082259462703164,
										0.2845700970493313,
										0.31574363020947704,
										0.35073747410206124,
										0.3071835616924356,
										0.4677086522347409,
										0.28897035646844416,
										0.32736784804216373,
										0.29762694215456287,
										0.26878256364376213,
										0.29143930744339114,
										0.39313205257246503,
										0.3396645631610075,
										0.312967918752511,
										0.2833206390868708,
										0.3254244477042977,
										0.28673224445533974,
										0.2910215237132724,
										0.33663834445763846,
										0.29805083664401705,
										0.3186550196558229,
										0.33128018709998036,
										0.28831754387250763,
										0.320019796192551,
										0.3431264075744974,
										0.36218200880182144,
										0.27663318682392724,
										0.282327356204379,
										0.2846683813869978,
										0.29354989451107105,
										0.35948926495929134,
										0.2980607734880508,
										0.2757023560730843,
										0.3212843996999328,
										0.2998468920089925,
										0.2936321850898209,
										0.3031109360473692,
										0.30506979109723376,
										0.299335059932847,
										0.27726456031107777,
										0.3197026616693903,
										0.3610721016867259,
										0.3017856322375178,
										0.28771354036692975,
										0.36001397984272665,
										0.28039318485554693,
										0.2949761769037094,
										0.28748086601963063,
										0.28988642449517504,
										0.330846000770609,
										0.2755188597168557,
										0.3151901181133613,
										0.3394515609516515,
										0.279441527189532,
										0.35259678053966315,
										0.26756036736615935,
										0.2839898731388246,
										0.27470824373319225,
										0.29370744684684014,
										0.28045739215083354,
										0.29977071364481417,
										0.29074368761970637,
										0.319604857634209,
										0.2857077027347594,
										0.2878060321930935
									],
									"yaxis": "y2"
								},
								{
									"marker": {
										"color": [
											0,
											1,
											2,
											3,
											4,
											5,
											6,
											7,
											8,
											9,
											10,
											11,
											12,
											13,
											14,
											15,
											16,
											17,
											18,
											19,
											20,
											21,
											22,
											23,
											24,
											25,
											26,
											27,
											28,
											29,
											30,
											31,
											32,
											33,
											34,
											35,
											36,
											37,
											38,
											39,
											40,
											41,
											42,
											43,
											44,
											45,
											46,
											47,
											48,
											49,
											50,
											51,
											52,
											53,
											54,
											55,
											56,
											57,
											58,
											59,
											60,
											61,
											62,
											63,
											64,
											65,
											66,
											67,
											68,
											69,
											70,
											71,
											72,
											73,
											74,
											75,
											76,
											77,
											78,
											79,
											80,
											81,
											82,
											83,
											84,
											85,
											86,
											87,
											88,
											89,
											90,
											91,
											92,
											93,
											94,
											95,
											96,
											97,
											98,
											99
										],
										"colorbar": {
											"title": {
												"text": "Trial"
											},
											"x": 1,
											"xpad": 40
										},
										"colorscale": [
											[
												0,
												"rgb(247,251,255)"
											],
											[
												0.125,
												"rgb(222,235,247)"
											],
											[
												0.25,
												"rgb(198,219,239)"
											],
											[
												0.375,
												"rgb(158,202,225)"
											],
											[
												0.5,
												"rgb(107,174,214)"
											],
											[
												0.625,
												"rgb(66,146,198)"
											],
											[
												0.75,
												"rgb(33,113,181)"
											],
											[
												0.875,
												"rgb(8,81,156)"
											],
											[
												1,
												"rgb(8,48,107)"
											]
										],
										"line": {
											"color": "Grey",
											"width": 0.5
										},
										"showscale": false
									},
									"mode": "markers",
									"name": "Feasible Trial",
									"showlegend": false,
									"type": "scatter",
									"x": [
										297,
										95,
										279,
										288,
										274,
										218,
										256,
										151,
										184,
										70,
										233,
										229,
										221,
										225,
										153,
										186,
										244,
										251,
										195,
										124,
										206,
										250,
										238,
										162,
										269,
										215,
										233,
										199,
										170,
										293,
										127,
										233,
										255,
										235,
										269,
										212,
										224,
										284,
										264,
										238,
										194,
										243,
										222,
										279,
										228,
										205,
										225,
										56,
										178,
										262,
										244,
										262,
										256,
										227,
										297,
										212,
										247,
										275,
										190,
										260,
										206,
										232,
										232,
										230,
										216,
										240,
										249,
										199,
										181,
										199,
										217,
										229,
										235,
										204,
										221,
										168,
										221,
										212,
										89,
										251,
										241,
										243,
										221,
										238,
										197,
										209,
										208,
										186,
										226,
										227,
										216,
										218,
										202,
										202,
										209,
										191,
										212,
										255,
										174,
										234
									],
									"xaxis": "x3",
									"y": [
										0.32519704881303185,
										0.32933339451026583,
										0.34532580713847005,
										0.337141751498068,
										0.3124102730275322,
										0.33315273771793247,
										0.3531645162647396,
										0.3257614028015756,
										0.5949002296375471,
										0.44110445545375904,
										0.283432180253704,
										0.2733841950906861,
										0.33738549688910224,
										0.2821326667996498,
										0.2936606123578851,
										0.2971268863998212,
										0.2784443164517285,
										0.32945547373396866,
										0.3243825595212696,
										0.352405750294523,
										0.36472528222929507,
										0.3073020016778538,
										0.28500727995486796,
										0.3241893163539905,
										0.3340743120889516,
										0.28898722310627706,
										0.2859771349934609,
										0.31601034658811294,
										0.3411566621028202,
										0.3058034089127453,
										0.34296501275487,
										0.2687702975135457,
										0.2911019907959925,
										0.2939611647216501,
										0.344139250148219,
										0.3082259462703164,
										0.2845700970493313,
										0.31574363020947704,
										0.35073747410206124,
										0.3071835616924356,
										0.4677086522347409,
										0.28897035646844416,
										0.32736784804216373,
										0.29762694215456287,
										0.26878256364376213,
										0.29143930744339114,
										0.39313205257246503,
										0.3396645631610075,
										0.312967918752511,
										0.2833206390868708,
										0.3254244477042977,
										0.28673224445533974,
										0.2910215237132724,
										0.33663834445763846,
										0.29805083664401705,
										0.3186550196558229,
										0.33128018709998036,
										0.28831754387250763,
										0.320019796192551,
										0.3431264075744974,
										0.36218200880182144,
										0.27663318682392724,
										0.282327356204379,
										0.2846683813869978,
										0.29354989451107105,
										0.35948926495929134,
										0.2980607734880508,
										0.2757023560730843,
										0.3212843996999328,
										0.2998468920089925,
										0.2936321850898209,
										0.3031109360473692,
										0.30506979109723376,
										0.299335059932847,
										0.27726456031107777,
										0.3197026616693903,
										0.3610721016867259,
										0.3017856322375178,
										0.28771354036692975,
										0.36001397984272665,
										0.28039318485554693,
										0.2949761769037094,
										0.28748086601963063,
										0.28988642449517504,
										0.330846000770609,
										0.2755188597168557,
										0.3151901181133613,
										0.3394515609516515,
										0.279441527189532,
										0.35259678053966315,
										0.26756036736615935,
										0.2839898731388246,
										0.27470824373319225,
										0.29370744684684014,
										0.28045739215083354,
										0.29977071364481417,
										0.29074368761970637,
										0.319604857634209,
										0.2857077027347594,
										0.2878060321930935
									],
									"yaxis": "y3"
								},
								{
									"marker": {
										"color": [
											0,
											1,
											2,
											3,
											4,
											5,
											6,
											7,
											8,
											9,
											10,
											11,
											12,
											13,
											14,
											15,
											16,
											17,
											18,
											19,
											20,
											21,
											22,
											23,
											24,
											25,
											26,
											27,
											28,
											29,
											30,
											31,
											32,
											33,
											34,
											35,
											36,
											37,
											38,
											39,
											40,
											41,
											42,
											43,
											44,
											45,
											46,
											47,
											48,
											49,
											50,
											51,
											52,
											53,
											54,
											55,
											56,
											57,
											58,
											59,
											60,
											61,
											62,
											63,
											64,
											65,
											66,
											67,
											68,
											69,
											70,
											71,
											72,
											73,
											74,
											75,
											76,
											77,
											78,
											79,
											80,
											81,
											82,
											83,
											84,
											85,
											86,
											87,
											88,
											89,
											90,
											91,
											92,
											93,
											94,
											95,
											96,
											97,
											98,
											99
										],
										"colorbar": {
											"title": {
												"text": "Trial"
											},
											"x": 1,
											"xpad": 40
										},
										"colorscale": [
											[
												0,
												"rgb(247,251,255)"
											],
											[
												0.125,
												"rgb(222,235,247)"
											],
											[
												0.25,
												"rgb(198,219,239)"
											],
											[
												0.375,
												"rgb(158,202,225)"
											],
											[
												0.5,
												"rgb(107,174,214)"
											],
											[
												0.625,
												"rgb(66,146,198)"
											],
											[
												0.75,
												"rgb(33,113,181)"
											],
											[
												0.875,
												"rgb(8,81,156)"
											],
											[
												1,
												"rgb(8,48,107)"
											]
										],
										"line": {
											"color": "Grey",
											"width": 0.5
										},
										"showscale": false
									},
									"mode": "markers",
									"name": "Feasible Trial",
									"showlegend": false,
									"type": "scatter",
									"x": [
										0.7706360903802824,
										0.8863003094336444,
										0.9493276445660934,
										0.8868435801052132,
										0.9062239337295626,
										0.9546279936392901,
										0.6782931822279332,
										0.7203121769063907,
										0.7777546955416367,
										0.642435911988464,
										0.5246775038673241,
										0.5082849682777049,
										0.512223578308002,
										0.5104345068793334,
										0.582380490793184,
										0.5830011523959723,
										0.5847662153259866,
										0.5904421244601817,
										0.6578053194559447,
										0.5615022984441036,
										0.8154315863946258,
										0.5022795336584275,
										0.5454805945154205,
										0.6320900822024877,
										0.6182634714905018,
										0.6968492329500976,
										0.5452022752235064,
										0.6028687123419023,
										0.5441643781159113,
										0.5007527369849425,
										0.750523188775213,
										0.5309087953054625,
										0.5610610466342697,
										0.999010386111054,
										0.521813772821312,
										0.5707021871807052,
										0.6103923191274128,
										0.5353396695041222,
										0.8315364287992428,
										0.6574995767812493,
										0.7053418368479953,
										0.5221660145614726,
										0.5305061638806614,
										0.5031059382923468,
										0.5477457735008036,
										0.5685473731521724,
										0.5938485089230439,
										0.5526624348425062,
										0.6369500029479468,
										0.5772907570360203,
										0.5184295143589501,
										0.5617611851623718,
										0.5884989110350857,
										0.5352066137495815,
										0.6228478739475506,
										0.5820879890308186,
										0.6544211258426351,
										0.6799987666663414,
										0.5130929258940896,
										0.6059995367785499,
										0.5489548662054436,
										0.5258295173126227,
										0.5802111287236595,
										0.5343856984399099,
										0.5021350240116306,
										0.5508074120453469,
										0.5213821830496556,
										0.872277198440613,
										0.9404810225597366,
										0.8114060461385173,
										0.8906174319977933,
										0.8394740356203501,
										0.7812357657877741,
										0.5623236135973059,
										0.5372381389445163,
										0.9211213691341871,
										0.8570779651846874,
										0.5374811319067782,
										0.5089338457782696,
										0.7398744705249802,
										0.5174340187345003,
										0.520242399964311,
										0.5508761620389389,
										0.5319059506207203,
										0.9959906722867444,
										0.5137576808894949,
										0.5105430357013842,
										0.5689450129169772,
										0.5388918894107891,
										0.5940160321261414,
										0.5406516005689751,
										0.5557724344694196,
										0.5418480086606893,
										0.5284729481912918,
										0.5477745710819973,
										0.5019503850286139,
										0.5280517474257275,
										0.5733044545999941,
										0.5602314712383062,
										0.5402212509921593
									],
									"xaxis": "x4",
									"y": [
										0.32519704881303185,
										0.32933339451026583,
										0.34532580713847005,
										0.337141751498068,
										0.3124102730275322,
										0.33315273771793247,
										0.3531645162647396,
										0.3257614028015756,
										0.5949002296375471,
										0.44110445545375904,
										0.283432180253704,
										0.2733841950906861,
										0.33738549688910224,
										0.2821326667996498,
										0.2936606123578851,
										0.2971268863998212,
										0.2784443164517285,
										0.32945547373396866,
										0.3243825595212696,
										0.352405750294523,
										0.36472528222929507,
										0.3073020016778538,
										0.28500727995486796,
										0.3241893163539905,
										0.3340743120889516,
										0.28898722310627706,
										0.2859771349934609,
										0.31601034658811294,
										0.3411566621028202,
										0.3058034089127453,
										0.34296501275487,
										0.2687702975135457,
										0.2911019907959925,
										0.2939611647216501,
										0.344139250148219,
										0.3082259462703164,
										0.2845700970493313,
										0.31574363020947704,
										0.35073747410206124,
										0.3071835616924356,
										0.4677086522347409,
										0.28897035646844416,
										0.32736784804216373,
										0.29762694215456287,
										0.26878256364376213,
										0.29143930744339114,
										0.39313205257246503,
										0.3396645631610075,
										0.312967918752511,
										0.2833206390868708,
										0.3254244477042977,
										0.28673224445533974,
										0.2910215237132724,
										0.33663834445763846,
										0.29805083664401705,
										0.3186550196558229,
										0.33128018709998036,
										0.28831754387250763,
										0.320019796192551,
										0.3431264075744974,
										0.36218200880182144,
										0.27663318682392724,
										0.282327356204379,
										0.2846683813869978,
										0.29354989451107105,
										0.35948926495929134,
										0.2980607734880508,
										0.2757023560730843,
										0.3212843996999328,
										0.2998468920089925,
										0.2936321850898209,
										0.3031109360473692,
										0.30506979109723376,
										0.299335059932847,
										0.27726456031107777,
										0.3197026616693903,
										0.3610721016867259,
										0.3017856322375178,
										0.28771354036692975,
										0.36001397984272665,
										0.28039318485554693,
										0.2949761769037094,
										0.28748086601963063,
										0.28988642449517504,
										0.330846000770609,
										0.2755188597168557,
										0.3151901181133613,
										0.3394515609516515,
										0.279441527189532,
										0.35259678053966315,
										0.26756036736615935,
										0.2839898731388246,
										0.27470824373319225,
										0.29370744684684014,
										0.28045739215083354,
										0.29977071364481417,
										0.29074368761970637,
										0.319604857634209,
										0.2857077027347594,
										0.2878060321930935
									],
									"yaxis": "y4"
								}
							],
							"layout": {
								"template": {
									"data": {
										"bar": [
											{
												"error_x": {
													"color": "#2a3f5f"
												},
												"error_y": {
													"color": "#2a3f5f"
												},
												"marker": {
													"line": {
														"color": "#E5ECF6",
														"width": 0.5
													},
													"pattern": {
														"fillmode": "overlay",
														"size": 10,
														"solidity": 0.2
													}
												},
												"type": "bar"
											}
										],
										"barpolar": [
											{
												"marker": {
													"line": {
														"color": "#E5ECF6",
														"width": 0.5
													},
													"pattern": {
														"fillmode": "overlay",
														"size": 10,
														"solidity": 0.2
													}
												},
												"type": "barpolar"
											}
										],
										"carpet": [
											{
												"aaxis": {
													"endlinecolor": "#2a3f5f",
													"gridcolor": "white",
													"linecolor": "white",
													"minorgridcolor": "white",
													"startlinecolor": "#2a3f5f"
												},
												"baxis": {
													"endlinecolor": "#2a3f5f",
													"gridcolor": "white",
													"linecolor": "white",
													"minorgridcolor": "white",
													"startlinecolor": "#2a3f5f"
												},
												"type": "carpet"
											}
										],
										"choropleth": [
											{
												"colorbar": {
													"outlinewidth": 0,
													"ticks": ""
												},
												"type": "choropleth"
											}
										],
										"contour": [
											{
												"colorbar": {
													"outlinewidth": 0,
													"ticks": ""
												},
												"colorscale": [
													[
														0,
														"#0d0887"
													],
													[
														0.1111111111111111,
														"#46039f"
													],
													[
														0.2222222222222222,
														"#7201a8"
													],
													[
														0.3333333333333333,
														"#9c179e"
													],
													[
														0.4444444444444444,
														"#bd3786"
													],
													[
														0.5555555555555556,
														"#d8576b"
													],
													[
														0.6666666666666666,
														"#ed7953"
													],
													[
														0.7777777777777778,
														"#fb9f3a"
													],
													[
														0.8888888888888888,
														"#fdca26"
													],
													[
														1,
														"#f0f921"
													]
												],
												"type": "contour"
											}
										],
										"contourcarpet": [
											{
												"colorbar": {
													"outlinewidth": 0,
													"ticks": ""
												},
												"type": "contourcarpet"
											}
										],
										"heatmap": [
											{
												"colorbar": {
													"outlinewidth": 0,
													"ticks": ""
												},
												"colorscale": [
													[
														0,
														"#0d0887"
													],
													[
														0.1111111111111111,
														"#46039f"
													],
													[
														0.2222222222222222,
														"#7201a8"
													],
													[
														0.3333333333333333,
														"#9c179e"
													],
													[
														0.4444444444444444,
														"#bd3786"
													],
													[
														0.5555555555555556,
														"#d8576b"
													],
													[
														0.6666666666666666,
														"#ed7953"
													],
													[
														0.7777777777777778,
														"#fb9f3a"
													],
													[
														0.8888888888888888,
														"#fdca26"
													],
													[
														1,
														"#f0f921"
													]
												],
												"type": "heatmap"
											}
										],
										"heatmapgl": [
											{
												"colorbar": {
													"outlinewidth": 0,
													"ticks": ""
												},
												"colorscale": [
													[
														0,
														"#0d0887"
													],
													[
														0.1111111111111111,
														"#46039f"
													],
													[
														0.2222222222222222,
														"#7201a8"
													],
													[
														0.3333333333333333,
														"#9c179e"
													],
													[
														0.4444444444444444,
														"#bd3786"
													],
													[
														0.5555555555555556,
														"#d8576b"
													],
													[
														0.6666666666666666,
														"#ed7953"
													],
													[
														0.7777777777777778,
														"#fb9f3a"
													],
													[
														0.8888888888888888,
														"#fdca26"
													],
													[
														1,
														"#f0f921"
													]
												],
												"type": "heatmapgl"
											}
										],
										"histogram": [
											{
												"marker": {
													"pattern": {
														"fillmode": "overlay",
														"size": 10,
														"solidity": 0.2
													}
												},
												"type": "histogram"
											}
										],
										"histogram2d": [
											{
												"colorbar": {
													"outlinewidth": 0,
													"ticks": ""
												},
												"colorscale": [
													[
														0,
														"#0d0887"
													],
													[
														0.1111111111111111,
														"#46039f"
													],
													[
														0.2222222222222222,
														"#7201a8"
													],
													[
														0.3333333333333333,
														"#9c179e"
													],
													[
														0.4444444444444444,
														"#bd3786"
													],
													[
														0.5555555555555556,
														"#d8576b"
													],
													[
														0.6666666666666666,
														"#ed7953"
													],
													[
														0.7777777777777778,
														"#fb9f3a"
													],
													[
														0.8888888888888888,
														"#fdca26"
													],
													[
														1,
														"#f0f921"
													]
												],
												"type": "histogram2d"
											}
										],
										"histogram2dcontour": [
											{
												"colorbar": {
													"outlinewidth": 0,
													"ticks": ""
												},
												"colorscale": [
													[
														0,
														"#0d0887"
													],
													[
														0.1111111111111111,
														"#46039f"
													],
													[
														0.2222222222222222,
														"#7201a8"
													],
													[
														0.3333333333333333,
														"#9c179e"
													],
													[
														0.4444444444444444,
														"#bd3786"
													],
													[
														0.5555555555555556,
														"#d8576b"
													],
													[
														0.6666666666666666,
														"#ed7953"
													],
													[
														0.7777777777777778,
														"#fb9f3a"
													],
													[
														0.8888888888888888,
														"#fdca26"
													],
													[
														1,
														"#f0f921"
													]
												],
												"type": "histogram2dcontour"
											}
										],
										"mesh3d": [
											{
												"colorbar": {
													"outlinewidth": 0,
													"ticks": ""
												},
												"type": "mesh3d"
											}
										],
										"parcoords": [
											{
												"line": {
													"colorbar": {
														"outlinewidth": 0,
														"ticks": ""
													}
												},
												"type": "parcoords"
											}
										],
										"pie": [
											{
												"automargin": true,
												"type": "pie"
											}
										],
										"scatter": [
											{
												"fillpattern": {
													"fillmode": "overlay",
													"size": 10,
													"solidity": 0.2
												},
												"type": "scatter"
											}
										],
										"scatter3d": [
											{
												"line": {
													"colorbar": {
														"outlinewidth": 0,
														"ticks": ""
													}
												},
												"marker": {
													"colorbar": {
														"outlinewidth": 0,
														"ticks": ""
													}
												},
												"type": "scatter3d"
											}
										],
										"scattercarpet": [
											{
												"marker": {
													"colorbar": {
														"outlinewidth": 0,
														"ticks": ""
													}
												},
												"type": "scattercarpet"
											}
										],
										"scattergeo": [
											{
												"marker": {
													"colorbar": {
														"outlinewidth": 0,
														"ticks": ""
													}
												},
												"type": "scattergeo"
											}
										],
										"scattergl": [
											{
												"marker": {
													"colorbar": {
														"outlinewidth": 0,
														"ticks": ""
													}
												},
												"type": "scattergl"
											}
										],
										"scattermapbox": [
											{
												"marker": {
													"colorbar": {
														"outlinewidth": 0,
														"ticks": ""
													}
												},
												"type": "scattermapbox"
											}
										],
										"scatterpolar": [
											{
												"marker": {
													"colorbar": {
														"outlinewidth": 0,
														"ticks": ""
													}
												},
												"type": "scatterpolar"
											}
										],
										"scatterpolargl": [
											{
												"marker": {
													"colorbar": {
														"outlinewidth": 0,
														"ticks": ""
													}
												},
												"type": "scatterpolargl"
											}
										],
										"scatterternary": [
											{
												"marker": {
													"colorbar": {
														"outlinewidth": 0,
														"ticks": ""
													}
												},
												"type": "scatterternary"
											}
										],
										"surface": [
											{
												"colorbar": {
													"outlinewidth": 0,
													"ticks": ""
												},
												"colorscale": [
													[
														0,
														"#0d0887"
													],
													[
														0.1111111111111111,
														"#46039f"
													],
													[
														0.2222222222222222,
														"#7201a8"
													],
													[
														0.3333333333333333,
														"#9c179e"
													],
													[
														0.4444444444444444,
														"#bd3786"
													],
													[
														0.5555555555555556,
														"#d8576b"
													],
													[
														0.6666666666666666,
														"#ed7953"
													],
													[
														0.7777777777777778,
														"#fb9f3a"
													],
													[
														0.8888888888888888,
														"#fdca26"
													],
													[
														1,
														"#f0f921"
													]
												],
												"type": "surface"
											}
										],
										"table": [
											{
												"cells": {
													"fill": {
														"color": "#EBF0F8"
													},
													"line": {
														"color": "white"
													}
												},
												"header": {
													"fill": {
														"color": "#C8D4E3"
													},
													"line": {
														"color": "white"
													}
												},
												"type": "table"
											}
										]
									},
									"layout": {
										"annotationdefaults": {
											"arrowcolor": "#2a3f5f",
											"arrowhead": 0,
											"arrowwidth": 1
										},
										"autotypenumbers": "strict",
										"coloraxis": {
											"colorbar": {
												"outlinewidth": 0,
												"ticks": ""
											}
										},
										"colorscale": {
											"diverging": [
												[
													0,
													"#8e0152"
												],
												[
													0.1,
													"#c51b7d"
												],
												[
													0.2,
													"#de77ae"
												],
												[
													0.3,
													"#f1b6da"
												],
												[
													0.4,
													"#fde0ef"
												],
												[
													0.5,
													"#f7f7f7"
												],
												[
													0.6,
													"#e6f5d0"
												],
												[
													0.7,
													"#b8e186"
												],
												[
													0.8,
													"#7fbc41"
												],
												[
													0.9,
													"#4d9221"
												],
												[
													1,
													"#276419"
												]
											],
											"sequential": [
												[
													0,
													"#0d0887"
												],
												[
													0.1111111111111111,
													"#46039f"
												],
												[
													0.2222222222222222,
													"#7201a8"
												],
												[
													0.3333333333333333,
													"#9c179e"
												],
												[
													0.4444444444444444,
													"#bd3786"
												],
												[
													0.5555555555555556,
													"#d8576b"
												],
												[
													0.6666666666666666,
													"#ed7953"
												],
												[
													0.7777777777777778,
													"#fb9f3a"
												],
												[
													0.8888888888888888,
													"#fdca26"
												],
												[
													1,
													"#f0f921"
												]
											],
											"sequentialminus": [
												[
													0,
													"#0d0887"
												],
												[
													0.1111111111111111,
													"#46039f"
												],
												[
													0.2222222222222222,
													"#7201a8"
												],
												[
													0.3333333333333333,
													"#9c179e"
												],
												[
													0.4444444444444444,
													"#bd3786"
												],
												[
													0.5555555555555556,
													"#d8576b"
												],
												[
													0.6666666666666666,
													"#ed7953"
												],
												[
													0.7777777777777778,
													"#fb9f3a"
												],
												[
													0.8888888888888888,
													"#fdca26"
												],
												[
													1,
													"#f0f921"
												]
											]
										},
										"colorway": [
											"#636efa",
											"#EF553B",
											"#00cc96",
											"#ab63fa",
											"#FFA15A",
											"#19d3f3",
											"#FF6692",
											"#B6E880",
											"#FF97FF",
											"#FECB52"
										],
										"font": {
											"color": "#2a3f5f"
										},
										"geo": {
											"bgcolor": "white",
											"lakecolor": "white",
											"landcolor": "#E5ECF6",
											"showlakes": true,
											"showland": true,
											"subunitcolor": "white"
										},
										"hoverlabel": {
											"align": "left"
										},
										"hovermode": "closest",
										"mapbox": {
											"style": "light"
										},
										"paper_bgcolor": "white",
										"plot_bgcolor": "#E5ECF6",
										"polar": {
											"angularaxis": {
												"gridcolor": "white",
												"linecolor": "white",
												"ticks": ""
											},
											"bgcolor": "#E5ECF6",
											"radialaxis": {
												"gridcolor": "white",
												"linecolor": "white",
												"ticks": ""
											}
										},
										"scene": {
											"xaxis": {
												"backgroundcolor": "#E5ECF6",
												"gridcolor": "white",
												"gridwidth": 2,
												"linecolor": "white",
												"showbackground": true,
												"ticks": "",
												"zerolinecolor": "white"
											},
											"yaxis": {
												"backgroundcolor": "#E5ECF6",
												"gridcolor": "white",
												"gridwidth": 2,
												"linecolor": "white",
												"showbackground": true,
												"ticks": "",
												"zerolinecolor": "white"
											},
											"zaxis": {
												"backgroundcolor": "#E5ECF6",
												"gridcolor": "white",
												"gridwidth": 2,
												"linecolor": "white",
												"showbackground": true,
												"ticks": "",
												"zerolinecolor": "white"
											}
										},
										"shapedefaults": {
											"line": {
												"color": "#2a3f5f"
											}
										},
										"ternary": {
											"aaxis": {
												"gridcolor": "white",
												"linecolor": "white",
												"ticks": ""
											},
											"baxis": {
												"gridcolor": "white",
												"linecolor": "white",
												"ticks": ""
											},
											"bgcolor": "#E5ECF6",
											"caxis": {
												"gridcolor": "white",
												"linecolor": "white",
												"ticks": ""
											}
										},
										"title": {
											"x": 0.05
										},
										"xaxis": {
											"automargin": true,
											"gridcolor": "white",
											"linecolor": "white",
											"ticks": "",
											"title": {
												"standoff": 15
											},
											"zerolinecolor": "white",
											"zerolinewidth": 2
										},
										"yaxis": {
											"automargin": true,
											"gridcolor": "white",
											"linecolor": "white",
											"ticks": "",
											"title": {
												"standoff": 15
											},
											"zerolinecolor": "white",
											"zerolinewidth": 2
										}
									}
								},
								"title": {
									"text": "Slice Plot"
								},
								"width": 1200,
								"xaxis": {
									"anchor": "y",
									"domain": [
										0,
										0.2125
									],
									"title": {
										"text": "learning_rate"
									}
								},
								"xaxis2": {
									"anchor": "y2",
									"domain": [
										0.2625,
										0.475
									],
									"title": {
										"text": "max_depth"
									}
								},
								"xaxis3": {
									"anchor": "y3",
									"domain": [
										0.525,
										0.7375
									],
									"title": {
										"text": "n_estimators"
									}
								},
								"xaxis4": {
									"anchor": "y4",
									"domain": [
										0.7875,
										1
									],
									"title": {
										"text": "subsample"
									}
								},
								"yaxis": {
									"anchor": "x",
									"domain": [
										0,
										1
									],
									"title": {
										"text": "Objective Value"
									}
								},
								"yaxis2": {
									"anchor": "x2",
									"domain": [
										0,
										1
									],
									"matches": "y",
									"showticklabels": false
								},
								"yaxis3": {
									"anchor": "x3",
									"domain": [
										0,
										1
									],
									"matches": "y",
									"showticklabels": false
								},
								"yaxis4": {
									"anchor": "x4",
									"domain": [
										0,
										1
									],
									"matches": "y",
									"showticklabels": false
								}
							}
						}
					},
					"metadata": {},
					"output_type": "display_data"
				}
			],
			"source": [
				"optuna.visualization.plot_slice(study, params=['n_estimators', 'learning_rate', 'max_depth', 'subsample'])"
			]
		},
		{
			"cell_type": "code",
			"execution_count": 40,
			"metadata": {},
			"outputs": [
				{
					"data": {
						"application/vnd.plotly.v1+json": {
							"config": {
								"plotlyServerURL": "https://plot.ly"
							},
							"data": [
								{
									"cliponaxis": false,
									"hovertemplate": [
										"subsample (FloatDistribution): 0.04316914173772661<extra></extra>",
										"max_depth (IntDistribution): 0.07373024898176729<extra></extra>",
										"n_estimators (IntDistribution): 0.12079406766662337<extra></extra>",
										"learning_rate (FloatDistribution): 0.7623065416138828<extra></extra>"
									],
									"name": "Objective Value",
									"orientation": "h",
									"text": [
										"0.04",
										"0.07",
										"0.12",
										"0.76"
									],
									"textposition": "outside",
									"type": "bar",
									"x": [
										0.04316914173772661,
										0.07373024898176729,
										0.12079406766662337,
										0.7623065416138828
									],
									"y": [
										"subsample",
										"max_depth",
										"n_estimators",
										"learning_rate"
									]
								}
							],
							"layout": {
								"template": {
									"data": {
										"bar": [
											{
												"error_x": {
													"color": "#2a3f5f"
												},
												"error_y": {
													"color": "#2a3f5f"
												},
												"marker": {
													"line": {
														"color": "#E5ECF6",
														"width": 0.5
													},
													"pattern": {
														"fillmode": "overlay",
														"size": 10,
														"solidity": 0.2
													}
												},
												"type": "bar"
											}
										],
										"barpolar": [
											{
												"marker": {
													"line": {
														"color": "#E5ECF6",
														"width": 0.5
													},
													"pattern": {
														"fillmode": "overlay",
														"size": 10,
														"solidity": 0.2
													}
												},
												"type": "barpolar"
											}
										],
										"carpet": [
											{
												"aaxis": {
													"endlinecolor": "#2a3f5f",
													"gridcolor": "white",
													"linecolor": "white",
													"minorgridcolor": "white",
													"startlinecolor": "#2a3f5f"
												},
												"baxis": {
													"endlinecolor": "#2a3f5f",
													"gridcolor": "white",
													"linecolor": "white",
													"minorgridcolor": "white",
													"startlinecolor": "#2a3f5f"
												},
												"type": "carpet"
											}
										],
										"choropleth": [
											{
												"colorbar": {
													"outlinewidth": 0,
													"ticks": ""
												},
												"type": "choropleth"
											}
										],
										"contour": [
											{
												"colorbar": {
													"outlinewidth": 0,
													"ticks": ""
												},
												"colorscale": [
													[
														0,
														"#0d0887"
													],
													[
														0.1111111111111111,
														"#46039f"
													],
													[
														0.2222222222222222,
														"#7201a8"
													],
													[
														0.3333333333333333,
														"#9c179e"
													],
													[
														0.4444444444444444,
														"#bd3786"
													],
													[
														0.5555555555555556,
														"#d8576b"
													],
													[
														0.6666666666666666,
														"#ed7953"
													],
													[
														0.7777777777777778,
														"#fb9f3a"
													],
													[
														0.8888888888888888,
														"#fdca26"
													],
													[
														1,
														"#f0f921"
													]
												],
												"type": "contour"
											}
										],
										"contourcarpet": [
											{
												"colorbar": {
													"outlinewidth": 0,
													"ticks": ""
												},
												"type": "contourcarpet"
											}
										],
										"heatmap": [
											{
												"colorbar": {
													"outlinewidth": 0,
													"ticks": ""
												},
												"colorscale": [
													[
														0,
														"#0d0887"
													],
													[
														0.1111111111111111,
														"#46039f"
													],
													[
														0.2222222222222222,
														"#7201a8"
													],
													[
														0.3333333333333333,
														"#9c179e"
													],
													[
														0.4444444444444444,
														"#bd3786"
													],
													[
														0.5555555555555556,
														"#d8576b"
													],
													[
														0.6666666666666666,
														"#ed7953"
													],
													[
														0.7777777777777778,
														"#fb9f3a"
													],
													[
														0.8888888888888888,
														"#fdca26"
													],
													[
														1,
														"#f0f921"
													]
												],
												"type": "heatmap"
											}
										],
										"heatmapgl": [
											{
												"colorbar": {
													"outlinewidth": 0,
													"ticks": ""
												},
												"colorscale": [
													[
														0,
														"#0d0887"
													],
													[
														0.1111111111111111,
														"#46039f"
													],
													[
														0.2222222222222222,
														"#7201a8"
													],
													[
														0.3333333333333333,
														"#9c179e"
													],
													[
														0.4444444444444444,
														"#bd3786"
													],
													[
														0.5555555555555556,
														"#d8576b"
													],
													[
														0.6666666666666666,
														"#ed7953"
													],
													[
														0.7777777777777778,
														"#fb9f3a"
													],
													[
														0.8888888888888888,
														"#fdca26"
													],
													[
														1,
														"#f0f921"
													]
												],
												"type": "heatmapgl"
											}
										],
										"histogram": [
											{
												"marker": {
													"pattern": {
														"fillmode": "overlay",
														"size": 10,
														"solidity": 0.2
													}
												},
												"type": "histogram"
											}
										],
										"histogram2d": [
											{
												"colorbar": {
													"outlinewidth": 0,
													"ticks": ""
												},
												"colorscale": [
													[
														0,
														"#0d0887"
													],
													[
														0.1111111111111111,
														"#46039f"
													],
													[
														0.2222222222222222,
														"#7201a8"
													],
													[
														0.3333333333333333,
														"#9c179e"
													],
													[
														0.4444444444444444,
														"#bd3786"
													],
													[
														0.5555555555555556,
														"#d8576b"
													],
													[
														0.6666666666666666,
														"#ed7953"
													],
													[
														0.7777777777777778,
														"#fb9f3a"
													],
													[
														0.8888888888888888,
														"#fdca26"
													],
													[
														1,
														"#f0f921"
													]
												],
												"type": "histogram2d"
											}
										],
										"histogram2dcontour": [
											{
												"colorbar": {
													"outlinewidth": 0,
													"ticks": ""
												},
												"colorscale": [
													[
														0,
														"#0d0887"
													],
													[
														0.1111111111111111,
														"#46039f"
													],
													[
														0.2222222222222222,
														"#7201a8"
													],
													[
														0.3333333333333333,
														"#9c179e"
													],
													[
														0.4444444444444444,
														"#bd3786"
													],
													[
														0.5555555555555556,
														"#d8576b"
													],
													[
														0.6666666666666666,
														"#ed7953"
													],
													[
														0.7777777777777778,
														"#fb9f3a"
													],
													[
														0.8888888888888888,
														"#fdca26"
													],
													[
														1,
														"#f0f921"
													]
												],
												"type": "histogram2dcontour"
											}
										],
										"mesh3d": [
											{
												"colorbar": {
													"outlinewidth": 0,
													"ticks": ""
												},
												"type": "mesh3d"
											}
										],
										"parcoords": [
											{
												"line": {
													"colorbar": {
														"outlinewidth": 0,
														"ticks": ""
													}
												},
												"type": "parcoords"
											}
										],
										"pie": [
											{
												"automargin": true,
												"type": "pie"
											}
										],
										"scatter": [
											{
												"fillpattern": {
													"fillmode": "overlay",
													"size": 10,
													"solidity": 0.2
												},
												"type": "scatter"
											}
										],
										"scatter3d": [
											{
												"line": {
													"colorbar": {
														"outlinewidth": 0,
														"ticks": ""
													}
												},
												"marker": {
													"colorbar": {
														"outlinewidth": 0,
														"ticks": ""
													}
												},
												"type": "scatter3d"
											}
										],
										"scattercarpet": [
											{
												"marker": {
													"colorbar": {
														"outlinewidth": 0,
														"ticks": ""
													}
												},
												"type": "scattercarpet"
											}
										],
										"scattergeo": [
											{
												"marker": {
													"colorbar": {
														"outlinewidth": 0,
														"ticks": ""
													}
												},
												"type": "scattergeo"
											}
										],
										"scattergl": [
											{
												"marker": {
													"colorbar": {
														"outlinewidth": 0,
														"ticks": ""
													}
												},
												"type": "scattergl"
											}
										],
										"scattermapbox": [
											{
												"marker": {
													"colorbar": {
														"outlinewidth": 0,
														"ticks": ""
													}
												},
												"type": "scattermapbox"
											}
										],
										"scatterpolar": [
											{
												"marker": {
													"colorbar": {
														"outlinewidth": 0,
														"ticks": ""
													}
												},
												"type": "scatterpolar"
											}
										],
										"scatterpolargl": [
											{
												"marker": {
													"colorbar": {
														"outlinewidth": 0,
														"ticks": ""
													}
												},
												"type": "scatterpolargl"
											}
										],
										"scatterternary": [
											{
												"marker": {
													"colorbar": {
														"outlinewidth": 0,
														"ticks": ""
													}
												},
												"type": "scatterternary"
											}
										],
										"surface": [
											{
												"colorbar": {
													"outlinewidth": 0,
													"ticks": ""
												},
												"colorscale": [
													[
														0,
														"#0d0887"
													],
													[
														0.1111111111111111,
														"#46039f"
													],
													[
														0.2222222222222222,
														"#7201a8"
													],
													[
														0.3333333333333333,
														"#9c179e"
													],
													[
														0.4444444444444444,
														"#bd3786"
													],
													[
														0.5555555555555556,
														"#d8576b"
													],
													[
														0.6666666666666666,
														"#ed7953"
													],
													[
														0.7777777777777778,
														"#fb9f3a"
													],
													[
														0.8888888888888888,
														"#fdca26"
													],
													[
														1,
														"#f0f921"
													]
												],
												"type": "surface"
											}
										],
										"table": [
											{
												"cells": {
													"fill": {
														"color": "#EBF0F8"
													},
													"line": {
														"color": "white"
													}
												},
												"header": {
													"fill": {
														"color": "#C8D4E3"
													},
													"line": {
														"color": "white"
													}
												},
												"type": "table"
											}
										]
									},
									"layout": {
										"annotationdefaults": {
											"arrowcolor": "#2a3f5f",
											"arrowhead": 0,
											"arrowwidth": 1
										},
										"autotypenumbers": "strict",
										"coloraxis": {
											"colorbar": {
												"outlinewidth": 0,
												"ticks": ""
											}
										},
										"colorscale": {
											"diverging": [
												[
													0,
													"#8e0152"
												],
												[
													0.1,
													"#c51b7d"
												],
												[
													0.2,
													"#de77ae"
												],
												[
													0.3,
													"#f1b6da"
												],
												[
													0.4,
													"#fde0ef"
												],
												[
													0.5,
													"#f7f7f7"
												],
												[
													0.6,
													"#e6f5d0"
												],
												[
													0.7,
													"#b8e186"
												],
												[
													0.8,
													"#7fbc41"
												],
												[
													0.9,
													"#4d9221"
												],
												[
													1,
													"#276419"
												]
											],
											"sequential": [
												[
													0,
													"#0d0887"
												],
												[
													0.1111111111111111,
													"#46039f"
												],
												[
													0.2222222222222222,
													"#7201a8"
												],
												[
													0.3333333333333333,
													"#9c179e"
												],
												[
													0.4444444444444444,
													"#bd3786"
												],
												[
													0.5555555555555556,
													"#d8576b"
												],
												[
													0.6666666666666666,
													"#ed7953"
												],
												[
													0.7777777777777778,
													"#fb9f3a"
												],
												[
													0.8888888888888888,
													"#fdca26"
												],
												[
													1,
													"#f0f921"
												]
											],
											"sequentialminus": [
												[
													0,
													"#0d0887"
												],
												[
													0.1111111111111111,
													"#46039f"
												],
												[
													0.2222222222222222,
													"#7201a8"
												],
												[
													0.3333333333333333,
													"#9c179e"
												],
												[
													0.4444444444444444,
													"#bd3786"
												],
												[
													0.5555555555555556,
													"#d8576b"
												],
												[
													0.6666666666666666,
													"#ed7953"
												],
												[
													0.7777777777777778,
													"#fb9f3a"
												],
												[
													0.8888888888888888,
													"#fdca26"
												],
												[
													1,
													"#f0f921"
												]
											]
										},
										"colorway": [
											"#636efa",
											"#EF553B",
											"#00cc96",
											"#ab63fa",
											"#FFA15A",
											"#19d3f3",
											"#FF6692",
											"#B6E880",
											"#FF97FF",
											"#FECB52"
										],
										"font": {
											"color": "#2a3f5f"
										},
										"geo": {
											"bgcolor": "white",
											"lakecolor": "white",
											"landcolor": "#E5ECF6",
											"showlakes": true,
											"showland": true,
											"subunitcolor": "white"
										},
										"hoverlabel": {
											"align": "left"
										},
										"hovermode": "closest",
										"mapbox": {
											"style": "light"
										},
										"paper_bgcolor": "white",
										"plot_bgcolor": "#E5ECF6",
										"polar": {
											"angularaxis": {
												"gridcolor": "white",
												"linecolor": "white",
												"ticks": ""
											},
											"bgcolor": "#E5ECF6",
											"radialaxis": {
												"gridcolor": "white",
												"linecolor": "white",
												"ticks": ""
											}
										},
										"scene": {
											"xaxis": {
												"backgroundcolor": "#E5ECF6",
												"gridcolor": "white",
												"gridwidth": 2,
												"linecolor": "white",
												"showbackground": true,
												"ticks": "",
												"zerolinecolor": "white"
											},
											"yaxis": {
												"backgroundcolor": "#E5ECF6",
												"gridcolor": "white",
												"gridwidth": 2,
												"linecolor": "white",
												"showbackground": true,
												"ticks": "",
												"zerolinecolor": "white"
											},
											"zaxis": {
												"backgroundcolor": "#E5ECF6",
												"gridcolor": "white",
												"gridwidth": 2,
												"linecolor": "white",
												"showbackground": true,
												"ticks": "",
												"zerolinecolor": "white"
											}
										},
										"shapedefaults": {
											"line": {
												"color": "#2a3f5f"
											}
										},
										"ternary": {
											"aaxis": {
												"gridcolor": "white",
												"linecolor": "white",
												"ticks": ""
											},
											"baxis": {
												"gridcolor": "white",
												"linecolor": "white",
												"ticks": ""
											},
											"bgcolor": "#E5ECF6",
											"caxis": {
												"gridcolor": "white",
												"linecolor": "white",
												"ticks": ""
											}
										},
										"title": {
											"x": 0.05
										},
										"xaxis": {
											"automargin": true,
											"gridcolor": "white",
											"linecolor": "white",
											"ticks": "",
											"title": {
												"standoff": 15
											},
											"zerolinecolor": "white",
											"zerolinewidth": 2
										},
										"yaxis": {
											"automargin": true,
											"gridcolor": "white",
											"linecolor": "white",
											"ticks": "",
											"title": {
												"standoff": 15
											},
											"zerolinecolor": "white",
											"zerolinewidth": 2
										}
									}
								},
								"title": {
									"text": "Hyperparameter Importances"
								},
								"xaxis": {
									"title": {
										"text": "Hyperparameter Importance"
									}
								},
								"yaxis": {
									"title": {
										"text": "Hyperparameter"
									}
								}
							}
						}
					},
					"metadata": {},
					"output_type": "display_data"
				}
			],
			"source": [
				"optuna.visualization.plot_param_importances(study)"
			]
		}
	],
	"metadata": {
		"kernelspec": {
			"display_name": "Python 3",
			"language": "python",
			"name": "python3"
		},
		"language_info": {
			"codemirror_mode": {
				"name": "ipython",
				"version": 3
			},
			"file_extension": ".py",
			"mimetype": "text/x-python",
			"name": "python",
			"nbconvert_exporter": "python",
			"pygments_lexer": "ipython3",
			"version": "3.11.4"
		}
	},
	"nbformat": 4,
	"nbformat_minor": 2
}
