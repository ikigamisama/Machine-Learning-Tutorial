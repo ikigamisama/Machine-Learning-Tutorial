{
 "cells": [
  {
   "cell_type": "markdown",
   "metadata": {},
   "source": [
    "# **K-Means Clustering**"
   ]
  },
  {
   "cell_type": "markdown",
   "metadata": {},
   "source": [
    "**K-Means Clustering** is one of the simplest and most widely used unsupervised learning algorithms for partitioning a dataset into distinct groups or clusters. In K-Means, each cluster is represented by a centroid, and each data point is assigned to the cluster with the closest centroid.\n",
    "\n",
    "The key idea behind K-Means is to partition data into k clusters, where k is a predefined number. The algorithm works iteratively to assign data points to one of the k clusters based on the similarity (often measured by Euclidean distance).\n",
    "\n"
   ]
  },
  {
   "cell_type": "markdown",
   "metadata": {},
   "source": [
    "### Why do we use K-Means Clustering?\n",
    "\n",
    "K-Means Clustering is highly popular due to:\n",
    "\n",
    "- **Simplicity**: Easy to understand and implement.\n",
    "\n",
    "- **Speed**: Efficient for clustering large datasets.\n",
    "\n",
    "- **Applicability**: Useful for a variety of tasks such as customer segmentation, image compression, and document clustering.\n",
    "\n",
    "- **Interpretability**: Results are easy to interpret, as each data point belongs to exactly one cluster."
   ]
  },
  {
   "cell_type": "markdown",
   "metadata": {},
   "source": [
    "### How does K-Means Clustering work?\n",
    "\n",
    "The algorithm works in the following steps:\n",
    "\n",
    "Initialization:\n",
    "\n",
    "Choose the number of clusters k.\n",
    "Randomly initialize k centroids (cluster centers) in the feature space.\n",
    "Assignment (Step 1):\n",
    "\n",
    "For each data point in the dataset, calculate its distance to each of the k centroids.\n",
    "Assign each data point to the nearest centroid (based on minimum distance).\n",
    "Update Centroids (Step 2):\n",
    "\n",
    "After the assignment step, recompute the centroids by calculating the mean of all data points assigned to each cluster.\n",
    "The new centroid will be the new center of the cluster.\n",
    "Repeat:\n",
    "\n",
    "Repeat the Assignment and Update steps iteratively until the centroids do not change significantly, or until a predefined number of iterations is reached. This is called convergence.\n",
    "Output:\n",
    "\n",
    "The algorithm produces k clusters, each with a centroid and a set of assigned data points.\n"
   ]
  },
  {
   "cell_type": "markdown",
   "metadata": {},
   "source": [
    "### When to use K-Means Clustering?\n",
    "\n",
    "K-Means is best suited for problems where:\n",
    "\n",
    "You know the number of clusters (k): K-Means requires you to specify k in advance.\n",
    "Clusters are spherical and equally sized: K-Means assumes clusters are compact, and all of approximately equal size.\n",
    "There are no significant outliers: K-Means is sensitive to outliers, as they can heavily skew the centroid calculation.\n",
    "Common use cases include:\n",
    "\n",
    "Customer Segmentation: Group customers with similar buying behaviors.\n",
    "Image Compression: Reduce image size by clustering similar pixels.\n",
    "Document Clustering: Group similar documents based on their content."
   ]
  },
  {
   "cell_type": "code",
   "execution_count": 1,
   "metadata": {},
   "outputs": [
    {
     "data": {
      "image/png": "[encoded data removed]",
      "text/plain": [
       "<Figure size 640x480 with 1 Axes>"
      ]
     },
     "metadata": {},
     "output_type": "display_data"
    }
   ],
   "source": [
    "from sklearn.cluster import KMeans\n",
    "import numpy as np\n",
    "import matplotlib.pyplot as plt\n",
    "\n",
    "X = np.array([[1, 2], [1, 4], [1, 0],\n",
    "              [4, 2], [4, 4], [4, 0]])\n",
    "\n",
    "kmeans = KMeans(n_clusters=2, random_state=0)\n",
    "\n",
    "kmeans.fit(X)\n",
    "labels = kmeans.predict(X)\n",
    "\n",
    "centroids = kmeans.cluster_centers_\n",
    "\n",
    "# Visualize the clusters\n",
    "plt.scatter(X[:, 0], X[:, 1], c=labels, cmap='viridis')\n",
    "plt.scatter(centroids[:, 0], centroids[:, 1], c='red', marker='x')\n",
    "plt.title(\"K-Means Clustering (k=2)\")\n",
    "plt.show()"
   ]
  },
  {
   "cell_type": "markdown",
   "metadata": {},
   "source": [
    "### Advantages of K-Means Clustering:\n",
    "\n",
    "Scalability: Can handle large datasets efficiently.\n",
    "Easy to implement: Straightforward in both understanding and coding.\n",
    "Fast convergence: The iterative approach usually converges quickly.\n",
    "\n",
    "### Disadvantages of K-Means Clustering:\n",
    "\n",
    "Choosing k: The number of clusters (k) must be pre-specified, and determining the optimal k can be challenging.\n",
    "Sensitive to initialization: Different random initializations can lead to different clustering results (though you can mitigate this by running the algorithm multiple times or using the k-means++ initialization method).\n",
    "Sensitive to outliers: Outliers can significantly affect cluster centroids.\n",
    "Assumption of spherical clusters: K-Means works best when clusters are of equal size and spherical in shape."
   ]
  },
  {
   "cell_type": "markdown",
   "metadata": {},
   "source": [
    "### Who uses K-Means Clustering?\n",
    "\n",
    "- **Marketers**: To segment customers based on purchasing patterns.\n",
    "\n",
    "- **Biologists**: To classify genes with similar characteristics.\n",
    "\n",
    "- **Image Analysts**: To compress images or classify regions in an image.\n",
    "\n",
    "- **Text Miners**: To group similar documents or articles."
   ]
  },
  {
   "cell_type": "markdown",
   "metadata": {},
   "source": []
  }
 ],
 "metadata": {
  "kernelspec": {
   "display_name": "Python 3",
   "language": "python",
   "name": "python3"
  },
  "language_info": {
   "codemirror_mode": {
    "name": "ipython",
    "version": 3
   },
   "file_extension": ".py",
   "mimetype": "text/x-python",
   "name": "python",
   "nbconvert_exporter": "python",
   "pygments_lexer": "ipython3",
   "version": "3.11.4"
  }
 },
 "nbformat": 4,
 "nbformat_minor": 2
}
